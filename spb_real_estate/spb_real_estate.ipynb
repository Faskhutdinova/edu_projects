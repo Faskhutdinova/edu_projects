{
 "cells": [
  {
   "cell_type": "markdown",
   "metadata": {},
   "source": [
    "# Исследование объявлений о продаже квартир\n"
   ]
  },
  {
   "cell_type": "markdown",
   "metadata": {},
   "source": [
    "Имеются данные сервиса Яндекс.Недвижимость — архив объявлений о продаже квартир в Санкт-Петербурге и соседних населённых пунктов за несколько лет.\n",
    "Задача - определить рыночную стоимость объектов недвижимости, а для этого нужно установить параметры, влияющие на стоимость. Это позволит построить автоматизированную систему: она отследит аномалии и мошенническую деятельность.\n",
    "\n",
    "Для каждого объекта на продажу доступны два вида данных: первые - вписаны пользователем сервиса, вторые — получены автоматически на основе картографических данных (например, расстояние до центра, аэропорта и тд). "
   ]
  },
  {
   "cell_type": "markdown",
   "metadata": {},
   "source": [
    "## Оглавление. "
   ]
  },
  {
   "cell_type": "markdown",
   "metadata": {},
   "source": [
    "1.[Открытие данных](#start)   \n",
    "2.[Предобработка данных](#preprocessing)\n",
    "* [Обработка пропущенных значений](#null)\n",
    "* [Замена типа данных](#int)\n",
    "\n",
    "3.[Добавление синтетических данных](#add)  \n",
    "4.[Исследовательский анализ](#analysis)\n",
    "* [Исследование параметров](#parametr)\n",
    "* [Исследование времени продажи квартир](#time)\n",
    "* [Преобразование данных - получение среза данных.](#transform) \n",
    "* [Выявление факторов, влияющих на стоимость жилья](#search)\n",
    "* [Анализ 10 населенных пунктов с наибольшим количеством объявлений](#ten)\n",
    "* [Оценка стоимости жилья в Питере в зависимости от удаленности от центра](#spb)\n",
    "* [Исследование квартир в центре города](#centr)\n",
    "\n",
    "5.[Выводы](#conc)\n"
   ]
  },
  {
   "cell_type": "markdown",
   "metadata": {},
   "source": [
    "## Открытие данных. Изучение общей информации. <a id=\"#start\"></a>"
   ]
  },
  {
   "cell_type": "code",
   "execution_count": 1,
   "metadata": {},
   "outputs": [],
   "source": [
    "import pandas as pd\n",
    "import matplotlib.pyplot as plt"
   ]
  },
  {
   "cell_type": "code",
   "execution_count": 2,
   "metadata": {},
   "outputs": [
    {
     "data": {
      "text/html": [
       "<div>\n",
       "<style scoped>\n",
       "    .dataframe tbody tr th:only-of-type {\n",
       "        vertical-align: middle;\n",
       "    }\n",
       "\n",
       "    .dataframe tbody tr th {\n",
       "        vertical-align: top;\n",
       "    }\n",
       "\n",
       "    .dataframe thead th {\n",
       "        text-align: right;\n",
       "    }\n",
       "</style>\n",
       "<table border=\"1\" class=\"dataframe\">\n",
       "  <thead>\n",
       "    <tr style=\"text-align: right;\">\n",
       "      <th></th>\n",
       "      <th>total_images</th>\n",
       "      <th>last_price</th>\n",
       "      <th>total_area</th>\n",
       "      <th>first_day_exposition</th>\n",
       "      <th>rooms</th>\n",
       "      <th>ceiling_height</th>\n",
       "      <th>floors_total</th>\n",
       "      <th>living_area</th>\n",
       "      <th>floor</th>\n",
       "      <th>is_apartment</th>\n",
       "      <th>...</th>\n",
       "      <th>kitchen_area</th>\n",
       "      <th>balcony</th>\n",
       "      <th>locality_name</th>\n",
       "      <th>airports_nearest</th>\n",
       "      <th>cityCenters_nearest</th>\n",
       "      <th>parks_around3000</th>\n",
       "      <th>parks_nearest</th>\n",
       "      <th>ponds_around3000</th>\n",
       "      <th>ponds_nearest</th>\n",
       "      <th>days_exposition</th>\n",
       "    </tr>\n",
       "  </thead>\n",
       "  <tbody>\n",
       "    <tr>\n",
       "      <td>0</td>\n",
       "      <td>20</td>\n",
       "      <td>13000000.0</td>\n",
       "      <td>108.0</td>\n",
       "      <td>2019-03-07T00:00:00</td>\n",
       "      <td>3</td>\n",
       "      <td>2.70</td>\n",
       "      <td>16.0</td>\n",
       "      <td>51.0</td>\n",
       "      <td>8</td>\n",
       "      <td>NaN</td>\n",
       "      <td>...</td>\n",
       "      <td>25.0</td>\n",
       "      <td>NaN</td>\n",
       "      <td>Санкт-Петербург</td>\n",
       "      <td>18863.0</td>\n",
       "      <td>16028.0</td>\n",
       "      <td>1.0</td>\n",
       "      <td>482.0</td>\n",
       "      <td>2.0</td>\n",
       "      <td>755.0</td>\n",
       "      <td>NaN</td>\n",
       "    </tr>\n",
       "    <tr>\n",
       "      <td>1</td>\n",
       "      <td>7</td>\n",
       "      <td>3350000.0</td>\n",
       "      <td>40.4</td>\n",
       "      <td>2018-12-04T00:00:00</td>\n",
       "      <td>1</td>\n",
       "      <td>NaN</td>\n",
       "      <td>11.0</td>\n",
       "      <td>18.6</td>\n",
       "      <td>1</td>\n",
       "      <td>NaN</td>\n",
       "      <td>...</td>\n",
       "      <td>11.0</td>\n",
       "      <td>2.0</td>\n",
       "      <td>посёлок Шушары</td>\n",
       "      <td>12817.0</td>\n",
       "      <td>18603.0</td>\n",
       "      <td>0.0</td>\n",
       "      <td>NaN</td>\n",
       "      <td>0.0</td>\n",
       "      <td>NaN</td>\n",
       "      <td>81.0</td>\n",
       "    </tr>\n",
       "    <tr>\n",
       "      <td>2</td>\n",
       "      <td>10</td>\n",
       "      <td>5196000.0</td>\n",
       "      <td>56.0</td>\n",
       "      <td>2015-08-20T00:00:00</td>\n",
       "      <td>2</td>\n",
       "      <td>NaN</td>\n",
       "      <td>5.0</td>\n",
       "      <td>34.3</td>\n",
       "      <td>4</td>\n",
       "      <td>NaN</td>\n",
       "      <td>...</td>\n",
       "      <td>8.3</td>\n",
       "      <td>0.0</td>\n",
       "      <td>Санкт-Петербург</td>\n",
       "      <td>21741.0</td>\n",
       "      <td>13933.0</td>\n",
       "      <td>1.0</td>\n",
       "      <td>90.0</td>\n",
       "      <td>2.0</td>\n",
       "      <td>574.0</td>\n",
       "      <td>558.0</td>\n",
       "    </tr>\n",
       "    <tr>\n",
       "      <td>3</td>\n",
       "      <td>0</td>\n",
       "      <td>64900000.0</td>\n",
       "      <td>159.0</td>\n",
       "      <td>2015-07-24T00:00:00</td>\n",
       "      <td>3</td>\n",
       "      <td>NaN</td>\n",
       "      <td>14.0</td>\n",
       "      <td>NaN</td>\n",
       "      <td>9</td>\n",
       "      <td>NaN</td>\n",
       "      <td>...</td>\n",
       "      <td>NaN</td>\n",
       "      <td>0.0</td>\n",
       "      <td>Санкт-Петербург</td>\n",
       "      <td>28098.0</td>\n",
       "      <td>6800.0</td>\n",
       "      <td>2.0</td>\n",
       "      <td>84.0</td>\n",
       "      <td>3.0</td>\n",
       "      <td>234.0</td>\n",
       "      <td>424.0</td>\n",
       "    </tr>\n",
       "    <tr>\n",
       "      <td>4</td>\n",
       "      <td>2</td>\n",
       "      <td>10000000.0</td>\n",
       "      <td>100.0</td>\n",
       "      <td>2018-06-19T00:00:00</td>\n",
       "      <td>2</td>\n",
       "      <td>3.03</td>\n",
       "      <td>14.0</td>\n",
       "      <td>32.0</td>\n",
       "      <td>13</td>\n",
       "      <td>NaN</td>\n",
       "      <td>...</td>\n",
       "      <td>41.0</td>\n",
       "      <td>NaN</td>\n",
       "      <td>Санкт-Петербург</td>\n",
       "      <td>31856.0</td>\n",
       "      <td>8098.0</td>\n",
       "      <td>2.0</td>\n",
       "      <td>112.0</td>\n",
       "      <td>1.0</td>\n",
       "      <td>48.0</td>\n",
       "      <td>121.0</td>\n",
       "    </tr>\n",
       "  </tbody>\n",
       "</table>\n",
       "<p>5 rows × 22 columns</p>\n",
       "</div>"
      ],
      "text/plain": [
       "   total_images  last_price  total_area first_day_exposition  rooms  \\\n",
       "0            20  13000000.0       108.0  2019-03-07T00:00:00      3   \n",
       "1             7   3350000.0        40.4  2018-12-04T00:00:00      1   \n",
       "2            10   5196000.0        56.0  2015-08-20T00:00:00      2   \n",
       "3             0  64900000.0       159.0  2015-07-24T00:00:00      3   \n",
       "4             2  10000000.0       100.0  2018-06-19T00:00:00      2   \n",
       "\n",
       "   ceiling_height  floors_total  living_area  floor is_apartment  ...  \\\n",
       "0            2.70          16.0         51.0      8          NaN  ...   \n",
       "1             NaN          11.0         18.6      1          NaN  ...   \n",
       "2             NaN           5.0         34.3      4          NaN  ...   \n",
       "3             NaN          14.0          NaN      9          NaN  ...   \n",
       "4            3.03          14.0         32.0     13          NaN  ...   \n",
       "\n",
       "   kitchen_area  balcony    locality_name  airports_nearest  \\\n",
       "0          25.0      NaN  Санкт-Петербург           18863.0   \n",
       "1          11.0      2.0   посёлок Шушары           12817.0   \n",
       "2           8.3      0.0  Санкт-Петербург           21741.0   \n",
       "3           NaN      0.0  Санкт-Петербург           28098.0   \n",
       "4          41.0      NaN  Санкт-Петербург           31856.0   \n",
       "\n",
       "  cityCenters_nearest  parks_around3000  parks_nearest  ponds_around3000  \\\n",
       "0             16028.0               1.0          482.0               2.0   \n",
       "1             18603.0               0.0            NaN               0.0   \n",
       "2             13933.0               1.0           90.0               2.0   \n",
       "3              6800.0               2.0           84.0               3.0   \n",
       "4              8098.0               2.0          112.0               1.0   \n",
       "\n",
       "   ponds_nearest  days_exposition  \n",
       "0          755.0              NaN  \n",
       "1            NaN             81.0  \n",
       "2          574.0            558.0  \n",
       "3          234.0            424.0  \n",
       "4           48.0            121.0  \n",
       "\n",
       "[5 rows x 22 columns]"
      ]
     },
     "execution_count": 2,
     "metadata": {},
     "output_type": "execute_result"
    }
   ],
   "source": [
    "df = pd.read_csv('/datasets/real_estate_data.csv', sep = '\\t')\n",
    "df.head()"
   ]
  },
  {
   "cell_type": "markdown",
   "metadata": {},
   "source": [
    "Выведем общую информацию."
   ]
  },
  {
   "cell_type": "code",
   "execution_count": 3,
   "metadata": {},
   "outputs": [
    {
     "name": "stdout",
     "output_type": "stream",
     "text": [
      "<class 'pandas.core.frame.DataFrame'>\n",
      "RangeIndex: 23699 entries, 0 to 23698\n",
      "Data columns (total 22 columns):\n",
      "total_images            23699 non-null int64\n",
      "last_price              23699 non-null float64\n",
      "total_area              23699 non-null float64\n",
      "first_day_exposition    23699 non-null object\n",
      "rooms                   23699 non-null int64\n",
      "ceiling_height          14504 non-null float64\n",
      "floors_total            23613 non-null float64\n",
      "living_area             21796 non-null float64\n",
      "floor                   23699 non-null int64\n",
      "is_apartment            2775 non-null object\n",
      "studio                  23699 non-null bool\n",
      "open_plan               23699 non-null bool\n",
      "kitchen_area            21421 non-null float64\n",
      "balcony                 12180 non-null float64\n",
      "locality_name           23650 non-null object\n",
      "airports_nearest        18157 non-null float64\n",
      "cityCenters_nearest     18180 non-null float64\n",
      "parks_around3000        18181 non-null float64\n",
      "parks_nearest           8079 non-null float64\n",
      "ponds_around3000        18181 non-null float64\n",
      "ponds_nearest           9110 non-null float64\n",
      "days_exposition         20518 non-null float64\n",
      "dtypes: bool(2), float64(14), int64(3), object(3)\n",
      "memory usage: 3.7+ MB\n"
     ]
    }
   ],
   "source": [
    "df.info()"
   ]
  },
  {
   "cell_type": "markdown",
   "metadata": {},
   "source": [
    "### Вывод"
   ]
  },
  {
   "cell_type": "markdown",
   "metadata": {},
   "source": [
    "Итак, всего в данном датафрейме 23699 наблюдений (объявлений). Первое, что бросается в глаза -  в большинстве столбцов мы видим пропуски. Второе - разнообразие типов данных, порой не совсем корректных, например, тип данных столбцов 'floors_total', 'balcony'  и др. Подготовим данные к анализу."
   ]
  },
  {
   "cell_type": "markdown",
   "metadata": {},
   "source": [
    "## Предобработка данных <a id=\"preprocessing\"></a>"
   ]
  },
  {
   "cell_type": "markdown",
   "metadata": {},
   "source": [
    "### Обработка пропущенных значений <a id=\"null\"></a>"
   ]
  },
  {
   "cell_type": "markdown",
   "metadata": {},
   "source": [
    "Проанализировав столбцы, в которых есть пропуски, можно разделить их на 5 групп:\n",
    "1. пропуски можно заменить средним значением по столбцу. К таким столбцам относятся - 'ceiling_height', 'living_area', 'kitchen_area', 'days_exposition', 'cityCenters_nearest';\n",
    "2. пропущенные значения можно заменить на 0 в столбцах, содержащих информацию о количестве балконов. Потому как отсутствующие значения в этом столбце говорят об отсутствии балконов;\n",
    "3. пропущенные значения можно удалить, например в столбцах 'floors_total', 'locality_name', где количество пропущенных значений менее 1% от всех значений датафрейма;\n",
    "4. пропущенные значения в столбце 'is_apartment' скорее всего принимают значение False, потому как отсутствующие значения в этом столбце говорят о том, что жилье не является апартаментами;\n",
    "5. в остальных столбцах с пропущенным значением вместо пропусков проставить пустые значения (нет информации), так как данные относятся к информации, полученной на основе картографических данных."
   ]
  },
  {
   "cell_type": "code",
   "execution_count": 4,
   "metadata": {},
   "outputs": [
    {
     "data": {
      "text/plain": [
       "total_images                0\n",
       "last_price                  0\n",
       "total_area                  0\n",
       "first_day_exposition        0\n",
       "rooms                       0\n",
       "ceiling_height           9195\n",
       "floors_total               86\n",
       "living_area              1903\n",
       "floor                       0\n",
       "is_apartment            20924\n",
       "studio                      0\n",
       "open_plan                   0\n",
       "kitchen_area             2278\n",
       "balcony                 11519\n",
       "locality_name              49\n",
       "airports_nearest         5542\n",
       "cityCenters_nearest      5519\n",
       "parks_around3000         5518\n",
       "parks_nearest           15620\n",
       "ponds_around3000         5518\n",
       "ponds_nearest           14589\n",
       "days_exposition          3181\n",
       "dtype: int64"
      ]
     },
     "execution_count": 4,
     "metadata": {},
     "output_type": "execute_result"
    }
   ],
   "source": [
    "df.isnull().sum()"
   ]
  },
  {
   "cell_type": "markdown",
   "metadata": {},
   "source": [
    "Удалим пропущенные значения в столбцах 'floors_total' и 'locality_name'."
   ]
  },
  {
   "cell_type": "code",
   "execution_count": 5,
   "metadata": {},
   "outputs": [
    {
     "name": "stdout",
     "output_type": "stream",
     "text": [
      "0\n",
      "0\n"
     ]
    }
   ],
   "source": [
    "df.dropna(subset= ['floors_total', 'locality_name'], inplace = True)\n",
    "print(df['floors_total'].isna().sum())#проверка\n",
    "print(df['locality_name'].isna().sum())#проверка"
   ]
  },
  {
   "cell_type": "markdown",
   "metadata": {},
   "source": [
    "Заполним пропуски в столбцах 'ceiling_height', 'living_area', 'kitchen_area', 'days_exposition' и 'cityCenters_nearest'. "
   ]
  },
  {
   "cell_type": "code",
   "execution_count": 6,
   "metadata": {},
   "outputs": [
    {
     "name": "stdout",
     "output_type": "stream",
     "text": [
      "0\n",
      "0\n",
      "0\n",
      "0\n",
      "0\n"
     ]
    }
   ],
   "source": [
    "list = ['ceiling_height', 'living_area', 'kitchen_area', 'days_exposition', 'cityCenters_nearest']\n",
    "for element in list:\n",
    "    df[element] = df[element].fillna(value= df[element].median())\n",
    "\n",
    "print(df['ceiling_height'].isna().sum())#проверка\n",
    "print(df['living_area'].isna().sum())#проверка\n",
    "print(df['kitchen_area'].isna().sum())#проверка\n",
    "print(df['days_exposition'].isna().sum())#проверка\n",
    "print(df['cityCenters_nearest'].isna().sum())#проверка"
   ]
  },
  {
   "cell_type": "code",
   "execution_count": 7,
   "metadata": {},
   "outputs": [
    {
     "data": {
      "text/html": [
       "<div>\n",
       "<style scoped>\n",
       "    .dataframe tbody tr th:only-of-type {\n",
       "        vertical-align: middle;\n",
       "    }\n",
       "\n",
       "    .dataframe tbody tr th {\n",
       "        vertical-align: top;\n",
       "    }\n",
       "\n",
       "    .dataframe thead th {\n",
       "        text-align: right;\n",
       "    }\n",
       "</style>\n",
       "<table border=\"1\" class=\"dataframe\">\n",
       "  <thead>\n",
       "    <tr style=\"text-align: right;\">\n",
       "      <th></th>\n",
       "      <th>total_images</th>\n",
       "      <th>last_price</th>\n",
       "      <th>total_area</th>\n",
       "      <th>first_day_exposition</th>\n",
       "      <th>rooms</th>\n",
       "      <th>ceiling_height</th>\n",
       "      <th>floors_total</th>\n",
       "      <th>living_area</th>\n",
       "      <th>floor</th>\n",
       "      <th>is_apartment</th>\n",
       "      <th>...</th>\n",
       "      <th>kitchen_area</th>\n",
       "      <th>balcony</th>\n",
       "      <th>locality_name</th>\n",
       "      <th>airports_nearest</th>\n",
       "      <th>cityCenters_nearest</th>\n",
       "      <th>parks_around3000</th>\n",
       "      <th>parks_nearest</th>\n",
       "      <th>ponds_around3000</th>\n",
       "      <th>ponds_nearest</th>\n",
       "      <th>days_exposition</th>\n",
       "    </tr>\n",
       "  </thead>\n",
       "  <tbody>\n",
       "    <tr>\n",
       "      <td>0</td>\n",
       "      <td>20</td>\n",
       "      <td>13000000.0</td>\n",
       "      <td>108.0</td>\n",
       "      <td>2019-03-07T00:00:00</td>\n",
       "      <td>3</td>\n",
       "      <td>2.70</td>\n",
       "      <td>16.0</td>\n",
       "      <td>51.0</td>\n",
       "      <td>8</td>\n",
       "      <td>NaN</td>\n",
       "      <td>...</td>\n",
       "      <td>25.0</td>\n",
       "      <td>NaN</td>\n",
       "      <td>Санкт-Петербург</td>\n",
       "      <td>18863.0</td>\n",
       "      <td>16028.0</td>\n",
       "      <td>1.0</td>\n",
       "      <td>482.0</td>\n",
       "      <td>2.0</td>\n",
       "      <td>755.0</td>\n",
       "      <td>95.0</td>\n",
       "    </tr>\n",
       "    <tr>\n",
       "      <td>1</td>\n",
       "      <td>7</td>\n",
       "      <td>3350000.0</td>\n",
       "      <td>40.4</td>\n",
       "      <td>2018-12-04T00:00:00</td>\n",
       "      <td>1</td>\n",
       "      <td>2.65</td>\n",
       "      <td>11.0</td>\n",
       "      <td>18.6</td>\n",
       "      <td>1</td>\n",
       "      <td>NaN</td>\n",
       "      <td>...</td>\n",
       "      <td>11.0</td>\n",
       "      <td>2.0</td>\n",
       "      <td>посёлок Шушары</td>\n",
       "      <td>12817.0</td>\n",
       "      <td>18603.0</td>\n",
       "      <td>0.0</td>\n",
       "      <td>NaN</td>\n",
       "      <td>0.0</td>\n",
       "      <td>NaN</td>\n",
       "      <td>81.0</td>\n",
       "    </tr>\n",
       "    <tr>\n",
       "      <td>2</td>\n",
       "      <td>10</td>\n",
       "      <td>5196000.0</td>\n",
       "      <td>56.0</td>\n",
       "      <td>2015-08-20T00:00:00</td>\n",
       "      <td>2</td>\n",
       "      <td>2.65</td>\n",
       "      <td>5.0</td>\n",
       "      <td>34.3</td>\n",
       "      <td>4</td>\n",
       "      <td>NaN</td>\n",
       "      <td>...</td>\n",
       "      <td>8.3</td>\n",
       "      <td>0.0</td>\n",
       "      <td>Санкт-Петербург</td>\n",
       "      <td>21741.0</td>\n",
       "      <td>13933.0</td>\n",
       "      <td>1.0</td>\n",
       "      <td>90.0</td>\n",
       "      <td>2.0</td>\n",
       "      <td>574.0</td>\n",
       "      <td>558.0</td>\n",
       "    </tr>\n",
       "    <tr>\n",
       "      <td>3</td>\n",
       "      <td>0</td>\n",
       "      <td>64900000.0</td>\n",
       "      <td>159.0</td>\n",
       "      <td>2015-07-24T00:00:00</td>\n",
       "      <td>3</td>\n",
       "      <td>2.65</td>\n",
       "      <td>14.0</td>\n",
       "      <td>30.0</td>\n",
       "      <td>9</td>\n",
       "      <td>NaN</td>\n",
       "      <td>...</td>\n",
       "      <td>9.1</td>\n",
       "      <td>0.0</td>\n",
       "      <td>Санкт-Петербург</td>\n",
       "      <td>28098.0</td>\n",
       "      <td>6800.0</td>\n",
       "      <td>2.0</td>\n",
       "      <td>84.0</td>\n",
       "      <td>3.0</td>\n",
       "      <td>234.0</td>\n",
       "      <td>424.0</td>\n",
       "    </tr>\n",
       "    <tr>\n",
       "      <td>4</td>\n",
       "      <td>2</td>\n",
       "      <td>10000000.0</td>\n",
       "      <td>100.0</td>\n",
       "      <td>2018-06-19T00:00:00</td>\n",
       "      <td>2</td>\n",
       "      <td>3.03</td>\n",
       "      <td>14.0</td>\n",
       "      <td>32.0</td>\n",
       "      <td>13</td>\n",
       "      <td>NaN</td>\n",
       "      <td>...</td>\n",
       "      <td>41.0</td>\n",
       "      <td>NaN</td>\n",
       "      <td>Санкт-Петербург</td>\n",
       "      <td>31856.0</td>\n",
       "      <td>8098.0</td>\n",
       "      <td>2.0</td>\n",
       "      <td>112.0</td>\n",
       "      <td>1.0</td>\n",
       "      <td>48.0</td>\n",
       "      <td>121.0</td>\n",
       "    </tr>\n",
       "  </tbody>\n",
       "</table>\n",
       "<p>5 rows × 22 columns</p>\n",
       "</div>"
      ],
      "text/plain": [
       "   total_images  last_price  total_area first_day_exposition  rooms  \\\n",
       "0            20  13000000.0       108.0  2019-03-07T00:00:00      3   \n",
       "1             7   3350000.0        40.4  2018-12-04T00:00:00      1   \n",
       "2            10   5196000.0        56.0  2015-08-20T00:00:00      2   \n",
       "3             0  64900000.0       159.0  2015-07-24T00:00:00      3   \n",
       "4             2  10000000.0       100.0  2018-06-19T00:00:00      2   \n",
       "\n",
       "   ceiling_height  floors_total  living_area  floor is_apartment  ...  \\\n",
       "0            2.70          16.0         51.0      8          NaN  ...   \n",
       "1            2.65          11.0         18.6      1          NaN  ...   \n",
       "2            2.65           5.0         34.3      4          NaN  ...   \n",
       "3            2.65          14.0         30.0      9          NaN  ...   \n",
       "4            3.03          14.0         32.0     13          NaN  ...   \n",
       "\n",
       "   kitchen_area  balcony    locality_name  airports_nearest  \\\n",
       "0          25.0      NaN  Санкт-Петербург           18863.0   \n",
       "1          11.0      2.0   посёлок Шушары           12817.0   \n",
       "2           8.3      0.0  Санкт-Петербург           21741.0   \n",
       "3           9.1      0.0  Санкт-Петербург           28098.0   \n",
       "4          41.0      NaN  Санкт-Петербург           31856.0   \n",
       "\n",
       "  cityCenters_nearest  parks_around3000  parks_nearest  ponds_around3000  \\\n",
       "0             16028.0               1.0          482.0               2.0   \n",
       "1             18603.0               0.0            NaN               0.0   \n",
       "2             13933.0               1.0           90.0               2.0   \n",
       "3              6800.0               2.0           84.0               3.0   \n",
       "4              8098.0               2.0          112.0               1.0   \n",
       "\n",
       "   ponds_nearest  days_exposition  \n",
       "0          755.0             95.0  \n",
       "1            NaN             81.0  \n",
       "2          574.0            558.0  \n",
       "3          234.0            424.0  \n",
       "4           48.0            121.0  \n",
       "\n",
       "[5 rows x 22 columns]"
      ]
     },
     "execution_count": 7,
     "metadata": {},
     "output_type": "execute_result"
    }
   ],
   "source": [
    "df.head()"
   ]
  },
  {
   "cell_type": "markdown",
   "metadata": {},
   "source": [
    "Заполним пропуски в столбце с количеством балконов. "
   ]
  },
  {
   "cell_type": "code",
   "execution_count": 8,
   "metadata": {},
   "outputs": [
    {
     "data": {
      "text/plain": [
       "0"
      ]
     },
     "execution_count": 8,
     "metadata": {},
     "output_type": "execute_result"
    }
   ],
   "source": [
    "df['balcony'] = df.fillna(value= 0)\n",
    "df['balcony'].isna().sum()#проверка"
   ]
  },
  {
   "cell_type": "markdown",
   "metadata": {},
   "source": [
    "Заполним пропуски в столбце 'is_apartment'. "
   ]
  },
  {
   "cell_type": "code",
   "execution_count": 9,
   "metadata": {},
   "outputs": [
    {
     "data": {
      "text/plain": [
       "0"
      ]
     },
     "execution_count": 9,
     "metadata": {},
     "output_type": "execute_result"
    }
   ],
   "source": [
    "df['is_apartment'] = df.fillna(value= False)\n",
    "df['is_apartment'].isna().sum()#проверка"
   ]
  },
  {
   "cell_type": "markdown",
   "metadata": {},
   "source": [
    "Наконец, заполним пропуски в самой большой группе столбцов с пропущенными значениями. "
   ]
  },
  {
   "cell_type": "code",
   "execution_count": 10,
   "metadata": {},
   "outputs": [
    {
     "data": {
      "text/plain": [
       "total_images            0\n",
       "last_price              0\n",
       "total_area              0\n",
       "first_day_exposition    0\n",
       "rooms                   0\n",
       "ceiling_height          0\n",
       "floors_total            0\n",
       "living_area             0\n",
       "floor                   0\n",
       "is_apartment            0\n",
       "studio                  0\n",
       "open_plan               0\n",
       "kitchen_area            0\n",
       "balcony                 0\n",
       "locality_name           0\n",
       "airports_nearest        0\n",
       "cityCenters_nearest     0\n",
       "parks_around3000        0\n",
       "parks_nearest           0\n",
       "ponds_around3000        0\n",
       "ponds_nearest           0\n",
       "days_exposition         0\n",
       "dtype: int64"
      ]
     },
     "execution_count": 10,
     "metadata": {},
     "output_type": "execute_result"
    }
   ],
   "source": [
    "data = ['airports_nearest', 'parks_around3000', 'parks_nearest', 'ponds_around3000', 'ponds_nearest']\n",
    "for element in data:\n",
    "    df[element] = df[element].fillna(value= '')\n",
    "\n",
    "df.isna().sum()#проверка"
   ]
  },
  {
   "cell_type": "markdown",
   "metadata": {},
   "source": [
    "### Замена типов данных<a id=\"int\"></a>"
   ]
  },
  {
   "cell_type": "markdown",
   "metadata": {},
   "source": [
    "Изменим тип данных. Как уже было отмечено ранее, не у всех столбцов корретен тип данных. Опять же эти несоответствия можно разделить на несколько видов:\n",
    "1. данные в столбцах 'floors_total', 'balcony', 'days_exposition' должны быть типа integer, а не float, так как не может 2,5 балкона или 4,1 этажа в доме;\n",
    "2. данные столбца 'first_day_exposition' должны быть datetime формата;\n",
    "3. столбец 'is_apartment' должен содержать булевые значения (по аналогии с данными из столбцов 'studio', 'open_plan')."
   ]
  },
  {
   "cell_type": "code",
   "execution_count": 11,
   "metadata": {},
   "outputs": [],
   "source": [
    "l = ['floors_total', 'balcony', 'days_exposition']\n",
    "for element in l:\n",
    "    df[element] = df[element].astype('int') \n",
    "df['first_day_exposition'] = pd.to_datetime(df['first_day_exposition'], format= '%Y-%m-%dT%H:%M:%S')\n",
    "df['is_apartment'] = df['is_apartment'].astype('bool')"
   ]
  },
  {
   "cell_type": "code",
   "execution_count": 12,
   "metadata": {},
   "outputs": [
    {
     "name": "stdout",
     "output_type": "stream",
     "text": [
      "<class 'pandas.core.frame.DataFrame'>\n",
      "Int64Index: 23565 entries, 0 to 23698\n",
      "Data columns (total 22 columns):\n",
      "total_images            23565 non-null int64\n",
      "last_price              23565 non-null float64\n",
      "total_area              23565 non-null float64\n",
      "first_day_exposition    23565 non-null datetime64[ns]\n",
      "rooms                   23565 non-null int64\n",
      "ceiling_height          23565 non-null float64\n",
      "floors_total            23565 non-null int64\n",
      "living_area             23565 non-null float64\n",
      "floor                   23565 non-null int64\n",
      "is_apartment            23565 non-null bool\n",
      "studio                  23565 non-null bool\n",
      "open_plan               23565 non-null bool\n",
      "kitchen_area            23565 non-null float64\n",
      "balcony                 23565 non-null int64\n",
      "locality_name           23565 non-null object\n",
      "airports_nearest        23565 non-null object\n",
      "cityCenters_nearest     23565 non-null float64\n",
      "parks_around3000        23565 non-null object\n",
      "parks_nearest           23565 non-null object\n",
      "ponds_around3000        23565 non-null object\n",
      "ponds_nearest           23565 non-null object\n",
      "days_exposition         23565 non-null int64\n",
      "dtypes: bool(3), datetime64[ns](1), float64(6), int64(6), object(6)\n",
      "memory usage: 3.7+ MB\n"
     ]
    }
   ],
   "source": [
    "df.info()#проверка"
   ]
  },
  {
   "cell_type": "markdown",
   "metadata": {},
   "source": [
    "Итак, тип данных изменен. Можем двигаться дальше."
   ]
  },
  {
   "cell_type": "markdown",
   "metadata": {},
   "source": [
    "##  Добавление синтетических данных <a id=\"add\"></a>"
   ]
  },
  {
   "cell_type": "markdown",
   "metadata": {},
   "source": [
    "Добавим последовательно несколько столбцов в наши данные, а именно:\n",
    "1. столбец с информацией о цене за 1 кв.м.\n",
    "2. день недели, месяц и год публикации объвления;\n",
    "3. этаж квартиры. Причем с вариантами: первый, поледний, другое;\n",
    "4. соотношение жилой и общей площади, а также отношение площади кухни к общей."
   ]
  },
  {
   "cell_type": "code",
   "execution_count": 13,
   "metadata": {},
   "outputs": [],
   "source": [
    "df['price_metr'] = df['last_price'] / df['total_area']"
   ]
  },
  {
   "cell_type": "code",
   "execution_count": 14,
   "metadata": {},
   "outputs": [],
   "source": [
    "df['weekday'] = df['first_day_exposition'].dt.weekday\n",
    "df['month'] = df['first_day_exposition'].dt.month\n",
    "df['year'] = df['first_day_exposition'].dt.year"
   ]
  },
  {
   "cell_type": "code",
   "execution_count": 15,
   "metadata": {},
   "outputs": [
    {
     "data": {
      "text/html": [
       "<div>\n",
       "<style scoped>\n",
       "    .dataframe tbody tr th:only-of-type {\n",
       "        vertical-align: middle;\n",
       "    }\n",
       "\n",
       "    .dataframe tbody tr th {\n",
       "        vertical-align: top;\n",
       "    }\n",
       "\n",
       "    .dataframe thead th {\n",
       "        text-align: right;\n",
       "    }\n",
       "</style>\n",
       "<table border=\"1\" class=\"dataframe\">\n",
       "  <thead>\n",
       "    <tr style=\"text-align: right;\">\n",
       "      <th></th>\n",
       "      <th>total_images</th>\n",
       "      <th>last_price</th>\n",
       "      <th>total_area</th>\n",
       "      <th>first_day_exposition</th>\n",
       "      <th>rooms</th>\n",
       "      <th>ceiling_height</th>\n",
       "      <th>floors_total</th>\n",
       "      <th>living_area</th>\n",
       "      <th>floor</th>\n",
       "      <th>is_apartment</th>\n",
       "      <th>...</th>\n",
       "      <th>cityCenters_nearest</th>\n",
       "      <th>parks_around3000</th>\n",
       "      <th>parks_nearest</th>\n",
       "      <th>ponds_around3000</th>\n",
       "      <th>ponds_nearest</th>\n",
       "      <th>days_exposition</th>\n",
       "      <th>price_metr</th>\n",
       "      <th>weekday</th>\n",
       "      <th>month</th>\n",
       "      <th>year</th>\n",
       "    </tr>\n",
       "  </thead>\n",
       "  <tbody>\n",
       "    <tr>\n",
       "      <td>0</td>\n",
       "      <td>20</td>\n",
       "      <td>13000000.0</td>\n",
       "      <td>108.0</td>\n",
       "      <td>2019-03-07</td>\n",
       "      <td>3</td>\n",
       "      <td>2.70</td>\n",
       "      <td>16</td>\n",
       "      <td>51.0</td>\n",
       "      <td>8</td>\n",
       "      <td>True</td>\n",
       "      <td>...</td>\n",
       "      <td>16028.0</td>\n",
       "      <td>1</td>\n",
       "      <td>482</td>\n",
       "      <td>2</td>\n",
       "      <td>755</td>\n",
       "      <td>95</td>\n",
       "      <td>120370.370370</td>\n",
       "      <td>3</td>\n",
       "      <td>3</td>\n",
       "      <td>2019</td>\n",
       "    </tr>\n",
       "    <tr>\n",
       "      <td>1</td>\n",
       "      <td>7</td>\n",
       "      <td>3350000.0</td>\n",
       "      <td>40.4</td>\n",
       "      <td>2018-12-04</td>\n",
       "      <td>1</td>\n",
       "      <td>2.65</td>\n",
       "      <td>11</td>\n",
       "      <td>18.6</td>\n",
       "      <td>1</td>\n",
       "      <td>True</td>\n",
       "      <td>...</td>\n",
       "      <td>18603.0</td>\n",
       "      <td>0</td>\n",
       "      <td></td>\n",
       "      <td>0</td>\n",
       "      <td></td>\n",
       "      <td>81</td>\n",
       "      <td>82920.792079</td>\n",
       "      <td>1</td>\n",
       "      <td>12</td>\n",
       "      <td>2018</td>\n",
       "    </tr>\n",
       "    <tr>\n",
       "      <td>2</td>\n",
       "      <td>10</td>\n",
       "      <td>5196000.0</td>\n",
       "      <td>56.0</td>\n",
       "      <td>2015-08-20</td>\n",
       "      <td>2</td>\n",
       "      <td>2.65</td>\n",
       "      <td>5</td>\n",
       "      <td>34.3</td>\n",
       "      <td>4</td>\n",
       "      <td>True</td>\n",
       "      <td>...</td>\n",
       "      <td>13933.0</td>\n",
       "      <td>1</td>\n",
       "      <td>90</td>\n",
       "      <td>2</td>\n",
       "      <td>574</td>\n",
       "      <td>558</td>\n",
       "      <td>92785.714286</td>\n",
       "      <td>3</td>\n",
       "      <td>8</td>\n",
       "      <td>2015</td>\n",
       "    </tr>\n",
       "    <tr>\n",
       "      <td>3</td>\n",
       "      <td>0</td>\n",
       "      <td>64900000.0</td>\n",
       "      <td>159.0</td>\n",
       "      <td>2015-07-24</td>\n",
       "      <td>3</td>\n",
       "      <td>2.65</td>\n",
       "      <td>14</td>\n",
       "      <td>30.0</td>\n",
       "      <td>9</td>\n",
       "      <td>False</td>\n",
       "      <td>...</td>\n",
       "      <td>6800.0</td>\n",
       "      <td>2</td>\n",
       "      <td>84</td>\n",
       "      <td>3</td>\n",
       "      <td>234</td>\n",
       "      <td>424</td>\n",
       "      <td>408176.100629</td>\n",
       "      <td>4</td>\n",
       "      <td>7</td>\n",
       "      <td>2015</td>\n",
       "    </tr>\n",
       "    <tr>\n",
       "      <td>4</td>\n",
       "      <td>2</td>\n",
       "      <td>10000000.0</td>\n",
       "      <td>100.0</td>\n",
       "      <td>2018-06-19</td>\n",
       "      <td>2</td>\n",
       "      <td>3.03</td>\n",
       "      <td>14</td>\n",
       "      <td>32.0</td>\n",
       "      <td>13</td>\n",
       "      <td>True</td>\n",
       "      <td>...</td>\n",
       "      <td>8098.0</td>\n",
       "      <td>2</td>\n",
       "      <td>112</td>\n",
       "      <td>1</td>\n",
       "      <td>48</td>\n",
       "      <td>121</td>\n",
       "      <td>100000.000000</td>\n",
       "      <td>1</td>\n",
       "      <td>6</td>\n",
       "      <td>2018</td>\n",
       "    </tr>\n",
       "  </tbody>\n",
       "</table>\n",
       "<p>5 rows × 26 columns</p>\n",
       "</div>"
      ],
      "text/plain": [
       "   total_images  last_price  total_area first_day_exposition  rooms  \\\n",
       "0            20  13000000.0       108.0           2019-03-07      3   \n",
       "1             7   3350000.0        40.4           2018-12-04      1   \n",
       "2            10   5196000.0        56.0           2015-08-20      2   \n",
       "3             0  64900000.0       159.0           2015-07-24      3   \n",
       "4             2  10000000.0       100.0           2018-06-19      2   \n",
       "\n",
       "   ceiling_height  floors_total  living_area  floor  is_apartment  ...  \\\n",
       "0            2.70            16         51.0      8          True  ...   \n",
       "1            2.65            11         18.6      1          True  ...   \n",
       "2            2.65             5         34.3      4          True  ...   \n",
       "3            2.65            14         30.0      9         False  ...   \n",
       "4            3.03            14         32.0     13          True  ...   \n",
       "\n",
       "   cityCenters_nearest  parks_around3000  parks_nearest  ponds_around3000  \\\n",
       "0              16028.0                 1            482                 2   \n",
       "1              18603.0                 0                                0   \n",
       "2              13933.0                 1             90                 2   \n",
       "3               6800.0                 2             84                 3   \n",
       "4               8098.0                 2            112                 1   \n",
       "\n",
       "  ponds_nearest days_exposition     price_metr weekday month  year  \n",
       "0           755              95  120370.370370       3     3  2019  \n",
       "1                            81   82920.792079       1    12  2018  \n",
       "2           574             558   92785.714286       3     8  2015  \n",
       "3           234             424  408176.100629       4     7  2015  \n",
       "4            48             121  100000.000000       1     6  2018  \n",
       "\n",
       "[5 rows x 26 columns]"
      ]
     },
     "execution_count": 15,
     "metadata": {},
     "output_type": "execute_result"
    }
   ],
   "source": [
    "df.head()"
   ]
  },
  {
   "cell_type": "markdown",
   "metadata": {},
   "source": [
    "Цену за 1 кв.метр нашли, день, месяц и год публикации объявления нашли. Соответствующие столбцы добавлены. Теперь займемся определением этажей и рассчетом соотношений."
   ]
  },
  {
   "cell_type": "code",
   "execution_count": 16,
   "metadata": {},
   "outputs": [],
   "source": [
    "def floor_group(floor):\n",
    "    floors_total = floor['floors_total']\n",
    "    floor = floor['floor']\n",
    "    if floor == 1:\n",
    "        return 'первый'\n",
    "    elif floor == floors_total:\n",
    "        return 'последний'\n",
    "    else:\n",
    "        return 'другое'\n",
    "df['floor_group_new'] = df.apply(floor_group, axis = 1)"
   ]
  },
  {
   "cell_type": "code",
   "execution_count": 17,
   "metadata": {},
   "outputs": [],
   "source": [
    "df['living/toal_ratio'] = df['living_area'] / df['total_area']\n",
    "df['kitchen/toal_ratio'] = df['kitchen_area'] / df['total_area']"
   ]
  },
  {
   "cell_type": "code",
   "execution_count": 18,
   "metadata": {},
   "outputs": [
    {
     "data": {
      "text/html": [
       "<div>\n",
       "<style scoped>\n",
       "    .dataframe tbody tr th:only-of-type {\n",
       "        vertical-align: middle;\n",
       "    }\n",
       "\n",
       "    .dataframe tbody tr th {\n",
       "        vertical-align: top;\n",
       "    }\n",
       "\n",
       "    .dataframe thead th {\n",
       "        text-align: right;\n",
       "    }\n",
       "</style>\n",
       "<table border=\"1\" class=\"dataframe\">\n",
       "  <thead>\n",
       "    <tr style=\"text-align: right;\">\n",
       "      <th></th>\n",
       "      <th>total_images</th>\n",
       "      <th>last_price</th>\n",
       "      <th>total_area</th>\n",
       "      <th>first_day_exposition</th>\n",
       "      <th>rooms</th>\n",
       "      <th>ceiling_height</th>\n",
       "      <th>floors_total</th>\n",
       "      <th>living_area</th>\n",
       "      <th>floor</th>\n",
       "      <th>is_apartment</th>\n",
       "      <th>...</th>\n",
       "      <th>ponds_around3000</th>\n",
       "      <th>ponds_nearest</th>\n",
       "      <th>days_exposition</th>\n",
       "      <th>price_metr</th>\n",
       "      <th>weekday</th>\n",
       "      <th>month</th>\n",
       "      <th>year</th>\n",
       "      <th>floor_group_new</th>\n",
       "      <th>living/toal_ratio</th>\n",
       "      <th>kitchen/toal_ratio</th>\n",
       "    </tr>\n",
       "  </thead>\n",
       "  <tbody>\n",
       "    <tr>\n",
       "      <td>13843</td>\n",
       "      <td>6</td>\n",
       "      <td>1850000.0</td>\n",
       "      <td>34.0</td>\n",
       "      <td>2018-03-09</td>\n",
       "      <td>1</td>\n",
       "      <td>2.60</td>\n",
       "      <td>5</td>\n",
       "      <td>27.0</td>\n",
       "      <td>1</td>\n",
       "      <td>True</td>\n",
       "      <td>...</td>\n",
       "      <td></td>\n",
       "      <td></td>\n",
       "      <td>57</td>\n",
       "      <td>54411.764706</td>\n",
       "      <td>4</td>\n",
       "      <td>3</td>\n",
       "      <td>2018</td>\n",
       "      <td>первый</td>\n",
       "      <td>0.794118</td>\n",
       "      <td>0.205882</td>\n",
       "    </tr>\n",
       "    <tr>\n",
       "      <td>18008</td>\n",
       "      <td>7</td>\n",
       "      <td>12596900.0</td>\n",
       "      <td>91.0</td>\n",
       "      <td>2017-03-21</td>\n",
       "      <td>3</td>\n",
       "      <td>2.65</td>\n",
       "      <td>19</td>\n",
       "      <td>57.0</td>\n",
       "      <td>10</td>\n",
       "      <td>True</td>\n",
       "      <td>...</td>\n",
       "      <td>1</td>\n",
       "      <td>436</td>\n",
       "      <td>218</td>\n",
       "      <td>138427.472527</td>\n",
       "      <td>1</td>\n",
       "      <td>3</td>\n",
       "      <td>2017</td>\n",
       "      <td>другое</td>\n",
       "      <td>0.626374</td>\n",
       "      <td>0.120879</td>\n",
       "    </tr>\n",
       "    <tr>\n",
       "      <td>14607</td>\n",
       "      <td>15</td>\n",
       "      <td>5050000.0</td>\n",
       "      <td>64.0</td>\n",
       "      <td>2018-10-16</td>\n",
       "      <td>3</td>\n",
       "      <td>2.50</td>\n",
       "      <td>9</td>\n",
       "      <td>43.0</td>\n",
       "      <td>9</td>\n",
       "      <td>True</td>\n",
       "      <td>...</td>\n",
       "      <td></td>\n",
       "      <td></td>\n",
       "      <td>95</td>\n",
       "      <td>78906.250000</td>\n",
       "      <td>1</td>\n",
       "      <td>10</td>\n",
       "      <td>2018</td>\n",
       "      <td>последний</td>\n",
       "      <td>0.671875</td>\n",
       "      <td>0.156250</td>\n",
       "    </tr>\n",
       "    <tr>\n",
       "      <td>15613</td>\n",
       "      <td>8</td>\n",
       "      <td>4700000.0</td>\n",
       "      <td>61.0</td>\n",
       "      <td>2015-12-12</td>\n",
       "      <td>3</td>\n",
       "      <td>2.65</td>\n",
       "      <td>9</td>\n",
       "      <td>39.5</td>\n",
       "      <td>7</td>\n",
       "      <td>True</td>\n",
       "      <td>...</td>\n",
       "      <td>0</td>\n",
       "      <td></td>\n",
       "      <td>200</td>\n",
       "      <td>77049.180328</td>\n",
       "      <td>5</td>\n",
       "      <td>12</td>\n",
       "      <td>2015</td>\n",
       "      <td>другое</td>\n",
       "      <td>0.647541</td>\n",
       "      <td>0.101639</td>\n",
       "    </tr>\n",
       "    <tr>\n",
       "      <td>12275</td>\n",
       "      <td>5</td>\n",
       "      <td>8000000.0</td>\n",
       "      <td>73.3</td>\n",
       "      <td>2015-11-30</td>\n",
       "      <td>2</td>\n",
       "      <td>2.80</td>\n",
       "      <td>25</td>\n",
       "      <td>38.3</td>\n",
       "      <td>12</td>\n",
       "      <td>True</td>\n",
       "      <td>...</td>\n",
       "      <td>0</td>\n",
       "      <td></td>\n",
       "      <td>740</td>\n",
       "      <td>109140.518417</td>\n",
       "      <td>0</td>\n",
       "      <td>11</td>\n",
       "      <td>2015</td>\n",
       "      <td>другое</td>\n",
       "      <td>0.522510</td>\n",
       "      <td>0.206003</td>\n",
       "    </tr>\n",
       "  </tbody>\n",
       "</table>\n",
       "<p>5 rows × 29 columns</p>\n",
       "</div>"
      ],
      "text/plain": [
       "       total_images  last_price  total_area first_day_exposition  rooms  \\\n",
       "13843             6   1850000.0        34.0           2018-03-09      1   \n",
       "18008             7  12596900.0        91.0           2017-03-21      3   \n",
       "14607            15   5050000.0        64.0           2018-10-16      3   \n",
       "15613             8   4700000.0        61.0           2015-12-12      3   \n",
       "12275             5   8000000.0        73.3           2015-11-30      2   \n",
       "\n",
       "       ceiling_height  floors_total  living_area  floor  is_apartment  ...  \\\n",
       "13843            2.60             5         27.0      1          True  ...   \n",
       "18008            2.65            19         57.0     10          True  ...   \n",
       "14607            2.50             9         43.0      9          True  ...   \n",
       "15613            2.65             9         39.5      7          True  ...   \n",
       "12275            2.80            25         38.3     12          True  ...   \n",
       "\n",
       "       ponds_around3000  ponds_nearest  days_exposition     price_metr  \\\n",
       "13843                                                57   54411.764706   \n",
       "18008                 1            436              218  138427.472527   \n",
       "14607                                                95   78906.250000   \n",
       "15613                 0                             200   77049.180328   \n",
       "12275                 0                             740  109140.518417   \n",
       "\n",
       "      weekday month  year floor_group_new living/toal_ratio kitchen/toal_ratio  \n",
       "13843       4     3  2018          первый          0.794118           0.205882  \n",
       "18008       1     3  2017          другое          0.626374           0.120879  \n",
       "14607       1    10  2018       последний          0.671875           0.156250  \n",
       "15613       5    12  2015          другое          0.647541           0.101639  \n",
       "12275       0    11  2015          другое          0.522510           0.206003  \n",
       "\n",
       "[5 rows x 29 columns]"
      ]
     },
     "execution_count": 18,
     "metadata": {},
     "output_type": "execute_result"
    }
   ],
   "source": [
    "df.sample(5)"
   ]
  },
  {
   "cell_type": "markdown",
   "metadata": {},
   "source": [
    "## Исследовательский анализ данных <a id=\"analysis\"></a>"
   ]
  },
  {
   "cell_type": "markdown",
   "metadata": {},
   "source": [
    "### Исследование параметров <a id=\"parametr\"></a>"
   ]
  },
  {
   "cell_type": "markdown",
   "metadata": {},
   "source": [
    "Изучим площадь, цену, число комнат, высоту потолков и построим гистаграммы для каждого из этих параметров. "
   ]
  },
  {
   "cell_type": "code",
   "execution_count": 19,
   "metadata": {},
   "outputs": [
    {
     "data": {
      "image/png": "[encoded data removed]",
      "text/plain": [
       "<Figure size 1008x216 with 1 Axes>"
      ]
     },
     "metadata": {
      "needs_background": "light"
     },
     "output_type": "display_data"
    },
    {
     "data": {
      "image/png": "[encoded data removed]",
      "text/plain": [
       "<Figure size 1008x216 with 1 Axes>"
      ]
     },
     "metadata": {
      "needs_background": "light"
     },
     "output_type": "display_data"
    },
    {
     "data": {
      "image/png": "[encoded data removed]",
      "text/plain": [
       "<Figure size 1008x216 with 1 Axes>"
      ]
     },
     "metadata": {
      "needs_background": "light"
     },
     "output_type": "display_data"
    }
   ],
   "source": [
    "list = ['total_area', 'rooms', 'ceiling_height']\n",
    "for element in list:\n",
    "    df.hist(element, bins =100, grid =True, figsize =(14, 3)) \n",
    "    plt.xlabel(\"ед. изм.\")\n",
    "    plt.ylabel(\"Частота в выборке\")\n",
    "plt.show()"
   ]
  },
  {
   "cell_type": "markdown",
   "metadata": {},
   "source": [
    "Первая гистограмма имеет высокий пик около значения 40-50, это значит, что площадь квартир из объявлений чаще всего принимают значение 40-50 кв.м. Очень мало значений после 200, наблюдаются отдельные выбросы в районе 400. \\\n",
    "Вторая гистограмма показывает, что квартиры с 1 и 2-мя комнатами встречаются практически одинаково часто (с небольшим перевесом ведут 1-комнатные жилплощади). С достаточной частотой встречаются 3-комнатные квартиры, чуть меньше видим квартир с более 4 комнатами.\\\n",
    "Третья гистограмма демонстрирует нам высокий пик на значении около 2, значит, чаще всего в квартирах потолки около 2м. Нечасто, но все же встречаются жилплощади с потолками выше (около 3м)\\\n",
    "В связи с наличием длинного хвота на диаграмме площади, построим диаграмму размаха для нее и выведем характерные значения данных."
   ]
  },
  {
   "cell_type": "code",
   "execution_count": 20,
   "metadata": {},
   "outputs": [
    {
     "data": {
      "text/plain": [
       "count    23565.000000\n",
       "mean        60.322824\n",
       "std         35.657060\n",
       "min         12.000000\n",
       "25%         40.000000\n",
       "50%         52.000000\n",
       "75%         69.700000\n",
       "max        900.000000\n",
       "Name: total_area, dtype: float64"
      ]
     },
     "execution_count": 20,
     "metadata": {},
     "output_type": "execute_result"
    },
    {
     "data": {
      "image/png": "[encoded data removed]",
      "text/plain": [
       "<Figure size 432x288 with 1 Axes>"
      ]
     },
     "metadata": {
      "needs_background": "light"
     },
     "output_type": "display_data"
    }
   ],
   "source": [
    "import matplotlib.pyplot as plt\n",
    "plt.ylim(0, 150)\n",
    "df.boxplot('total_area')\n",
    "df['total_area'].describe()"
   ]
  },
  {
   "cell_type": "markdown",
   "metadata": {},
   "source": [
    "Как видно из диаграммы размаха, значения после примерно 118 кв м, являются выбросом.\\\n",
    "Построим гистограмму для цены за 1 кв.м"
   ]
  },
  {
   "cell_type": "code",
   "execution_count": 21,
   "metadata": {
    "scrolled": false
   },
   "outputs": [
    {
     "data": {
      "image/png": "[encoded data removed]",
      "text/plain": [
       "<Figure size 1080x720 with 1 Axes>"
      ]
     },
     "metadata": {
      "needs_background": "light"
     },
     "output_type": "display_data"
    }
   ],
   "source": [
    "df.plot(kind ='hist', y ='price_metr', figsize=(15, 10), bins =200, range =(0,900000), xlim =True, grid =True,)# legend =True)\n",
    "plt.title(\"Распределение цены за 1 кв.м\")\n",
    "plt.xlabel(\"Цена\")\n",
    "plt.ylabel(\"Частота в выборке\")\n",
    "plt.show()"
   ]
  },
  {
   "cell_type": "markdown",
   "metadata": {},
   "source": [
    "Четвертая гистограмма похожа на диаграмму нормального распределения, но с большим хвостом. \\\n",
    "Построим и для этой величины диаграмму разброса."
   ]
  },
  {
   "cell_type": "code",
   "execution_count": 22,
   "metadata": {
    "scrolled": false
   },
   "outputs": [
    {
     "data": {
      "text/plain": [
       "count    2.356500e+04\n",
       "mean     9.940584e+04\n",
       "std      5.038943e+04\n",
       "min      1.118349e+02\n",
       "25%      7.656613e+04\n",
       "50%      9.500000e+04\n",
       "75%      1.142132e+05\n",
       "max      1.907500e+06\n",
       "Name: price_metr, dtype: float64"
      ]
     },
     "execution_count": 22,
     "metadata": {},
     "output_type": "execute_result"
    },
    {
     "data": {
      "image/png": "[encoded data removed]",
      "text/plain": [
       "<Figure size 432x288 with 1 Axes>"
      ]
     },
     "metadata": {
      "needs_background": "light"
     },
     "output_type": "display_data"
    }
   ],
   "source": [
    "plt.ylim(0, 250000)\n",
    "df.boxplot('price_metr')\n",
    "df['price_metr'].describe()"
   ]
  },
  {
   "cell_type": "markdown",
   "metadata": {},
   "source": [
    "Как показывает диаграмма размаха, все значения вне промежутка 25000-170000 - аномальны. При дальнейшем анализе датасета, эти значения можно не учитывать.\\\n",
    "Рассмотрим также диаграммы размаха для столбцов с числом комнат и высотой потолков, проверим на наличие выбросов в них."
   ]
  },
  {
   "cell_type": "code",
   "execution_count": 23,
   "metadata": {
    "scrolled": false
   },
   "outputs": [
    {
     "data": {
      "text/plain": [
       "count    23565.000000\n",
       "mean         2.070656\n",
       "std          1.078591\n",
       "min          0.000000\n",
       "25%          1.000000\n",
       "50%          2.000000\n",
       "75%          3.000000\n",
       "max         19.000000\n",
       "Name: rooms, dtype: float64"
      ]
     },
     "execution_count": 23,
     "metadata": {},
     "output_type": "execute_result"
    },
    {
     "data": {
      "image/png": "[encoded data removed]",
      "text/plain": [
       "<Figure size 432x288 with 1 Axes>"
      ]
     },
     "metadata": {
      "needs_background": "light"
     },
     "output_type": "display_data"
    }
   ],
   "source": [
    "plt.ylim(0, 15)\n",
    "df.boxplot('rooms')\n",
    "df['rooms'].describe()"
   ]
  },
  {
   "cell_type": "markdown",
   "metadata": {},
   "source": [
    "Диаграмма размаха показывает нам, что число комнат больше 6 в квартирах является аномальным. Учтем это в дальнейшем."
   ]
  },
  {
   "cell_type": "code",
   "execution_count": 24,
   "metadata": {
    "scrolled": false
   },
   "outputs": [
    {
     "data": {
      "text/plain": [
       "count    23565.000000\n",
       "mean         2.724530\n",
       "std          0.991026\n",
       "min          1.000000\n",
       "25%          2.600000\n",
       "50%          2.650000\n",
       "75%          2.700000\n",
       "max        100.000000\n",
       "Name: ceiling_height, dtype: float64"
      ]
     },
     "execution_count": 24,
     "metadata": {},
     "output_type": "execute_result"
    },
    {
     "data": {
      "image/png": "[encoded data removed]",
      "text/plain": [
       "<Figure size 432x288 with 1 Axes>"
      ]
     },
     "metadata": {
      "needs_background": "light"
     },
     "output_type": "display_data"
    }
   ],
   "source": [
    "plt.ylim(0.5, 3.5)\n",
    "df.boxplot('ceiling_height')\n",
    "df['ceiling_height'].describe()"
   ]
  },
  {
   "cell_type": "markdown",
   "metadata": {},
   "source": [
    "Диаграмма размаха показывает для высоты потолков указывает нам на то, что в отличие от предыдущих случаев, выбросы у нас наблюдаются и сверху, и снизу. Аномальные значения высоты потолков это значения до нижнего \"уса\" и после верхнего."
   ]
  },
  {
   "cell_type": "markdown",
   "metadata": {},
   "source": [
    "### Исследование времени продажи квартир <a id=\"time\"></a>"
   ]
  },
  {
   "cell_type": "markdown",
   "metadata": {},
   "source": [
    "Изучим время продажи квартиры, т.е. обратим свое внимание на столбец days_exposition. Построим гистограмму."
   ]
  },
  {
   "cell_type": "code",
   "execution_count": 25,
   "metadata": {},
   "outputs": [
    {
     "data": {
      "image/png": "[encoded data removed]",
      "text/plain": [
       "<Figure size 1080x720 with 1 Axes>"
      ]
     },
     "metadata": {
      "needs_background": "light"
     },
     "output_type": "display_data"
    }
   ],
   "source": [
    "df.plot(kind ='hist', y ='days_exposition', figsize=(15, 10), bins =50, range =(0, 1600), grid =True, legend =True)\n",
    "plt.title(\"Распределение времени продажи квартиры (дни)\")\n",
    "plt.xlabel(\"Дни\")\n",
    "plt.ylabel(\"Частота в выборке\")\n",
    "plt.show()"
   ]
  },
  {
   "cell_type": "code",
   "execution_count": 26,
   "metadata": {},
   "outputs": [
    {
     "data": {
      "text/plain": [
       "count    23565.000000\n",
       "mean       169.203692\n",
       "std        206.497729\n",
       "min          1.000000\n",
       "25%         45.000000\n",
       "50%         95.000000\n",
       "75%        198.000000\n",
       "max       1580.000000\n",
       "Name: days_exposition, dtype: float64"
      ]
     },
     "execution_count": 26,
     "metadata": {},
     "output_type": "execute_result"
    },
    {
     "data": {
      "image/png": "[encoded data removed]",
      "text/plain": [
       "<Figure size 432x288 with 1 Axes>"
      ]
     },
     "metadata": {
      "needs_background": "light"
     },
     "output_type": "display_data"
    }
   ],
   "source": [
    "df.boxplot('days_exposition')\n",
    "df['days_exposition'].describe()"
   ]
  },
  {
   "cell_type": "markdown",
   "metadata": {},
   "source": [
    "Из построенной диаграммы размаха видно, что нижний  \"ус\" упирается в 0 - это минимальное значение, верхний \"ус\" упирается в отметку около 420, все значения выше являются выбросами. Среднее больше медианы больше практически в 2 раза (смотрим на данные, полученные медодом describe()), что говорит о большом хвосте высоких значений, который мы можем наблюдать на гистограмме. Если же проанализировать саму длительность продажи, то в среднем жилплощадь продается на сайте за 160 дней (почти полгода). Большая часть значений лежит в диапазоне до 198 дней. Большая часть значений лежит в диапазоне до 200 дней, а значение первого квартиля 45 дней. Любопытно, что есть продажи, совершенные за 1 день. Выглядит подозрительно. Отсечем быстрые и длинные продажи, использовав 5% и 95% перцентли."
   ]
  },
  {
   "cell_type": "code",
   "execution_count": 27,
   "metadata": {},
   "outputs": [
    {
     "name": "stdout",
     "output_type": "stream",
     "text": [
      "Интервал \"нормальных значений\" по длительности размещения объявления 10.0 - 603.0\n"
     ]
    }
   ],
   "source": [
    "p5_exp = df['days_exposition'].quantile(0.05)\n",
    "p95_exp = df['days_exposition'].quantile(0.95)\n",
    "print('Интервал \"нормальных значений\" по длительности размещения объявления', p5_exp, '-', p95_exp)"
   ]
  },
  {
   "cell_type": "markdown",
   "metadata": {},
   "source": [
    "Итак, все продажи за менее, чем 10 дней мы отсекли, будем такие продажи считать аномально быстрыми. Затянувшимися продажами будем считать случаи, когда объявление находится в побликации более 603 дней."
   ]
  },
  {
   "cell_type": "markdown",
   "metadata": {},
   "source": [
    "### Преобразование данных <a id=\"transform\"></a>"
   ]
  },
  {
   "cell_type": "markdown",
   "metadata": {},
   "source": [
    "Преобразуем даные, избавившись от выбросов. Приняв во внимание диаграммы разброса для каждого из параметров, которые были построены пунктом ранее, избавимся от выбросов используя перцентили. "
   ]
  },
  {
   "cell_type": "code",
   "execution_count": 28,
   "metadata": {},
   "outputs": [
    {
     "name": "stdout",
     "output_type": "stream",
     "text": [
      "Размер фрейма до очистки: 23565\n"
     ]
    }
   ],
   "source": [
    "new_df = df.copy()\n",
    "print('Размер фрейма до очистки:', new_df.shape[0])\n",
    "p95_area = new_df['total_area'].quantile(0.95)\n",
    "p5_price = new_df['price_metr'].quantile(0.05)\n",
    "p95_price = new_df['price_metr'].quantile(0.95)\n",
    "p95_rooms = new_df['rooms'].quantile(0.95)\n",
    "p5_height = new_df['ceiling_height'].quantile(0.05)\n",
    "p95_height = new_df['ceiling_height'].quantile(0.95)"
   ]
  },
  {
   "cell_type": "code",
   "execution_count": 29,
   "metadata": {},
   "outputs": [
    {
     "name": "stdout",
     "output_type": "stream",
     "text": [
      "Размер фрейма после очистки по всем параметрам: 19585\n"
     ]
    }
   ],
   "source": [
    "new_df = new_df.query('total_area <= @p95_area and @p5_price <= price_metr <= @p95_price and rooms <= @p95_rooms and @p5_height <= ceiling_height <= @p95_height')\n",
    "print('Размер фрейма после очистки по всем параметрам:', new_df.shape[0])"
   ]
  },
  {
   "cell_type": "markdown",
   "metadata": {},
   "source": [
    "После преобразования данных, у нас осталось 15873 наблюдения с нормальными значениями по рассматриваемым параметрам."
   ]
  },
  {
   "cell_type": "markdown",
   "metadata": {},
   "source": [
    "### Выявление факторов, влияющих на цену жилья <a id=\"search\"></a>"
   ]
  },
  {
   "cell_type": "markdown",
   "metadata": {},
   "source": [
    "Изучим влияние различных факторов на цену за жилье. А именно:\n",
    "1. площадь жилья;\n",
    "2. число комнат;\n",
    "3. удаленность от центра;\n",
    "4. этаж;\n",
    "5. дата (день, месяц, год) публикации."
   ]
  },
  {
   "cell_type": "code",
   "execution_count": 30,
   "metadata": {},
   "outputs": [
    {
     "data": {
      "image/png": "[encoded data removed]",
      "text/plain": [
       "<Figure size 1008x216 with 1 Axes>"
      ]
     },
     "metadata": {
      "needs_background": "light"
     },
     "output_type": "display_data"
    }
   ],
   "source": [
    "new_df.pivot_table(index ='total_area', values = 'price_metr', aggfunc ='median').plot(ylim =0,  grid=True, figsize=(14, 3))\n",
    "plt.title(\"Распределение цены 1 кв.м в зависимости от площади объекта\")\n",
    "plt.xlabel(\"Площадь объекта\")\n",
    "#plt.ylabel(\"\")\n",
    "plt.show()"
   ]
  },
  {
   "cell_type": "code",
   "execution_count": 31,
   "metadata": {},
   "outputs": [
    {
     "name": "stdout",
     "output_type": "stream",
     "text": [
      "0.0017526738682578098\n"
     ]
    }
   ],
   "source": [
    "print(new_df['total_area'].corr(new_df['price_metr']))"
   ]
  },
  {
   "cell_type": "markdown",
   "metadata": {},
   "source": [
    "Видно, что средняя цена за 1 кв м держится на уровне 100000. Коэффицент корреляции близок к 0, т.е. цена за 1 кв.м никак не зависит от площади жилья. \\\n",
    "Далее рассмотрим зависимость цены 1 кв м от числа комнат."
   ]
  },
  {
   "cell_type": "code",
   "execution_count": 32,
   "metadata": {},
   "outputs": [
    {
     "data": {
      "image/png": "[encoded data removed]",
      "text/plain": [
       "<Figure size 864x360 with 1 Axes>"
      ]
     },
     "metadata": {
      "needs_background": "light"
     },
     "output_type": "display_data"
    }
   ],
   "source": [
    "new_df.pivot_table(index ='rooms', values ='price_metr', aggfunc = 'median').plot(ylim =0, grid=True, figsize=(12, 5))\n",
    "plt.title(\"Распределение цены 1 кв.м в зависимости от количества комнат объекта\")\n",
    "plt.xlabel(\"Число комнат в объекте\")\n",
    "plt.show()"
   ]
  },
  {
   "cell_type": "markdown",
   "metadata": {},
   "source": [
    "Наблюдаем следующую тенденцию - с увеличением числа комнат цена за 1 кв.м уменьшается, что логично. Ведь чем больше комнат, тем больше жилая площадь и меньше цена за кв.м. Выведем для большей наглядности цены за кв.м для всех вариантов чиссла комнат."
   ]
  },
  {
   "cell_type": "code",
   "execution_count": 33,
   "metadata": {},
   "outputs": [
    {
     "data": {
      "text/html": [
       "<div>\n",
       "<style scoped>\n",
       "    .dataframe tbody tr th:only-of-type {\n",
       "        vertical-align: middle;\n",
       "    }\n",
       "\n",
       "    .dataframe tbody tr th {\n",
       "        vertical-align: top;\n",
       "    }\n",
       "\n",
       "    .dataframe thead th {\n",
       "        text-align: right;\n",
       "    }\n",
       "</style>\n",
       "<table border=\"1\" class=\"dataframe\">\n",
       "  <thead>\n",
       "    <tr style=\"text-align: right;\">\n",
       "      <th></th>\n",
       "      <th>price_metr</th>\n",
       "    </tr>\n",
       "    <tr>\n",
       "      <th>rooms</th>\n",
       "      <th></th>\n",
       "    </tr>\n",
       "  </thead>\n",
       "  <tbody>\n",
       "    <tr>\n",
       "      <td>0</td>\n",
       "      <td>104285.714286</td>\n",
       "    </tr>\n",
       "    <tr>\n",
       "      <td>1</td>\n",
       "      <td>100000.000000</td>\n",
       "    </tr>\n",
       "    <tr>\n",
       "      <td>2</td>\n",
       "      <td>93137.254902</td>\n",
       "    </tr>\n",
       "    <tr>\n",
       "      <td>3</td>\n",
       "      <td>87500.000000</td>\n",
       "    </tr>\n",
       "    <tr>\n",
       "      <td>4</td>\n",
       "      <td>83695.652174</td>\n",
       "    </tr>\n",
       "  </tbody>\n",
       "</table>\n",
       "</div>"
      ],
      "text/plain": [
       "          price_metr\n",
       "rooms               \n",
       "0      104285.714286\n",
       "1      100000.000000\n",
       "2       93137.254902\n",
       "3       87500.000000\n",
       "4       83695.652174"
      ]
     },
     "execution_count": 33,
     "metadata": {},
     "output_type": "execute_result"
    }
   ],
   "source": [
    "new_df.groupby('rooms').agg({'price_metr': 'median'})"
   ]
  },
  {
   "cell_type": "code",
   "execution_count": 34,
   "metadata": {},
   "outputs": [
    {
     "data": {
      "text/plain": [
       "-0.17745871733237925"
      ]
     },
     "execution_count": 34,
     "metadata": {},
     "output_type": "execute_result"
    }
   ],
   "source": [
    "new_df['rooms'].corr(new_df['price_metr'])"
   ]
  },
  {
   "cell_type": "markdown",
   "metadata": {},
   "source": [
    "Коэффицент корреляции отрицателен, что говорит нам о том, что рост числа комнат ведет к уменьшению цены за кв.м, что и подтверждается графиком выше. \\\n",
    "Перейдем к следующему параметру - посмотрим как на цену влияет удаленность от центра."
   ]
  },
  {
   "cell_type": "code",
   "execution_count": 35,
   "metadata": {},
   "outputs": [
    {
     "data": {
      "image/png": "[encoded data removed]",
      "text/plain": [
       "<Figure size 1008x216 with 1 Axes>"
      ]
     },
     "metadata": {
      "needs_background": "light"
     },
     "output_type": "display_data"
    }
   ],
   "source": [
    "new_df['centr_km'] = new_df['cityCenters_nearest'] // 1000\n",
    "new_df.pivot_table(index ='centr_km', values ='price_metr', aggfunc = 'median').plot(ylim =0, grid=True, figsize=(14, 3))\n",
    "plt.title(\"Распределение цены 1 кв.м в зависимости от удаленности объекта от центра\")\n",
    "plt.xlabel(\"Расстояние до центра, км\")\n",
    "plt.show()"
   ]
  },
  {
   "cell_type": "markdown",
   "metadata": {},
   "source": [
    "Наблюдаем следующую тенденцию: по мере удаления от центра цена за 1кв м уменьшается от 150 тыс. до 80 тыс. Однако,  после 40-го км данная тенденция нарушается. Посмотрим на диаграмму размаха."
   ]
  },
  {
   "cell_type": "code",
   "execution_count": 36,
   "metadata": {},
   "outputs": [
    {
     "name": "stdout",
     "output_type": "stream",
     "text": [
      "31.0\n"
     ]
    },
    {
     "data": {
      "image/png": "[encoded data removed]",
      "text/plain": [
       "<Figure size 432x288 with 1 Axes>"
      ]
     },
     "metadata": {
      "needs_background": "light"
     },
     "output_type": "display_data"
    }
   ],
   "source": [
    "new_df.boxplot('centr_km')\n",
    "print(new_df['centr_km'].quantile(0.95))"
   ]
  },
  {
   "cell_type": "markdown",
   "metadata": {},
   "source": [
    "Диаграмма размаха показывает, что значения после 21-го км - аномальны. Нашли значение 95-го перцентиля, для значений больше 31 км, видимо, зависимость цены за 1 кв. м от расстояния до центра не столь однозначна. Получается, что уменьшение цены за 1 кв.м справедливо только до 31 км, а дальше этого значения так однозначно рассуждать нельзя."
   ]
  },
  {
   "cell_type": "code",
   "execution_count": 37,
   "metadata": {},
   "outputs": [
    {
     "data": {
      "text/plain": [
       "-0.25470879867216484"
      ]
     },
     "execution_count": 37,
     "metadata": {},
     "output_type": "execute_result"
    }
   ],
   "source": [
    "new_df['centr_km'].corr(new_df['price_metr'])"
   ]
  },
  {
   "cell_type": "markdown",
   "metadata": {},
   "source": [
    "Наблюдаем картину как и с предыдущим параметром - увеличение расстояния до центра ведет к уменьшению стоимости  1 кв.м., что поддтверждается отрицательным коэфф. корреляции. \\\n",
    "Рассмотрим далее влияние этажности на цену."
   ]
  },
  {
   "cell_type": "code",
   "execution_count": 38,
   "metadata": {},
   "outputs": [
    {
     "data": {
      "image/png": "[encoded data removed]",
      "text/plain": [
       "<Figure size 432x288 with 1 Axes>"
      ]
     },
     "metadata": {
      "needs_background": "light"
     },
     "output_type": "display_data"
    }
   ],
   "source": [
    "report = new_df.groupby('floor_group_new').agg({'price_metr': 'median'})\n",
    "report.plot()\n",
    "plt.title(\"Распределение цены 1 кв.м в зависимости от этажа объекта\")\n",
    "plt.xlabel(\"Этаж\")\n",
    "plt.show()"
   ]
  },
  {
   "cell_type": "markdown",
   "metadata": {},
   "source": [
    "Как видно из графика - дороже всего квартиры на средних этажах, дешевле всего квадратный метр на первом этаже. Видимо, людей отпугивает шум и доступность для злоумышленников, которые возможны, когда живешь на первом этаже. Последние этажи могут отпугивать возможными протечками с крыш или, наоборот, своей недоступностью (особенно при отсутствии лифта).\\\n",
    "Сделаем то же самое и для оценки стоимости в зависимости от дня недели, месяца и года, в которые были вывешены объявления."
   ]
  },
  {
   "cell_type": "code",
   "execution_count": 39,
   "metadata": {},
   "outputs": [
    {
     "data": {
      "image/png": "[encoded data removed]",
      "text/plain": [
       "<Figure size 432x288 with 1 Axes>"
      ]
     },
     "metadata": {
      "needs_background": "light"
     },
     "output_type": "display_data"
    }
   ],
   "source": [
    "report = new_df.groupby('weekday').agg({'price_metr': 'median'})\n",
    "report.plot()\n",
    "plt.title(\"Распределение цены 1 кв.м в зависимости от времени размещения объявления\")\n",
    "plt.xlabel(\"Дни недели\")\n",
    "plt.show()"
   ]
  },
  {
   "cell_type": "markdown",
   "metadata": {},
   "source": [
    "График показывает, что объявления, размещенные по вторникам являются самыми дорогими. Цена за 1 кв м уменьшается со вторника по субботу, в субботу мы наблюдаем ценовой минимум, затем в воскресенье - цена снова вырастает.   "
   ]
  },
  {
   "cell_type": "code",
   "execution_count": 40,
   "metadata": {},
   "outputs": [
    {
     "data": {
      "image/png": "[encoded data removed]",
      "text/plain": [
       "<Figure size 432x288 with 1 Axes>"
      ]
     },
     "metadata": {
      "needs_background": "light"
     },
     "output_type": "display_data"
    }
   ],
   "source": [
    "report = new_df.groupby('month').agg({'price_metr': 'median'})\n",
    "report.plot()\n",
    "plt.title(\"Распределение цены 1 кв.м в зависимости от времени размещения объявления\")\n",
    "plt.xlabel(\"Месяцы\")\n",
    "plt.show()"
   ]
  },
  {
   "cell_type": "markdown",
   "metadata": {},
   "source": [
    "Наиболее высокая цена 1 кв.м наблюдается в апреле и августе. В мае видим, что цена за кв.м досигает минимума по значению. Возможно, в мае, в предверии летних отпусков люди стали продавать дачи, летние домики, цена которых ниже. Все лето наблюдается рост цен, затм спад с агуста по октябрь. В ноябре вновь скачок цены.  "
   ]
  },
  {
   "cell_type": "code",
   "execution_count": 41,
   "metadata": {},
   "outputs": [
    {
     "data": {
      "image/png": "[encoded data removed]",
      "text/plain": [
       "<Figure size 432x288 with 1 Axes>"
      ]
     },
     "metadata": {
      "needs_background": "light"
     },
     "output_type": "display_data"
    }
   ],
   "source": [
    "report = new_df.groupby('year').agg({'price_metr': 'median'})\n",
    "report.plot()\n",
    "plt.title(\"Распределение цены 1 кв.м в зависимости от времени размещения объявления\")\n",
    "plt.xlabel(\"Год\")\n",
    "plt.show()"
   ]
  },
  {
   "cell_type": "markdown",
   "metadata": {},
   "source": [
    "На графике наблюдаем как за время кризиса (2014-2015 гг) цены на жилье упали и оставались примерно на одном уровне 1,5 года (2015 - 2017 гг), а с 2017 наблюдается уверенный рост на жилье. Любопытно было бы посмотреть данные, включающие в себя и прошедший год:)"
   ]
  },
  {
   "cell_type": "markdown",
   "metadata": {},
   "source": [
    "### Анализ 10 населенных пунктов с наибольшим кол-вом объявлений <a id =\"ten\"></a>"
   ]
  },
  {
   "cell_type": "markdown",
   "metadata": {},
   "source": [
    "Рассмотрим 10 населённых пунктов с наибольшим числом объявлений. Посчитаем среднюю цену квадратного метра в этих населённых пунктах, и выделим среди них населённые пункты с самой высокой и низкой стоимостью жилья."
   ]
  },
  {
   "cell_type": "code",
   "execution_count": 42,
   "metadata": {},
   "outputs": [
    {
     "data": {
      "text/html": [
       "<div>\n",
       "<style scoped>\n",
       "    .dataframe tbody tr th:only-of-type {\n",
       "        vertical-align: middle;\n",
       "    }\n",
       "\n",
       "    .dataframe tbody tr th {\n",
       "        vertical-align: top;\n",
       "    }\n",
       "\n",
       "    .dataframe thead tr th {\n",
       "        text-align: left;\n",
       "    }\n",
       "\n",
       "    .dataframe thead tr:last-of-type th {\n",
       "        text-align: right;\n",
       "    }\n",
       "</style>\n",
       "<table border=\"1\" class=\"dataframe\">\n",
       "  <thead>\n",
       "    <tr>\n",
       "      <th></th>\n",
       "      <th>first_day_exposition</th>\n",
       "      <th>price_metr</th>\n",
       "      <th colspan=\"2\" halign=\"left\">last_price</th>\n",
       "    </tr>\n",
       "    <tr>\n",
       "      <th></th>\n",
       "      <th>count</th>\n",
       "      <th>mean</th>\n",
       "      <th>max</th>\n",
       "      <th>min</th>\n",
       "    </tr>\n",
       "    <tr>\n",
       "      <th>locality_name</th>\n",
       "      <th></th>\n",
       "      <th></th>\n",
       "      <th></th>\n",
       "      <th></th>\n",
       "    </tr>\n",
       "  </thead>\n",
       "  <tbody>\n",
       "    <tr>\n",
       "      <td>Санкт-Петербург</td>\n",
       "      <td>13055</td>\n",
       "      <td>104898.553380</td>\n",
       "      <td>18500000.0</td>\n",
       "      <td>1190000.0</td>\n",
       "    </tr>\n",
       "    <tr>\n",
       "      <td>посёлок Мурино</td>\n",
       "      <td>516</td>\n",
       "      <td>85733.030887</td>\n",
       "      <td>8500000.0</td>\n",
       "      <td>1730000.0</td>\n",
       "    </tr>\n",
       "    <tr>\n",
       "      <td>посёлок Шушары</td>\n",
       "      <td>433</td>\n",
       "      <td>78589.012200</td>\n",
       "      <td>10990000.0</td>\n",
       "      <td>1500000.0</td>\n",
       "    </tr>\n",
       "    <tr>\n",
       "      <td>Всеволожск</td>\n",
       "      <td>386</td>\n",
       "      <td>67479.052162</td>\n",
       "      <td>10890000.0</td>\n",
       "      <td>965780.0</td>\n",
       "    </tr>\n",
       "    <tr>\n",
       "      <td>Пушкин</td>\n",
       "      <td>330</td>\n",
       "      <td>101368.438160</td>\n",
       "      <td>16912000.0</td>\n",
       "      <td>1990000.0</td>\n",
       "    </tr>\n",
       "    <tr>\n",
       "      <td>Колпино</td>\n",
       "      <td>327</td>\n",
       "      <td>75530.658059</td>\n",
       "      <td>12750000.0</td>\n",
       "      <td>2100000.0</td>\n",
       "    </tr>\n",
       "    <tr>\n",
       "      <td>посёлок Парголово</td>\n",
       "      <td>325</td>\n",
       "      <td>90362.345200</td>\n",
       "      <td>9140000.0</td>\n",
       "      <td>1400000.0</td>\n",
       "    </tr>\n",
       "    <tr>\n",
       "      <td>деревня Кудрово</td>\n",
       "      <td>298</td>\n",
       "      <td>92409.726322</td>\n",
       "      <td>10500000.0</td>\n",
       "      <td>1800000.0</td>\n",
       "    </tr>\n",
       "    <tr>\n",
       "      <td>Гатчина</td>\n",
       "      <td>295</td>\n",
       "      <td>69557.103903</td>\n",
       "      <td>13900000.0</td>\n",
       "      <td>1480000.0</td>\n",
       "    </tr>\n",
       "    <tr>\n",
       "      <td>Выборг</td>\n",
       "      <td>201</td>\n",
       "      <td>59586.482241</td>\n",
       "      <td>8000000.0</td>\n",
       "      <td>1050000.0</td>\n",
       "    </tr>\n",
       "  </tbody>\n",
       "</table>\n",
       "</div>"
      ],
      "text/plain": [
       "                  first_day_exposition     price_metr  last_price           \n",
       "                                 count           mean         max        min\n",
       "locality_name                                                               \n",
       "Санкт-Петербург                  13055  104898.553380  18500000.0  1190000.0\n",
       "посёлок Мурино                     516   85733.030887   8500000.0  1730000.0\n",
       "посёлок Шушары                     433   78589.012200  10990000.0  1500000.0\n",
       "Всеволожск                         386   67479.052162  10890000.0   965780.0\n",
       "Пушкин                             330  101368.438160  16912000.0  1990000.0\n",
       "Колпино                            327   75530.658059  12750000.0  2100000.0\n",
       "посёлок Парголово                  325   90362.345200   9140000.0  1400000.0\n",
       "деревня Кудрово                    298   92409.726322  10500000.0  1800000.0\n",
       "Гатчина                            295   69557.103903  13900000.0  1480000.0\n",
       "Выборг                             201   59586.482241   8000000.0  1050000.0"
      ]
     },
     "metadata": {},
     "output_type": "display_data"
    }
   ],
   "source": [
    "data = new_df.groupby('locality_name').agg({'first_day_exposition': 'count', 'price_metr': 'mean', 'last_price': ['max', 'min']}).sort_values(by= ('first_day_exposition', 'count'), ascending = False).head(10)\n",
    "display(data)"
   ]
  },
  {
   "cell_type": "markdown",
   "metadata": {},
   "source": [
    "Итак, выделим населённые пункты с самой высокой и низкой стоимостью жилья."
   ]
  },
  {
   "cell_type": "code",
   "execution_count": 43,
   "metadata": {},
   "outputs": [
    {
     "data": {
      "text/html": [
       "<div>\n",
       "<style scoped>\n",
       "    .dataframe tbody tr th:only-of-type {\n",
       "        vertical-align: middle;\n",
       "    }\n",
       "\n",
       "    .dataframe tbody tr th {\n",
       "        vertical-align: top;\n",
       "    }\n",
       "\n",
       "    .dataframe thead tr th {\n",
       "        text-align: left;\n",
       "    }\n",
       "\n",
       "    .dataframe thead tr:last-of-type th {\n",
       "        text-align: right;\n",
       "    }\n",
       "</style>\n",
       "<table border=\"1\" class=\"dataframe\">\n",
       "  <thead>\n",
       "    <tr>\n",
       "      <th></th>\n",
       "      <th>first_day_exposition</th>\n",
       "      <th>price_metr</th>\n",
       "      <th colspan=\"2\" halign=\"left\">last_price</th>\n",
       "    </tr>\n",
       "    <tr>\n",
       "      <th></th>\n",
       "      <th>count</th>\n",
       "      <th>mean</th>\n",
       "      <th>max</th>\n",
       "      <th>min</th>\n",
       "    </tr>\n",
       "    <tr>\n",
       "      <th>locality_name</th>\n",
       "      <th></th>\n",
       "      <th></th>\n",
       "      <th></th>\n",
       "      <th></th>\n",
       "    </tr>\n",
       "  </thead>\n",
       "  <tbody>\n",
       "    <tr>\n",
       "      <td>Санкт-Петербург</td>\n",
       "      <td>13055</td>\n",
       "      <td>104898.553380</td>\n",
       "      <td>18500000.0</td>\n",
       "      <td>1190000.0</td>\n",
       "    </tr>\n",
       "    <tr>\n",
       "      <td>Пушкин</td>\n",
       "      <td>330</td>\n",
       "      <td>101368.438160</td>\n",
       "      <td>16912000.0</td>\n",
       "      <td>1990000.0</td>\n",
       "    </tr>\n",
       "    <tr>\n",
       "      <td>Гатчина</td>\n",
       "      <td>295</td>\n",
       "      <td>69557.103903</td>\n",
       "      <td>13900000.0</td>\n",
       "      <td>1480000.0</td>\n",
       "    </tr>\n",
       "    <tr>\n",
       "      <td>Колпино</td>\n",
       "      <td>327</td>\n",
       "      <td>75530.658059</td>\n",
       "      <td>12750000.0</td>\n",
       "      <td>2100000.0</td>\n",
       "    </tr>\n",
       "    <tr>\n",
       "      <td>посёлок Шушары</td>\n",
       "      <td>433</td>\n",
       "      <td>78589.012200</td>\n",
       "      <td>10990000.0</td>\n",
       "      <td>1500000.0</td>\n",
       "    </tr>\n",
       "    <tr>\n",
       "      <td>Всеволожск</td>\n",
       "      <td>386</td>\n",
       "      <td>67479.052162</td>\n",
       "      <td>10890000.0</td>\n",
       "      <td>965780.0</td>\n",
       "    </tr>\n",
       "    <tr>\n",
       "      <td>деревня Кудрово</td>\n",
       "      <td>298</td>\n",
       "      <td>92409.726322</td>\n",
       "      <td>10500000.0</td>\n",
       "      <td>1800000.0</td>\n",
       "    </tr>\n",
       "    <tr>\n",
       "      <td>посёлок Парголово</td>\n",
       "      <td>325</td>\n",
       "      <td>90362.345200</td>\n",
       "      <td>9140000.0</td>\n",
       "      <td>1400000.0</td>\n",
       "    </tr>\n",
       "    <tr>\n",
       "      <td>посёлок Мурино</td>\n",
       "      <td>516</td>\n",
       "      <td>85733.030887</td>\n",
       "      <td>8500000.0</td>\n",
       "      <td>1730000.0</td>\n",
       "    </tr>\n",
       "    <tr>\n",
       "      <td>Выборг</td>\n",
       "      <td>201</td>\n",
       "      <td>59586.482241</td>\n",
       "      <td>8000000.0</td>\n",
       "      <td>1050000.0</td>\n",
       "    </tr>\n",
       "  </tbody>\n",
       "</table>\n",
       "</div>"
      ],
      "text/plain": [
       "                  first_day_exposition     price_metr  last_price           \n",
       "                                 count           mean         max        min\n",
       "locality_name                                                               \n",
       "Санкт-Петербург                  13055  104898.553380  18500000.0  1190000.0\n",
       "Пушкин                             330  101368.438160  16912000.0  1990000.0\n",
       "Гатчина                            295   69557.103903  13900000.0  1480000.0\n",
       "Колпино                            327   75530.658059  12750000.0  2100000.0\n",
       "посёлок Шушары                     433   78589.012200  10990000.0  1500000.0\n",
       "Всеволожск                         386   67479.052162  10890000.0   965780.0\n",
       "деревня Кудрово                    298   92409.726322  10500000.0  1800000.0\n",
       "посёлок Парголово                  325   90362.345200   9140000.0  1400000.0\n",
       "посёлок Мурино                     516   85733.030887   8500000.0  1730000.0\n",
       "Выборг                             201   59586.482241   8000000.0  1050000.0"
      ]
     },
     "execution_count": 43,
     "metadata": {},
     "output_type": "execute_result"
    }
   ],
   "source": [
    "data.sort_values(by= ('last_price', 'max'), ascending= False)"
   ]
  },
  {
   "cell_type": "code",
   "execution_count": 44,
   "metadata": {},
   "outputs": [
    {
     "data": {
      "text/html": [
       "<div>\n",
       "<style scoped>\n",
       "    .dataframe tbody tr th:only-of-type {\n",
       "        vertical-align: middle;\n",
       "    }\n",
       "\n",
       "    .dataframe tbody tr th {\n",
       "        vertical-align: top;\n",
       "    }\n",
       "\n",
       "    .dataframe thead tr th {\n",
       "        text-align: left;\n",
       "    }\n",
       "\n",
       "    .dataframe thead tr:last-of-type th {\n",
       "        text-align: right;\n",
       "    }\n",
       "</style>\n",
       "<table border=\"1\" class=\"dataframe\">\n",
       "  <thead>\n",
       "    <tr>\n",
       "      <th></th>\n",
       "      <th>first_day_exposition</th>\n",
       "      <th>price_metr</th>\n",
       "      <th colspan=\"2\" halign=\"left\">last_price</th>\n",
       "    </tr>\n",
       "    <tr>\n",
       "      <th></th>\n",
       "      <th>count</th>\n",
       "      <th>mean</th>\n",
       "      <th>max</th>\n",
       "      <th>min</th>\n",
       "    </tr>\n",
       "    <tr>\n",
       "      <th>locality_name</th>\n",
       "      <th></th>\n",
       "      <th></th>\n",
       "      <th></th>\n",
       "      <th></th>\n",
       "    </tr>\n",
       "  </thead>\n",
       "  <tbody>\n",
       "    <tr>\n",
       "      <td>Всеволожск</td>\n",
       "      <td>386</td>\n",
       "      <td>67479.052162</td>\n",
       "      <td>10890000.0</td>\n",
       "      <td>965780.0</td>\n",
       "    </tr>\n",
       "    <tr>\n",
       "      <td>Выборг</td>\n",
       "      <td>201</td>\n",
       "      <td>59586.482241</td>\n",
       "      <td>8000000.0</td>\n",
       "      <td>1050000.0</td>\n",
       "    </tr>\n",
       "    <tr>\n",
       "      <td>Санкт-Петербург</td>\n",
       "      <td>13055</td>\n",
       "      <td>104898.553380</td>\n",
       "      <td>18500000.0</td>\n",
       "      <td>1190000.0</td>\n",
       "    </tr>\n",
       "    <tr>\n",
       "      <td>посёлок Парголово</td>\n",
       "      <td>325</td>\n",
       "      <td>90362.345200</td>\n",
       "      <td>9140000.0</td>\n",
       "      <td>1400000.0</td>\n",
       "    </tr>\n",
       "    <tr>\n",
       "      <td>Гатчина</td>\n",
       "      <td>295</td>\n",
       "      <td>69557.103903</td>\n",
       "      <td>13900000.0</td>\n",
       "      <td>1480000.0</td>\n",
       "    </tr>\n",
       "    <tr>\n",
       "      <td>посёлок Шушары</td>\n",
       "      <td>433</td>\n",
       "      <td>78589.012200</td>\n",
       "      <td>10990000.0</td>\n",
       "      <td>1500000.0</td>\n",
       "    </tr>\n",
       "    <tr>\n",
       "      <td>посёлок Мурино</td>\n",
       "      <td>516</td>\n",
       "      <td>85733.030887</td>\n",
       "      <td>8500000.0</td>\n",
       "      <td>1730000.0</td>\n",
       "    </tr>\n",
       "    <tr>\n",
       "      <td>деревня Кудрово</td>\n",
       "      <td>298</td>\n",
       "      <td>92409.726322</td>\n",
       "      <td>10500000.0</td>\n",
       "      <td>1800000.0</td>\n",
       "    </tr>\n",
       "    <tr>\n",
       "      <td>Пушкин</td>\n",
       "      <td>330</td>\n",
       "      <td>101368.438160</td>\n",
       "      <td>16912000.0</td>\n",
       "      <td>1990000.0</td>\n",
       "    </tr>\n",
       "    <tr>\n",
       "      <td>Колпино</td>\n",
       "      <td>327</td>\n",
       "      <td>75530.658059</td>\n",
       "      <td>12750000.0</td>\n",
       "      <td>2100000.0</td>\n",
       "    </tr>\n",
       "  </tbody>\n",
       "</table>\n",
       "</div>"
      ],
      "text/plain": [
       "                  first_day_exposition     price_metr  last_price           \n",
       "                                 count           mean         max        min\n",
       "locality_name                                                               \n",
       "Всеволожск                         386   67479.052162  10890000.0   965780.0\n",
       "Выборг                             201   59586.482241   8000000.0  1050000.0\n",
       "Санкт-Петербург                  13055  104898.553380  18500000.0  1190000.0\n",
       "посёлок Парголово                  325   90362.345200   9140000.0  1400000.0\n",
       "Гатчина                            295   69557.103903  13900000.0  1480000.0\n",
       "посёлок Шушары                     433   78589.012200  10990000.0  1500000.0\n",
       "посёлок Мурино                     516   85733.030887   8500000.0  1730000.0\n",
       "деревня Кудрово                    298   92409.726322  10500000.0  1800000.0\n",
       "Пушкин                             330  101368.438160  16912000.0  1990000.0\n",
       "Колпино                            327   75530.658059  12750000.0  2100000.0"
      ]
     },
     "execution_count": 44,
     "metadata": {},
     "output_type": "execute_result"
    }
   ],
   "source": [
    "data.sort_values(by= ('last_price', 'min'), ascending= True)"
   ]
  },
  {
   "cell_type": "markdown",
   "metadata": {},
   "source": [
    "Итак, самая высокая стоимость жилья, как и предполагалось - в самом Питере, на втором месте Всеволжск, на третьем - Выборг. \\\n",
    "Рейтинг самой низкой стоимости жилья выглядит следующим образом: 1-е место у Тихвина, 2-е место занимает пгт Дубровка, и 3-е место достается Всеволжску. Т.о. получается, что Всеволжск занимает 2-е место в обоих рейтингах. Видимо, в этом городе есть как обычные панельные многоэтажки, так и частные загородные дома."
   ]
  },
  {
   "cell_type": "markdown",
   "metadata": {},
   "source": [
    "### Оценка стоимости жилья в Питере в зависимости от удаленности от центра<a id=\"spb\"></a>"
   ]
  },
  {
   "cell_type": "markdown",
   "metadata": {},
   "source": [
    "Для начала выделим из нашего датафрейма объяления в пределах Питера."
   ]
  },
  {
   "cell_type": "code",
   "execution_count": 45,
   "metadata": {},
   "outputs": [
    {
     "name": "stdout",
     "output_type": "stream",
     "text": [
      "Размер датафрейма после очистки: 13055\n"
     ]
    }
   ],
   "source": [
    "spb =new_df.query('locality_name == \"Санкт-Петербург\"')\n",
    "print('Размер датафрейма после очистки:', spb.shape[0])"
   ]
  },
  {
   "cell_type": "markdown",
   "metadata": {},
   "source": [
    "Теперь построим графики, на которых будет изображена зависимость средней цены за 1 кв.м. от расстояния до центра (красная линия), а также - количество объявлений на каждый км расстояния до центра (черная линия)."
   ]
  },
  {
   "cell_type": "code",
   "execution_count": 46,
   "metadata": {},
   "outputs": [
    {
     "data": {
      "image/png": "[encoded data removed]",
      "text/plain": [
       "<Figure size 1080x216 with 2 Axes>"
      ]
     },
     "metadata": {
      "needs_background": "light"
     },
     "output_type": "display_data"
    }
   ],
   "source": [
    "report = spb.groupby('centr_km').agg({'price_metr': 'mean', 'last_price': 'count'})\n",
    "ax = report['price_metr'].plot(grid =True, figsize = (15, 3), color = 'red')# график средней цены за км\n",
    "report['last_price'].plot(figsize = (15, 3), ax = ax.twinx(), color = 'black')# график числа объявлений\n",
    "plt.xticks(report.index.values, report.index.values) \n",
    "plt.show()"
   ]
  },
  {
   "cell_type": "markdown",
   "metadata": {},
   "source": [
    "Красная линия нам показывает среднюю стоимость 1 кв.м на каждом км, а черная - количество объявлений на каждом км расстояния от центра. Видим, что цена с 7-го километра начинает снижаться, в то время как количество объявлений на этом же значении начинет расти. Смею предположить, что в центральную зону входит облать радиусом 7 км от центра города."
   ]
  },
  {
   "cell_type": "markdown",
   "metadata": {},
   "source": [
    "### Исследование квартир в центре города <a id=\"centr\"></a>"
   ]
  },
  {
   "cell_type": "markdown",
   "metadata": {},
   "source": [
    "Выделим сегмент квартир в центре. Проанализируем эту территорию и изучим следующие параметры: площадь, цена, число комнат, высота потолков. Также выделим факторы, которые влияют на стоимость квартиры (число комнат, этаж, удалённость от центра, дата размещения объявления)."
   ]
  },
  {
   "cell_type": "code",
   "execution_count": 47,
   "metadata": {},
   "outputs": [
    {
     "name": "stdout",
     "output_type": "stream",
     "text": [
      "Размер датафрейма после очистки: 1888\n"
     ]
    }
   ],
   "source": [
    "centr = spb.query('centr_km <= 7')\n",
    "print('Размер датафрейма после очистки:', centr.shape[0])"
   ]
  },
  {
   "cell_type": "markdown",
   "metadata": {},
   "source": [
    "Проанализируем по данному датасету следующие параметры: площадь, цена, число комнат, высота потолков. "
   ]
  },
  {
   "cell_type": "code",
   "execution_count": 48,
   "metadata": {},
   "outputs": [
    {
     "data": {
      "image/png": "[encoded data removed]",
      "text/plain": [
       "<Figure size 1080x360 with 1 Axes>"
      ]
     },
     "metadata": {
      "needs_background": "light"
     },
     "output_type": "display_data"
    }
   ],
   "source": [
    "centr.plot(kind='scatter', x = 'total_area', y = 'price_metr', figsize=(15, 5), grid =True)\n",
    "plt.title(\"Распределение цены за 1 кв.м в центре города\")\n",
    "plt.xlabel(\"Площадь объекта\")\n",
    "plt.ylabel(\"Цена\")\n",
    "plt.show()"
   ]
  },
  {
   "cell_type": "code",
   "execution_count": 49,
   "metadata": {},
   "outputs": [
    {
     "data": {
      "image/png": "[encoded data removed]",
      "text/plain": [
       "<Figure size 432x288 with 1 Axes>"
      ]
     },
     "metadata": {
      "needs_background": "light"
     },
     "output_type": "display_data"
    }
   ],
   "source": [
    "centr.boxplot('total_area')\n",
    "plt.show()"
   ]
  },
  {
   "cell_type": "markdown",
   "metadata": {},
   "source": [
    "Итак, в центре чаще всего распространены квартиры с площадью от 40 до 70 (наиболее плотное рассредоточие), чуть меньше квартир площадью 80-100 кв.м, и еще меньше от 100 и больше. Не особо распространены картиры площадью менее 40 кв.м, но таковые все же есть.Как показывает диграмма размаха - аномалий среди значений в данном случае нет.\\\n",
    "Перейдем к следующему параметру - числу комнат."
   ]
  },
  {
   "cell_type": "code",
   "execution_count": 50,
   "metadata": {},
   "outputs": [
    {
     "data": {
      "image/png": "[encoded data removed]",
      "text/plain": [
       "<Figure size 1080x360 with 1 Axes>"
      ]
     },
     "metadata": {
      "needs_background": "light"
     },
     "output_type": "display_data"
    }
   ],
   "source": [
    "centr.plot(y= 'rooms', kind='hist', figsize=(15, 5), grid =True)\n",
    "plt.title(\"Распределение числа комнат в объектах центра города\")\n",
    "plt.xlabel(\"Число комнат\")\n",
    "plt.ylabel(\"Частота в выборке\")\n",
    "plt.show()"
   ]
  },
  {
   "cell_type": "code",
   "execution_count": 51,
   "metadata": {},
   "outputs": [
    {
     "data": {
      "image/png": "[encoded data removed]",
      "text/plain": [
       "<Figure size 432x288 with 1 Axes>"
      ]
     },
     "metadata": {
      "needs_background": "light"
     },
     "output_type": "display_data"
    }
   ],
   "source": [
    "centr.boxplot('rooms')\n",
    "plt.show()"
   ]
  },
  {
   "cell_type": "markdown",
   "metadata": {},
   "source": [
    "В центре реже всего встречаются квартиры с 4 комнатами, а чаще всего - двухкомнатные, чуть реже - трехкомнатные. Видимо, в центральном районе планировка квартир в основном именно на 2-3 комнаты. Значение у нуля считаем выбросом."
   ]
  },
  {
   "cell_type": "code",
   "execution_count": 52,
   "metadata": {},
   "outputs": [],
   "source": [
    "p5_rooms = centr['rooms'].quantile(0.05)"
   ]
  },
  {
   "cell_type": "code",
   "execution_count": 53,
   "metadata": {},
   "outputs": [
    {
     "data": {
      "image/png": "[encoded data removed]",
      "text/plain": [
       "<Figure size 1080x360 with 1 Axes>"
      ]
     },
     "metadata": {
      "needs_background": "light"
     },
     "output_type": "display_data"
    }
   ],
   "source": [
    "centr.plot(y= 'ceiling_height', kind='hist', bins=20, figsize=(15, 5), grid =True)\n",
    "plt.title(\"Распределение высоты потолков в объектах центра города\")\n",
    "plt.xlabel(\"Высота, м\")\n",
    "plt.ylabel(\"Частота в выборке\")\n",
    "plt.show()"
   ]
  },
  {
   "cell_type": "code",
   "execution_count": 54,
   "metadata": {},
   "outputs": [
    {
     "data": {
      "image/png": "[encoded data removed]",
      "text/plain": [
       "<Figure size 432x288 with 1 Axes>"
      ]
     },
     "metadata": {
      "needs_background": "light"
     },
     "output_type": "display_data"
    }
   ],
   "source": [
    "centr.boxplot('ceiling_height')\n",
    "plt.show()"
   ]
  },
  {
   "cell_type": "markdown",
   "metadata": {},
   "source": [
    "Как показывают данные, в центре квартиры с высокими потолками от 2.5 м. Но чаще всего в объявлениях фигурирует высота 2.65, реже 3 м, остальные значения - примерно на одном уровне. Как видно из диаграммы размаха, выбросов среди значений по этому критерию у нас нет."
   ]
  },
  {
   "cell_type": "code",
   "execution_count": 55,
   "metadata": {},
   "outputs": [
    {
     "data": {
      "image/png": "[encoded data removed]",
      "text/plain": [
       "<Figure size 1080x360 with 1 Axes>"
      ]
     },
     "metadata": {
      "needs_background": "light"
     },
     "output_type": "display_data"
    }
   ],
   "source": [
    "centr.plot(y= 'price_metr', kind='hist', bins=30, figsize=(15, 5), grid =True)\n",
    "plt.title(\"Распределение цены за 1 кв.м в центре города\")\n",
    "plt.xlabel(\"Цена\")\n",
    "plt.ylabel(\"Частота в выборке\")\n",
    "plt.show()"
   ]
  },
  {
   "cell_type": "markdown",
   "metadata": {},
   "source": [
    "Похоже на нормальное распределение, но есть какой-то хвост спереди. Проверим данные на наличие аномалий."
   ]
  },
  {
   "cell_type": "code",
   "execution_count": 56,
   "metadata": {},
   "outputs": [
    {
     "data": {
      "image/png": "[encoded data removed]",
      "text/plain": [
       "<Figure size 432x288 with 1 Axes>"
      ]
     },
     "metadata": {
      "needs_background": "light"
     },
     "output_type": "display_data"
    }
   ],
   "source": [
    "centr.boxplot('price_metr')\n",
    "plt.show()"
   ]
  },
  {
   "cell_type": "markdown",
   "metadata": {},
   "source": [
    "Как показывает диаграмма разброса, есть аномалия до нижнего \"уса\". Вычислим 5 перцентиль."
   ]
  },
  {
   "cell_type": "code",
   "execution_count": 57,
   "metadata": {},
   "outputs": [],
   "source": [
    "p5_price = centr['price_metr'].quantile(0.05)"
   ]
  },
  {
   "cell_type": "markdown",
   "metadata": {},
   "source": [
    "Итак, для центральной части города мы рассмотрели такие параметры как: цена за 1 кв.м, число комнат, высота потолков, а также площадь квартир. В некоторых из них были выявлены аномалии, которые будут отсечены перед дальнейшим анализом квартир в этой части города."
   ]
  },
  {
   "cell_type": "code",
   "execution_count": 58,
   "metadata": {},
   "outputs": [
    {
     "name": "stdout",
     "output_type": "stream",
     "text": [
      "Размер фрейма после очистки по всем параметрам: 1782\n"
     ]
    }
   ],
   "source": [
    "new_centr = centr.query('price_metr >= @p5_price and rooms >= @p5_rooms')\n",
    "print('Размер фрейма после очистки по всем параметрам:', new_centr.shape[0])"
   ]
  },
  {
   "cell_type": "markdown",
   "metadata": {},
   "source": [
    "Пришло время изучить влияние факторов, которые влияют на стоимость квартиры (число комнат, этаж, удалённость от центра, дата размещения объявления)."
   ]
  },
  {
   "cell_type": "code",
   "execution_count": 59,
   "metadata": {},
   "outputs": [
    {
     "data": {
      "image/png": "[encoded data removed]",
      "text/plain": [
       "<Figure size 864x360 with 1 Axes>"
      ]
     },
     "metadata": {
      "needs_background": "light"
     },
     "output_type": "display_data"
    }
   ],
   "source": [
    "new_centr.pivot_table(index ='rooms', values ='price_metr', aggfunc = 'median').plot(ylim =0, grid=True, figsize=(12, 5))\n",
    "plt.title(\"Распределение цены 1 кв.м в зависимости от числа комнат в объектах центра города\")\n",
    "plt.xlabel(\"Число комнат\")\n",
    "plt.ylabel(\"Цена за 1 ка.м\")\n",
    "plt.show()"
   ]
  },
  {
   "cell_type": "code",
   "execution_count": 60,
   "metadata": {},
   "outputs": [
    {
     "data": {
      "text/plain": [
       "-0.3391582032402999"
      ]
     },
     "execution_count": 60,
     "metadata": {},
     "output_type": "execute_result"
    }
   ],
   "source": [
    "new_centr['rooms'].corr(new_centr['price_metr'])"
   ]
  },
  {
   "cell_type": "markdown",
   "metadata": {},
   "source": [
    "Как видно из графика, а также подтверждено коэффициентом корреляции - увеличение числа комнат приводит к уменьшению цены за 1 кв.м. Такая же тенденция наблюдалась при рассмотрении этого параметра для всего города."
   ]
  },
  {
   "cell_type": "code",
   "execution_count": 61,
   "metadata": {},
   "outputs": [
    {
     "data": {
      "text/plain": [
       "Text(0, 0.5, 'Цена за 1 ка.м')"
      ]
     },
     "execution_count": 61,
     "metadata": {},
     "output_type": "execute_result"
    },
    {
     "data": {
      "image/png": "[encoded data removed]",
      "text/plain": [
       "<Figure size 432x288 with 1 Axes>"
      ]
     },
     "metadata": {
      "needs_background": "light"
     },
     "output_type": "display_data"
    }
   ],
   "source": [
    "report = new_centr.groupby('floor_group_new').agg({'price_metr': 'median'})\n",
    "report.plot()\n",
    "plt.title(\"Распределение цены 1 кв.м в зависимости от этажности объекта в центре города\")\n",
    "plt.xlabel(\"Этаж\")\n",
    "plt.ylabel(\"Цена за 1 ка.м\")"
   ]
  },
  {
   "cell_type": "markdown",
   "metadata": {},
   "source": [
    "Снова видим похожую картину - в центре первые этажи не пользуются спросом, намного востребованнее (соответственно, и дороже) этажи посередине, ну или хотя бы последний. Различие в графиках по цене за 1 кв.м. - цена за 1 кв.м вне центра  на среднем этаже примерно на том же уровне, что и цена за 1 кв.м в центре на последнем."
   ]
  },
  {
   "cell_type": "code",
   "execution_count": 62,
   "metadata": {},
   "outputs": [
    {
     "data": {
      "text/plain": [
       "Text(0, 0.5, 'Цена за 1 ка.м')"
      ]
     },
     "execution_count": 62,
     "metadata": {},
     "output_type": "execute_result"
    },
    {
     "data": {
      "image/png": "[encoded data removed]",
      "text/plain": [
       "<Figure size 1008x216 with 1 Axes>"
      ]
     },
     "metadata": {
      "needs_background": "light"
     },
     "output_type": "display_data"
    }
   ],
   "source": [
    "new_centr.pivot_table(index ='centr_km', values ='price_metr', aggfunc = 'median')\\\n",
    "                        .plot(xlim=0, ylim =0, grid=True, figsize=(14, 3))\n",
    "plt.title(\"Распределение цены 1 кв.м в зависимости от удаленности от центра (в пределах 7 км)\")\n",
    "plt.xlabel(\"Расстояние, км\")\n",
    "plt.ylabel(\"Цена за 1 ка.м\")"
   ]
  },
  {
   "cell_type": "markdown",
   "metadata": {},
   "source": [
    "Видим, что цена до 0 до 3 км держится на уровне 110 тыс. за 1 кв.м, однако с 3-го километра она начинает расти и с 4-го по 7-й км, цена за кв.м. составляет уже 120 тыс. Скорее всего, в центре (именно в радиусе 3 км) много туристов, что сказывается на цене жилплощади. "
   ]
  },
  {
   "cell_type": "code",
   "execution_count": 63,
   "metadata": {},
   "outputs": [
    {
     "data": {
      "text/plain": [
       "0.10805546659826475"
      ]
     },
     "execution_count": 63,
     "metadata": {},
     "output_type": "execute_result"
    }
   ],
   "source": [
    "new_centr['centr_km'].corr(new_centr['price_metr'])"
   ]
  },
  {
   "cell_type": "markdown",
   "metadata": {},
   "source": [
    "Коэфф. корреляции положительный, а это значит, что по мере удаленности от центра цена за жилье возрастает. В отличие от остальной части города.\\\n",
    "Изучим теперь влияние времени размещения объявления на цену."
   ]
  },
  {
   "cell_type": "code",
   "execution_count": 64,
   "metadata": {},
   "outputs": [
    {
     "data": {
      "text/plain": [
       "Text(0, 0.5, 'Цена за 1 ка.м')"
      ]
     },
     "execution_count": 64,
     "metadata": {},
     "output_type": "execute_result"
    },
    {
     "data": {
      "image/png": "[encoded data removed]",
      "text/plain": [
       "<Figure size 432x288 with 1 Axes>"
      ]
     },
     "metadata": {
      "needs_background": "light"
     },
     "output_type": "display_data"
    }
   ],
   "source": [
    "new_centr.groupby('weekday').agg({'price_metr': 'median'}).plot()\n",
    "plt.title(\"Распределение цены 1 кв.м в зависимости от времени пуубликации объявления\")\n",
    "plt.xlabel(\"День недели\")\n",
    "plt.ylabel(\"Цена за 1 ка.м\")"
   ]
  },
  {
   "cell_type": "markdown",
   "metadata": {},
   "source": [
    "В отличие от ситуации со всем городом, в центре наблюдается 2 минимума по значению цены за кв.м - во вторник и четверг, в то время как во всем городе по вторникам наблюдалась самая высокая цена. В центре же цена достигает макимума в субботу и воскресенье держится примерно на том же уровне."
   ]
  },
  {
   "cell_type": "code",
   "execution_count": 65,
   "metadata": {},
   "outputs": [
    {
     "data": {
      "text/plain": [
       "Text(0, 0.5, 'Цена за 1 ка.м')"
      ]
     },
     "execution_count": 65,
     "metadata": {},
     "output_type": "execute_result"
    },
    {
     "data": {
      "image/png": "[encoded data removed]",
      "text/plain": [
       "<Figure size 432x288 with 1 Axes>"
      ]
     },
     "metadata": {
      "needs_background": "light"
     },
     "output_type": "display_data"
    }
   ],
   "source": [
    "new_centr.groupby('month').agg({'price_metr': 'median'}).plot()\n",
    "plt.title(\"Распределение цены 1 кв.м в зависимости от времени пуубликации объявления\")\n",
    "plt.xlabel(\"Месяц\")\n",
    "plt.ylabel(\"Цена за 1 ка.м\")"
   ]
  },
  {
   "cell_type": "markdown",
   "metadata": {},
   "source": [
    "Изменение цены по месяцам в центре выглядит динамичнее. Май также как и во всем городе характеризуется спадом цены на жилье. В отличие от всего города, в центре спад цен наблюдается в феврале, июле и ноябре. Самое высокое значение наблюдаем в марте, не такой значительный, но все же росто цен наблюдается и в августе, а в большей чати города - в апреле. Во всем городе с мая по август был плавный рост цены, как видим в центре - цены то росли, то падали."
   ]
  },
  {
   "cell_type": "code",
   "execution_count": 66,
   "metadata": {},
   "outputs": [
    {
     "data": {
      "text/plain": [
       "Text(0, 0.5, 'Цена за 1 ка.м')"
      ]
     },
     "execution_count": 66,
     "metadata": {},
     "output_type": "execute_result"
    },
    {
     "data": {
      "image/png": "[encoded data removed]",
      "text/plain": [
       "<Figure size 432x288 with 1 Axes>"
      ]
     },
     "metadata": {
      "needs_background": "light"
     },
     "output_type": "display_data"
    }
   ],
   "source": [
    "new_centr.groupby('year').agg({'price_metr': 'median'}).plot()\n",
    "plt.title(\"Распределение цены 1 кв.м в зависимости от времени пуубликации объявления\")\n",
    "plt.xlabel(\"Год\")\n",
    "plt.ylabel(\"Цена за 1 ка.м\")"
   ]
  },
  {
   "cell_type": "markdown",
   "metadata": {},
   "source": [
    "В отличие от всего остального города в центре постоянный рост цен на жилье, стоит отметить, что если в период с 2015 по 2017 гг в городе цены за кв. м. держались примерно на одном уровне, то в центре за аналогичный период цены все таки росли. "
   ]
  },
  {
   "cell_type": "markdown",
   "metadata": {},
   "source": [
    "### Общий вывод"
   ]
  },
  {
   "cell_type": "markdown",
   "metadata": {},
   "source": [
    "Проведен анализ архива объявлений о продаже квартир в Санкт-Петербурге и соседних населённых пунктов за несколько лет с предыдущей предобработкой данных.\\\n",
    "Выявлено, что на цену жилья, как в центре, так и для всего остального города однаково влияют следующие факторы:\n",
    "1. этаж - люди во всем городе предпочитают средние этажи крайним, соответственно, на крайних этажах цена за 1 кв.м. ниже, чем на серединных;\n",
    "2. число комнат, чем больше комнат в квартире, тем ниже цена за 1 кв.м.\\\n",
    "Площадь жилья не влияет на стоимость квадратного метра.\\\n",
    "Если просматривать объявления о продаже квартир по датам (месяц и день), то в случае месячных данных - некая схожесть есть (минимальное значение за 1 кв.м в мае), но различий вссе же больше. Если анализировать объявления во всем городе и центре по дням - общего нет ничего. Все таки продажа/приобретение жилья это серьезный вопрос на более широкую переспективу, поэтому надо полагаться на более долгий срок, нежели день или месяц - полгода/год. Поэтому я бы ориентировалась на годовые показатели. Для центра и остальной части города они отличаются. \\\n",
    "Как и отличается динамика цен в зависимости от уаленности от центра. Самые дорогие квартиры находятся в центральной зоне в диапазоне 4-7 км от центра, справа от этого промежутка (т.е. в нецентральной части города) цены за кв.метр падают, в диапазоне 0-3 км -цены немного ниже, но держатся на одном уровне."
   ]
  }
 ],
 "metadata": {
  "ExecuteTimeLog": [
   {
    "duration": 848,
    "start_time": "2021-07-25T18:17:43.334Z"
   },
   {
    "duration": 119,
    "start_time": "2021-07-25T18:17:44.185Z"
   },
   {
    "duration": 15,
    "start_time": "2021-07-25T18:17:44.307Z"
   },
   {
    "duration": 11,
    "start_time": "2021-07-25T18:17:44.325Z"
   },
   {
    "duration": 50,
    "start_time": "2021-07-25T18:17:44.338Z"
   },
   {
    "duration": 19,
    "start_time": "2021-07-25T18:17:44.391Z"
   },
   {
    "duration": 35,
    "start_time": "2021-07-25T18:17:44.412Z"
   },
   {
    "duration": 99,
    "start_time": "2021-07-25T18:17:44.451Z"
   },
   {
    "duration": 177,
    "start_time": "2021-07-25T18:17:44.554Z"
   },
   {
    "duration": 57,
    "start_time": "2021-07-25T18:17:44.734Z"
   },
   {
    "duration": 24,
    "start_time": "2021-07-25T18:17:44.794Z"
   },
   {
    "duration": 21,
    "start_time": "2021-07-25T18:17:44.821Z"
   },
   {
    "duration": 40,
    "start_time": "2021-07-25T18:17:44.845Z"
   },
   {
    "duration": 17,
    "start_time": "2021-07-25T18:17:44.888Z"
   },
   {
    "duration": 34,
    "start_time": "2021-07-25T18:17:44.907Z"
   },
   {
    "duration": 855,
    "start_time": "2021-07-25T18:17:44.943Z"
   },
   {
    "duration": 7,
    "start_time": "2021-07-25T18:17:45.802Z"
   },
   {
    "duration": 36,
    "start_time": "2021-07-25T18:17:45.812Z"
   },
   {
    "duration": 2367,
    "start_time": "2021-07-25T18:17:45.852Z"
   },
   {
    "duration": -795,
    "start_time": "2021-07-25T18:17:49.021Z"
   },
   {
    "duration": -798,
    "start_time": "2021-07-25T18:17:49.026Z"
   },
   {
    "duration": -801,
    "start_time": "2021-07-25T18:17:49.031Z"
   },
   {
    "duration": -804,
    "start_time": "2021-07-25T18:17:49.036Z"
   },
   {
    "duration": -807,
    "start_time": "2021-07-25T18:17:49.041Z"
   },
   {
    "duration": -809,
    "start_time": "2021-07-25T18:17:49.045Z"
   },
   {
    "duration": -811,
    "start_time": "2021-07-25T18:17:49.049Z"
   },
   {
    "duration": -813,
    "start_time": "2021-07-25T18:17:49.052Z"
   },
   {
    "duration": -815,
    "start_time": "2021-07-25T18:17:49.056Z"
   },
   {
    "duration": -817,
    "start_time": "2021-07-25T18:17:49.060Z"
   },
   {
    "duration": -825,
    "start_time": "2021-07-25T18:17:49.070Z"
   },
   {
    "duration": -829,
    "start_time": "2021-07-25T18:17:49.076Z"
   },
   {
    "duration": -795,
    "start_time": "2021-07-25T18:17:49.080Z"
   },
   {
    "duration": -796,
    "start_time": "2021-07-25T18:17:49.083Z"
   },
   {
    "duration": -799,
    "start_time": "2021-07-25T18:17:49.087Z"
   },
   {
    "duration": -802,
    "start_time": "2021-07-25T18:17:49.091Z"
   },
   {
    "duration": -804,
    "start_time": "2021-07-25T18:17:49.095Z"
   },
   {
    "duration": -806,
    "start_time": "2021-07-25T18:17:49.098Z"
   },
   {
    "duration": -807,
    "start_time": "2021-07-25T18:17:49.101Z"
   },
   {
    "duration": -809,
    "start_time": "2021-07-25T18:17:49.104Z"
   },
   {
    "duration": -812,
    "start_time": "2021-07-25T18:17:49.108Z"
   },
   {
    "duration": -814,
    "start_time": "2021-07-25T18:17:49.111Z"
   },
   {
    "duration": -816,
    "start_time": "2021-07-25T18:17:49.114Z"
   },
   {
    "duration": -818,
    "start_time": "2021-07-25T18:17:49.118Z"
   },
   {
    "duration": -820,
    "start_time": "2021-07-25T18:17:49.121Z"
   },
   {
    "duration": -821,
    "start_time": "2021-07-25T18:17:49.124Z"
   },
   {
    "duration": -826,
    "start_time": "2021-07-25T18:17:49.130Z"
   },
   {
    "duration": -827,
    "start_time": "2021-07-25T18:17:49.133Z"
   },
   {
    "duration": -830,
    "start_time": "2021-07-25T18:17:49.137Z"
   },
   {
    "duration": -859,
    "start_time": "2021-07-25T18:17:49.168Z"
   },
   {
    "duration": -863,
    "start_time": "2021-07-25T18:17:49.173Z"
   },
   {
    "duration": -865,
    "start_time": "2021-07-25T18:17:49.177Z"
   },
   {
    "duration": -868,
    "start_time": "2021-07-25T18:17:49.181Z"
   },
   {
    "duration": -879,
    "start_time": "2021-07-25T18:17:49.194Z"
   },
   {
    "duration": -883,
    "start_time": "2021-07-25T18:17:49.199Z"
   },
   {
    "duration": -890,
    "start_time": "2021-07-25T18:17:49.208Z"
   },
   {
    "duration": -892,
    "start_time": "2021-07-25T18:17:49.211Z"
   },
   {
    "duration": -899,
    "start_time": "2021-07-25T18:17:49.220Z"
   },
   {
    "duration": -874,
    "start_time": "2021-07-25T18:17:49.259Z"
   },
   {
    "duration": -875,
    "start_time": "2021-07-25T18:17:49.262Z"
   },
   {
    "duration": -878,
    "start_time": "2021-07-25T18:17:49.266Z"
   },
   {
    "duration": -879,
    "start_time": "2021-07-25T18:17:49.269Z"
   },
   {
    "duration": -882,
    "start_time": "2021-07-25T18:17:49.273Z"
   },
   {
    "duration": -883,
    "start_time": "2021-07-25T18:17:49.276Z"
   },
   {
    "duration": -886,
    "start_time": "2021-07-25T18:17:49.280Z"
   },
   {
    "duration": -887,
    "start_time": "2021-07-25T18:17:49.283Z"
   },
   {
    "duration": 81,
    "start_time": "2021-07-25T19:52:46.795Z"
   },
   {
    "duration": 914,
    "start_time": "2021-07-25T19:53:20.825Z"
   },
   {
    "duration": 112,
    "start_time": "2021-07-25T19:53:21.742Z"
   },
   {
    "duration": 15,
    "start_time": "2021-07-25T19:53:21.857Z"
   },
   {
    "duration": 12,
    "start_time": "2021-07-25T19:53:21.886Z"
   },
   {
    "duration": 18,
    "start_time": "2021-07-25T19:53:21.901Z"
   },
   {
    "duration": 19,
    "start_time": "2021-07-25T19:53:21.921Z"
   },
   {
    "duration": 75,
    "start_time": "2021-07-25T19:53:21.943Z"
   },
   {
    "duration": 92,
    "start_time": "2021-07-25T19:53:22.024Z"
   },
   {
    "duration": 170,
    "start_time": "2021-07-25T19:53:22.120Z"
   },
   {
    "duration": 43,
    "start_time": "2021-07-25T19:53:22.293Z"
   },
   {
    "duration": 54,
    "start_time": "2021-07-25T19:53:22.338Z"
   },
   {
    "duration": 21,
    "start_time": "2021-07-25T19:53:22.394Z"
   },
   {
    "duration": 7,
    "start_time": "2021-07-25T19:53:22.418Z"
   },
   {
    "duration": 19,
    "start_time": "2021-07-25T19:53:22.427Z"
   },
   {
    "duration": 67,
    "start_time": "2021-07-25T19:53:22.449Z"
   },
   {
    "duration": 746,
    "start_time": "2021-07-25T19:53:22.519Z"
   },
   {
    "duration": 7,
    "start_time": "2021-07-25T19:53:23.268Z"
   },
   {
    "duration": 37,
    "start_time": "2021-07-25T19:53:23.285Z"
   },
   {
    "duration": 2391,
    "start_time": "2021-07-25T19:53:23.325Z"
   },
   {
    "duration": -724,
    "start_time": "2021-07-25T19:53:26.444Z"
   },
   {
    "duration": -726,
    "start_time": "2021-07-25T19:53:26.448Z"
   },
   {
    "duration": -729,
    "start_time": "2021-07-25T19:53:26.452Z"
   },
   {
    "duration": -730,
    "start_time": "2021-07-25T19:53:26.455Z"
   },
   {
    "duration": -732,
    "start_time": "2021-07-25T19:53:26.459Z"
   },
   {
    "duration": -734,
    "start_time": "2021-07-25T19:53:26.463Z"
   },
   {
    "duration": -736,
    "start_time": "2021-07-25T19:53:26.466Z"
   },
   {
    "duration": -737,
    "start_time": "2021-07-25T19:53:26.469Z"
   },
   {
    "duration": -741,
    "start_time": "2021-07-25T19:53:26.474Z"
   },
   {
    "duration": -742,
    "start_time": "2021-07-25T19:53:26.477Z"
   },
   {
    "duration": -744,
    "start_time": "2021-07-25T19:53:26.481Z"
   },
   {
    "duration": -753,
    "start_time": "2021-07-25T19:53:26.491Z"
   },
   {
    "duration": -756,
    "start_time": "2021-07-25T19:53:26.496Z"
   },
   {
    "duration": -759,
    "start_time": "2021-07-25T19:53:26.500Z"
   },
   {
    "duration": -761,
    "start_time": "2021-07-25T19:53:26.504Z"
   },
   {
    "duration": -764,
    "start_time": "2021-07-25T19:53:26.508Z"
   },
   {
    "duration": -766,
    "start_time": "2021-07-25T19:53:26.512Z"
   },
   {
    "duration": -730,
    "start_time": "2021-07-25T19:53:26.516Z"
   },
   {
    "duration": -739,
    "start_time": "2021-07-25T19:53:26.526Z"
   },
   {
    "duration": -741,
    "start_time": "2021-07-25T19:53:26.530Z"
   },
   {
    "duration": -743,
    "start_time": "2021-07-25T19:53:26.534Z"
   },
   {
    "duration": -745,
    "start_time": "2021-07-25T19:53:26.537Z"
   },
   {
    "duration": -747,
    "start_time": "2021-07-25T19:53:26.541Z"
   },
   {
    "duration": -749,
    "start_time": "2021-07-25T19:53:26.544Z"
   },
   {
    "duration": -751,
    "start_time": "2021-07-25T19:53:26.548Z"
   },
   {
    "duration": -753,
    "start_time": "2021-07-25T19:53:26.551Z"
   },
   {
    "duration": -756,
    "start_time": "2021-07-25T19:53:26.555Z"
   },
   {
    "duration": -756,
    "start_time": "2021-07-25T19:53:26.557Z"
   },
   {
    "duration": -759,
    "start_time": "2021-07-25T19:53:26.561Z"
   },
   {
    "duration": -760,
    "start_time": "2021-07-25T19:53:26.564Z"
   },
   {
    "duration": -896,
    "start_time": "2021-07-25T19:53:26.701Z"
   },
   {
    "duration": -919,
    "start_time": "2021-07-25T19:53:26.725Z"
   },
   {
    "duration": -920,
    "start_time": "2021-07-25T19:53:26.728Z"
   },
   {
    "duration": -922,
    "start_time": "2021-07-25T19:53:26.731Z"
   },
   {
    "duration": -925,
    "start_time": "2021-07-25T19:53:26.735Z"
   },
   {
    "duration": -927,
    "start_time": "2021-07-25T19:53:26.738Z"
   },
   {
    "duration": -928,
    "start_time": "2021-07-25T19:53:26.741Z"
   },
   {
    "duration": -930,
    "start_time": "2021-07-25T19:53:26.744Z"
   },
   {
    "duration": -932,
    "start_time": "2021-07-25T19:53:26.747Z"
   },
   {
    "duration": -934,
    "start_time": "2021-07-25T19:53:26.750Z"
   },
   {
    "duration": -936,
    "start_time": "2021-07-25T19:53:26.754Z"
   },
   {
    "duration": -937,
    "start_time": "2021-07-25T19:53:26.756Z"
   },
   {
    "duration": -939,
    "start_time": "2021-07-25T19:53:26.760Z"
   },
   {
    "duration": -941,
    "start_time": "2021-07-25T19:53:26.763Z"
   },
   {
    "duration": -944,
    "start_time": "2021-07-25T19:53:26.767Z"
   },
   {
    "duration": -885,
    "start_time": "2021-07-25T19:53:26.770Z"
   },
   {
    "duration": 117,
    "start_time": "2021-07-25T19:57:07.516Z"
   },
   {
    "duration": 115,
    "start_time": "2021-07-25T19:57:30.247Z"
   },
   {
    "duration": 3,
    "start_time": "2021-07-25T20:01:28.570Z"
   },
   {
    "duration": 913,
    "start_time": "2021-07-25T20:01:37.274Z"
   },
   {
    "duration": 122,
    "start_time": "2021-07-25T20:01:38.189Z"
   },
   {
    "duration": 16,
    "start_time": "2021-07-25T20:01:38.313Z"
   },
   {
    "duration": 12,
    "start_time": "2021-07-25T20:01:38.332Z"
   },
   {
    "duration": 44,
    "start_time": "2021-07-25T20:01:38.346Z"
   },
   {
    "duration": 18,
    "start_time": "2021-07-25T20:01:38.392Z"
   },
   {
    "duration": 34,
    "start_time": "2021-07-25T20:01:38.413Z"
   },
   {
    "duration": 100,
    "start_time": "2021-07-25T20:01:38.453Z"
   },
   {
    "duration": 200,
    "start_time": "2021-07-25T20:01:38.557Z"
   },
   {
    "duration": 55,
    "start_time": "2021-07-25T20:01:38.760Z"
   },
   {
    "duration": 21,
    "start_time": "2021-07-25T20:01:38.818Z"
   },
   {
    "duration": 44,
    "start_time": "2021-07-25T20:01:38.841Z"
   },
   {
    "duration": 6,
    "start_time": "2021-07-25T20:01:38.888Z"
   },
   {
    "duration": 22,
    "start_time": "2021-07-25T20:01:38.897Z"
   },
   {
    "duration": 37,
    "start_time": "2021-07-25T20:01:38.921Z"
   },
   {
    "duration": 877,
    "start_time": "2021-07-25T20:01:38.987Z"
   },
   {
    "duration": 6,
    "start_time": "2021-07-25T20:01:39.867Z"
   },
   {
    "duration": 43,
    "start_time": "2021-07-25T20:01:39.875Z"
   },
   {
    "duration": 1729,
    "start_time": "2021-07-25T20:01:39.921Z"
   },
   {
    "duration": 253,
    "start_time": "2021-07-25T20:01:41.652Z"
   },
   {
    "duration": 1259,
    "start_time": "2021-07-25T20:01:41.908Z"
   },
   {
    "duration": 225,
    "start_time": "2021-07-25T20:01:43.169Z"
   },
   {
    "duration": 337,
    "start_time": "2021-07-25T20:01:43.400Z"
   },
   {
    "duration": 241,
    "start_time": "2021-07-25T20:01:43.740Z"
   },
   {
    "duration": 863,
    "start_time": "2021-07-25T20:01:43.985Z"
   },
   {
    "duration": 256,
    "start_time": "2021-07-25T20:01:44.851Z"
   },
   {
    "duration": 8,
    "start_time": "2021-07-25T20:01:45.110Z"
   },
   {
    "duration": 22,
    "start_time": "2021-07-25T20:01:45.121Z"
   },
   {
    "duration": 46,
    "start_time": "2021-07-25T20:01:45.146Z"
   },
   {
    "duration": 374,
    "start_time": "2021-07-25T20:01:45.194Z"
   },
   {
    "duration": 18,
    "start_time": "2021-07-25T20:01:45.570Z"
   },
   {
    "duration": 387,
    "start_time": "2021-07-25T20:01:45.590Z"
   },
   {
    "duration": 17,
    "start_time": "2021-07-25T20:01:45.979Z"
   },
   {
    "duration": 7,
    "start_time": "2021-07-25T20:01:45.999Z"
   },
   {
    "duration": 370,
    "start_time": "2021-07-25T20:01:46.008Z"
   },
   {
    "duration": 236,
    "start_time": "2021-07-25T20:01:46.385Z"
   },
   {
    "duration": 7,
    "start_time": "2021-07-25T20:01:46.623Z"
   },
   {
    "duration": 281,
    "start_time": "2021-07-25T20:01:46.633Z"
   },
   {
    "duration": 304,
    "start_time": "2021-07-25T20:01:46.916Z"
   },
   {
    "duration": 298,
    "start_time": "2021-07-25T20:01:47.223Z"
   },
   {
    "duration": 299,
    "start_time": "2021-07-25T20:01:47.523Z"
   },
   {
    "duration": 31,
    "start_time": "2021-07-25T20:01:47.824Z"
   },
   {
    "duration": 37,
    "start_time": "2021-07-25T20:01:47.857Z"
   },
   {
    "duration": 16,
    "start_time": "2021-07-25T20:01:47.897Z"
   },
   {
    "duration": 19,
    "start_time": "2021-07-25T20:01:47.915Z"
   },
   {
    "duration": 695,
    "start_time": "2021-07-25T20:01:47.936Z"
   },
   {
    "duration": 11,
    "start_time": "2021-07-25T20:01:48.633Z"
   },
   {
    "duration": 639,
    "start_time": "2021-07-25T20:01:48.646Z"
   },
   {
    "duration": 241,
    "start_time": "2021-07-25T20:01:49.288Z"
   },
   {
    "duration": 482,
    "start_time": "2021-07-25T20:01:49.532Z"
   },
   {
    "duration": 254,
    "start_time": "2021-07-25T20:01:50.017Z"
   },
   {
    "duration": 11,
    "start_time": "2021-07-25T20:01:50.274Z"
   },
   {
    "duration": 460,
    "start_time": "2021-07-25T20:01:50.288Z"
   },
   {
    "duration": 224,
    "start_time": "2021-07-25T20:01:50.750Z"
   },
   {
    "duration": 727,
    "start_time": "2021-07-25T20:01:50.977Z"
   },
   {
    "duration": 421,
    "start_time": "2021-07-25T20:01:51.707Z"
   },
   {
    "duration": 5,
    "start_time": "2021-07-25T20:01:52.131Z"
   },
   {
    "duration": 25,
    "start_time": "2021-07-25T20:01:52.138Z"
   },
   {
    "duration": 543,
    "start_time": "2021-07-25T20:01:52.165Z"
   },
   {
    "duration": 414,
    "start_time": "2021-07-25T20:01:52.711Z"
   },
   {
    "duration": 530,
    "start_time": "2021-07-25T20:01:53.128Z"
   },
   {
    "duration": 8,
    "start_time": "2021-07-25T20:01:53.662Z"
   },
   {
    "duration": 481,
    "start_time": "2021-07-25T20:01:53.673Z"
   },
   {
    "duration": 328,
    "start_time": "2021-07-25T20:01:54.157Z"
   },
   {
    "duration": 312,
    "start_time": "2021-07-25T20:01:54.488Z"
   },
   {
    "duration": 32,
    "start_time": "2021-07-25T20:02:16.208Z"
   },
   {
    "duration": 37,
    "start_time": "2021-07-25T20:02:49.299Z"
   },
   {
    "duration": 1639,
    "start_time": "2021-07-25T20:05:15.346Z"
   },
   {
    "duration": 1766,
    "start_time": "2021-07-25T20:05:39.131Z"
   },
   {
    "duration": 1259,
    "start_time": "2021-07-25T20:06:17.209Z"
   },
   {
    "duration": 1113,
    "start_time": "2021-07-25T20:07:14.305Z"
   },
   {
    "duration": 1260,
    "start_time": "2021-07-25T20:07:41.587Z"
   },
   {
    "duration": 209,
    "start_time": "2021-07-25T20:08:28.648Z"
   },
   {
    "duration": 209,
    "start_time": "2021-07-25T20:08:50.952Z"
   },
   {
    "duration": 816,
    "start_time": "2021-07-25T20:10:54.934Z"
   },
   {
    "duration": 374,
    "start_time": "2021-07-25T20:15:55.278Z"
   },
   {
    "duration": 367,
    "start_time": "2021-07-25T20:16:53.515Z"
   },
   {
    "duration": 345,
    "start_time": "2021-07-25T20:18:35.685Z"
   },
   {
    "duration": 268,
    "start_time": "2021-07-25T20:19:33.273Z"
   },
   {
    "duration": 304,
    "start_time": "2021-07-25T20:20:37.195Z"
   },
   {
    "duration": 408,
    "start_time": "2021-07-25T20:21:15.604Z"
   },
   {
    "duration": 306,
    "start_time": "2021-07-25T20:21:29.582Z"
   },
   {
    "duration": 554,
    "start_time": "2021-07-25T20:24:19.371Z"
   },
   {
    "duration": 562,
    "start_time": "2021-07-25T20:24:57.649Z"
   },
   {
    "duration": 544,
    "start_time": "2021-07-25T20:28:23.001Z"
   },
   {
    "duration": 205,
    "start_time": "2021-07-25T20:28:39.803Z"
   },
   {
    "duration": 1005,
    "start_time": "2021-07-25T20:30:00.912Z"
   },
   {
    "duration": 425,
    "start_time": "2021-07-25T20:30:10.674Z"
   },
   {
    "duration": 219,
    "start_time": "2021-07-25T20:30:26.754Z"
   },
   {
    "duration": 451,
    "start_time": "2021-07-25T20:31:28.325Z"
   },
   {
    "duration": 218,
    "start_time": "2021-07-25T20:31:39.948Z"
   },
   {
    "duration": 486,
    "start_time": "2021-07-25T20:33:53.649Z"
   },
   {
    "duration": 209,
    "start_time": "2021-07-25T20:34:06.495Z"
   },
   {
    "duration": 477,
    "start_time": "2021-07-25T21:06:51.047Z"
   },
   {
    "duration": 7,
    "start_time": "2021-07-25T21:07:04.885Z"
   },
   {
    "duration": 368,
    "start_time": "2021-07-25T21:07:45.896Z"
   },
   {
    "duration": 374,
    "start_time": "2021-07-25T21:07:57.178Z"
   },
   {
    "duration": 282,
    "start_time": "2021-07-25T21:08:40.800Z"
   },
   {
    "duration": 263,
    "start_time": "2021-07-25T21:08:56.707Z"
   },
   {
    "duration": 345,
    "start_time": "2021-07-25T21:11:03.069Z"
   },
   {
    "duration": 308,
    "start_time": "2021-07-25T21:11:48.344Z"
   },
   {
    "duration": 314,
    "start_time": "2021-07-25T21:12:10.904Z"
   },
   {
    "duration": 774,
    "start_time": "2021-07-25T21:13:00.365Z"
   },
   {
    "duration": 315,
    "start_time": "2021-07-25T21:13:13.292Z"
   },
   {
    "duration": 669,
    "start_time": "2021-07-25T21:13:40.482Z"
   },
   {
    "duration": 329,
    "start_time": "2021-07-25T21:13:46.474Z"
   },
   {
    "duration": 863,
    "start_time": "2021-07-26T19:58:54.869Z"
   },
   {
    "duration": 125,
    "start_time": "2021-07-26T19:58:55.734Z"
   },
   {
    "duration": 18,
    "start_time": "2021-07-26T19:58:55.863Z"
   },
   {
    "duration": 14,
    "start_time": "2021-07-26T19:58:55.884Z"
   },
   {
    "duration": 60,
    "start_time": "2021-07-26T19:58:55.901Z"
   },
   {
    "duration": 19,
    "start_time": "2021-07-26T19:58:55.963Z"
   },
   {
    "duration": 41,
    "start_time": "2021-07-26T19:58:55.984Z"
   },
   {
    "duration": 89,
    "start_time": "2021-07-26T19:58:56.029Z"
   },
   {
    "duration": 181,
    "start_time": "2021-07-26T19:58:56.121Z"
   },
   {
    "duration": 57,
    "start_time": "2021-07-26T19:58:56.304Z"
   },
   {
    "duration": 23,
    "start_time": "2021-07-26T19:58:56.363Z"
   },
   {
    "duration": 20,
    "start_time": "2021-07-26T19:58:56.389Z"
   },
   {
    "duration": 10,
    "start_time": "2021-07-26T19:58:56.412Z"
   },
   {
    "duration": 42,
    "start_time": "2021-07-26T19:58:56.424Z"
   },
   {
    "duration": 35,
    "start_time": "2021-07-26T19:58:56.469Z"
   },
   {
    "duration": 791,
    "start_time": "2021-07-26T19:58:56.508Z"
   },
   {
    "duration": 8,
    "start_time": "2021-07-26T19:58:57.302Z"
   },
   {
    "duration": 59,
    "start_time": "2021-07-26T19:58:57.313Z"
   },
   {
    "duration": 1832,
    "start_time": "2021-07-26T19:58:57.375Z"
   },
   {
    "duration": 251,
    "start_time": "2021-07-26T19:58:59.210Z"
   },
   {
    "duration": 1613,
    "start_time": "2021-07-26T19:58:59.464Z"
   },
   {
    "duration": 239,
    "start_time": "2021-07-26T19:59:01.080Z"
   },
   {
    "duration": 247,
    "start_time": "2021-07-26T19:59:01.328Z"
   },
   {
    "duration": 246,
    "start_time": "2021-07-26T19:59:01.578Z"
   },
   {
    "duration": 789,
    "start_time": "2021-07-26T19:59:01.826Z"
   },
   {
    "duration": 258,
    "start_time": "2021-07-26T19:59:02.617Z"
   },
   {
    "duration": 11,
    "start_time": "2021-07-26T19:59:02.878Z"
   },
   {
    "duration": 35,
    "start_time": "2021-07-26T19:59:02.891Z"
   },
   {
    "duration": 37,
    "start_time": "2021-07-26T19:59:02.929Z"
   },
   {
    "duration": 374,
    "start_time": "2021-07-26T19:59:02.969Z"
   },
   {
    "duration": 12,
    "start_time": "2021-07-26T19:59:03.345Z"
   },
   {
    "duration": 388,
    "start_time": "2021-07-26T19:59:03.359Z"
   },
   {
    "duration": 12,
    "start_time": "2021-07-26T19:59:03.750Z"
   },
   {
    "duration": 6,
    "start_time": "2021-07-26T19:59:03.765Z"
   },
   {
    "duration": 371,
    "start_time": "2021-07-26T19:59:03.773Z"
   },
   {
    "duration": 230,
    "start_time": "2021-07-26T19:59:04.146Z"
   },
   {
    "duration": 6,
    "start_time": "2021-07-26T19:59:04.379Z"
   },
   {
    "duration": 287,
    "start_time": "2021-07-26T19:59:04.387Z"
   },
   {
    "duration": 311,
    "start_time": "2021-07-26T19:59:04.678Z"
   },
   {
    "duration": 320,
    "start_time": "2021-07-26T19:59:04.992Z"
   },
   {
    "duration": 304,
    "start_time": "2021-07-26T19:59:05.314Z"
   },
   {
    "duration": 45,
    "start_time": "2021-07-26T19:59:05.620Z"
   },
   {
    "duration": 16,
    "start_time": "2021-07-26T19:59:05.667Z"
   },
   {
    "duration": 22,
    "start_time": "2021-07-26T19:59:05.685Z"
   },
   {
    "duration": 16,
    "start_time": "2021-07-26T19:59:05.710Z"
   },
   {
    "duration": 644,
    "start_time": "2021-07-26T19:59:05.755Z"
   },
   {
    "duration": 12,
    "start_time": "2021-07-26T19:59:06.402Z"
   },
   {
    "duration": 583,
    "start_time": "2021-07-26T19:59:06.416Z"
   },
   {
    "duration": 213,
    "start_time": "2021-07-26T19:59:07.001Z"
   },
   {
    "duration": 441,
    "start_time": "2021-07-26T19:59:07.216Z"
   },
   {
    "duration": 236,
    "start_time": "2021-07-26T19:59:07.659Z"
   },
   {
    "duration": 5,
    "start_time": "2021-07-26T19:59:07.897Z"
   },
   {
    "duration": 463,
    "start_time": "2021-07-26T19:59:07.904Z"
   },
   {
    "duration": 220,
    "start_time": "2021-07-26T19:59:08.370Z"
   },
   {
    "duration": 503,
    "start_time": "2021-07-26T19:59:08.592Z"
   },
   {
    "duration": 240,
    "start_time": "2021-07-26T19:59:09.098Z"
   },
   {
    "duration": 13,
    "start_time": "2021-07-26T19:59:09.341Z"
   },
   {
    "duration": 12,
    "start_time": "2021-07-26T19:59:09.357Z"
   },
   {
    "duration": 413,
    "start_time": "2021-07-26T19:59:09.371Z"
   },
   {
    "duration": 7,
    "start_time": "2021-07-26T19:59:09.786Z"
   },
   {
    "duration": 329,
    "start_time": "2021-07-26T19:59:09.796Z"
   },
   {
    "duration": 463,
    "start_time": "2021-07-26T19:59:10.127Z"
   },
   {
    "duration": 7,
    "start_time": "2021-07-26T19:59:10.593Z"
   },
   {
    "duration": 336,
    "start_time": "2021-07-26T19:59:10.603Z"
   },
   {
    "duration": 334,
    "start_time": "2021-07-26T19:59:10.941Z"
   },
   {
    "duration": 345,
    "start_time": "2021-07-26T19:59:11.278Z"
   }
  ],
  "kernelspec": {
   "display_name": "Python 3",
   "language": "python",
   "name": "python3"
  },
  "language_info": {
   "codemirror_mode": {
    "name": "ipython",
    "version": 3
   },
   "file_extension": ".py",
   "mimetype": "text/x-python",
   "name": "python",
   "nbconvert_exporter": "python",
   "pygments_lexer": "ipython3",
   "version": "3.7.10"
  },
  "toc": {
   "base_numbering": 1,
   "nav_menu": {},
   "number_sections": true,
   "sideBar": true,
   "skip_h1_title": false,
   "title_cell": "Table of Contents",
   "title_sidebar": "Contents",
   "toc_cell": false,
   "toc_position": {},
   "toc_section_display": true,
   "toc_window_display": true
  }
 },
 "nbformat": 4,
 "nbformat_minor": 2
}
