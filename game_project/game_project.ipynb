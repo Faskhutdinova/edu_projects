{
 "cells": [
  {
   "cell_type": "markdown",
   "metadata": {},
   "source": [
    "# Анализ рынка популярных игр и платформ."
   ]
  },
  {
   "cell_type": "markdown",
   "metadata": {},
   "source": [
    "В данном проекте нужно выявить определяющие успешность игры закономерности. Это позволит сделать ставку на потенциально популярный продукт и спланировать рекламные кампании на будущий год.\\\n",
    "В распоряжении имеются исторические данные (до 2016 года) о продажах игр, оценки пользователей и экспертов, жанры и платформы (например, Xbox или PlayStation), на основе которых нужно спланировать рекламную компанию на следующий год. "
   ]
  },
  {
   "cell_type": "markdown",
   "metadata": {},
   "source": [
    "### Оглавление"
   ]
  },
  {
   "cell_type": "markdown",
   "metadata": {},
   "source": [
    "2.[Открытие данных. Изучение общей информации](#start)   \n",
    "3.[Предобработка данных](#preprocessing)\n",
    "* [Замена типа данных](#int)\n",
    "* [Обработка пропущенных значений](#null)\n",
    "* [Проверка на наличие дупликатов](#duplicates)\n",
    " \n",
    "4.[Исследовательский анализ данных](#analysis)\n",
    "* [Анализ игр по году выпуска](#year)\n",
    "* [Анализ игр по платформам](#platform)\n",
    "* [Анализ продаж платформ за актуальный период](#act)\n",
    "* [Анализ глобальных продаж игр](#glob)\n",
    "* [Анализ влияния оценок пользователей/критиков на продажи популярной платформы](#score)\n",
    "* [Распределение игр по жанрам](#genre)\n",
    "\n",
    "5.[Портрет регионов](#reg)\n",
    "* [Портрет регионов - популярные платформы](#reg_platform)\n",
    "* [Портрет регионов - популярные жанры](#reg_genre)\n",
    "* [Портрет регионов - влияние рейтингов](#reg_rating)\n",
    "\n",
    "6.[Проверка гипотез](#hipo)\n",
    "* [Проверка гипотезы №1](#hipo1)\n",
    "* [Проверка гипотезы №2](#hipo2)\n",
    "\n",
    "7.[Выводы](#conc)"
   ]
  },
  {
   "cell_type": "markdown",
   "metadata": {},
   "source": [
    "\n"
   ]
  },
  {
   "cell_type": "markdown",
   "metadata": {},
   "source": [
    "### Открытие данных. Изучение общей информации. <a id=\"start\"></a>"
   ]
  },
  {
   "cell_type": "markdown",
   "metadata": {},
   "source": [
    "Выгрузим данные, а также импортируем некоторые библиотеки, которые пригодятся нам в работе."
   ]
  },
  {
   "cell_type": "code",
   "execution_count": 1,
   "metadata": {},
   "outputs": [
    {
     "data": {
      "text/html": [
       "<div>\n",
       "<style scoped>\n",
       "    .dataframe tbody tr th:only-of-type {\n",
       "        vertical-align: middle;\n",
       "    }\n",
       "\n",
       "    .dataframe tbody tr th {\n",
       "        vertical-align: top;\n",
       "    }\n",
       "\n",
       "    .dataframe thead th {\n",
       "        text-align: right;\n",
       "    }\n",
       "</style>\n",
       "<table border=\"1\" class=\"dataframe\">\n",
       "  <thead>\n",
       "    <tr style=\"text-align: right;\">\n",
       "      <th></th>\n",
       "      <th>Name</th>\n",
       "      <th>Platform</th>\n",
       "      <th>Year_of_Release</th>\n",
       "      <th>Genre</th>\n",
       "      <th>NA_sales</th>\n",
       "      <th>EU_sales</th>\n",
       "      <th>JP_sales</th>\n",
       "      <th>Other_sales</th>\n",
       "      <th>Critic_Score</th>\n",
       "      <th>User_Score</th>\n",
       "      <th>Rating</th>\n",
       "    </tr>\n",
       "  </thead>\n",
       "  <tbody>\n",
       "    <tr>\n",
       "      <td>0</td>\n",
       "      <td>Wii Sports</td>\n",
       "      <td>Wii</td>\n",
       "      <td>2006.0</td>\n",
       "      <td>Sports</td>\n",
       "      <td>41.36</td>\n",
       "      <td>28.96</td>\n",
       "      <td>3.77</td>\n",
       "      <td>8.45</td>\n",
       "      <td>76.0</td>\n",
       "      <td>8</td>\n",
       "      <td>E</td>\n",
       "    </tr>\n",
       "    <tr>\n",
       "      <td>1</td>\n",
       "      <td>Super Mario Bros.</td>\n",
       "      <td>NES</td>\n",
       "      <td>1985.0</td>\n",
       "      <td>Platform</td>\n",
       "      <td>29.08</td>\n",
       "      <td>3.58</td>\n",
       "      <td>6.81</td>\n",
       "      <td>0.77</td>\n",
       "      <td>NaN</td>\n",
       "      <td>NaN</td>\n",
       "      <td>NaN</td>\n",
       "    </tr>\n",
       "    <tr>\n",
       "      <td>2</td>\n",
       "      <td>Mario Kart Wii</td>\n",
       "      <td>Wii</td>\n",
       "      <td>2008.0</td>\n",
       "      <td>Racing</td>\n",
       "      <td>15.68</td>\n",
       "      <td>12.76</td>\n",
       "      <td>3.79</td>\n",
       "      <td>3.29</td>\n",
       "      <td>82.0</td>\n",
       "      <td>8.3</td>\n",
       "      <td>E</td>\n",
       "    </tr>\n",
       "    <tr>\n",
       "      <td>3</td>\n",
       "      <td>Wii Sports Resort</td>\n",
       "      <td>Wii</td>\n",
       "      <td>2009.0</td>\n",
       "      <td>Sports</td>\n",
       "      <td>15.61</td>\n",
       "      <td>10.93</td>\n",
       "      <td>3.28</td>\n",
       "      <td>2.95</td>\n",
       "      <td>80.0</td>\n",
       "      <td>8</td>\n",
       "      <td>E</td>\n",
       "    </tr>\n",
       "    <tr>\n",
       "      <td>4</td>\n",
       "      <td>Pokemon Red/Pokemon Blue</td>\n",
       "      <td>GB</td>\n",
       "      <td>1996.0</td>\n",
       "      <td>Role-Playing</td>\n",
       "      <td>11.27</td>\n",
       "      <td>8.89</td>\n",
       "      <td>10.22</td>\n",
       "      <td>1.00</td>\n",
       "      <td>NaN</td>\n",
       "      <td>NaN</td>\n",
       "      <td>NaN</td>\n",
       "    </tr>\n",
       "    <tr>\n",
       "      <td>...</td>\n",
       "      <td>...</td>\n",
       "      <td>...</td>\n",
       "      <td>...</td>\n",
       "      <td>...</td>\n",
       "      <td>...</td>\n",
       "      <td>...</td>\n",
       "      <td>...</td>\n",
       "      <td>...</td>\n",
       "      <td>...</td>\n",
       "      <td>...</td>\n",
       "      <td>...</td>\n",
       "    </tr>\n",
       "    <tr>\n",
       "      <td>16710</td>\n",
       "      <td>Samurai Warriors: Sanada Maru</td>\n",
       "      <td>PS3</td>\n",
       "      <td>2016.0</td>\n",
       "      <td>Action</td>\n",
       "      <td>0.00</td>\n",
       "      <td>0.00</td>\n",
       "      <td>0.01</td>\n",
       "      <td>0.00</td>\n",
       "      <td>NaN</td>\n",
       "      <td>NaN</td>\n",
       "      <td>NaN</td>\n",
       "    </tr>\n",
       "    <tr>\n",
       "      <td>16711</td>\n",
       "      <td>LMA Manager 2007</td>\n",
       "      <td>X360</td>\n",
       "      <td>2006.0</td>\n",
       "      <td>Sports</td>\n",
       "      <td>0.00</td>\n",
       "      <td>0.01</td>\n",
       "      <td>0.00</td>\n",
       "      <td>0.00</td>\n",
       "      <td>NaN</td>\n",
       "      <td>NaN</td>\n",
       "      <td>NaN</td>\n",
       "    </tr>\n",
       "    <tr>\n",
       "      <td>16712</td>\n",
       "      <td>Haitaka no Psychedelica</td>\n",
       "      <td>PSV</td>\n",
       "      <td>2016.0</td>\n",
       "      <td>Adventure</td>\n",
       "      <td>0.00</td>\n",
       "      <td>0.00</td>\n",
       "      <td>0.01</td>\n",
       "      <td>0.00</td>\n",
       "      <td>NaN</td>\n",
       "      <td>NaN</td>\n",
       "      <td>NaN</td>\n",
       "    </tr>\n",
       "    <tr>\n",
       "      <td>16713</td>\n",
       "      <td>Spirits &amp; Spells</td>\n",
       "      <td>GBA</td>\n",
       "      <td>2003.0</td>\n",
       "      <td>Platform</td>\n",
       "      <td>0.01</td>\n",
       "      <td>0.00</td>\n",
       "      <td>0.00</td>\n",
       "      <td>0.00</td>\n",
       "      <td>NaN</td>\n",
       "      <td>NaN</td>\n",
       "      <td>NaN</td>\n",
       "    </tr>\n",
       "    <tr>\n",
       "      <td>16714</td>\n",
       "      <td>Winning Post 8 2016</td>\n",
       "      <td>PSV</td>\n",
       "      <td>2016.0</td>\n",
       "      <td>Simulation</td>\n",
       "      <td>0.00</td>\n",
       "      <td>0.00</td>\n",
       "      <td>0.01</td>\n",
       "      <td>0.00</td>\n",
       "      <td>NaN</td>\n",
       "      <td>NaN</td>\n",
       "      <td>NaN</td>\n",
       "    </tr>\n",
       "  </tbody>\n",
       "</table>\n",
       "<p>16715 rows × 11 columns</p>\n",
       "</div>"
      ],
      "text/plain": [
       "                                Name Platform  Year_of_Release         Genre  \\\n",
       "0                         Wii Sports      Wii           2006.0        Sports   \n",
       "1                  Super Mario Bros.      NES           1985.0      Platform   \n",
       "2                     Mario Kart Wii      Wii           2008.0        Racing   \n",
       "3                  Wii Sports Resort      Wii           2009.0        Sports   \n",
       "4           Pokemon Red/Pokemon Blue       GB           1996.0  Role-Playing   \n",
       "...                              ...      ...              ...           ...   \n",
       "16710  Samurai Warriors: Sanada Maru      PS3           2016.0        Action   \n",
       "16711               LMA Manager 2007     X360           2006.0        Sports   \n",
       "16712        Haitaka no Psychedelica      PSV           2016.0     Adventure   \n",
       "16713               Spirits & Spells      GBA           2003.0      Platform   \n",
       "16714            Winning Post 8 2016      PSV           2016.0    Simulation   \n",
       "\n",
       "       NA_sales  EU_sales  JP_sales  Other_sales  Critic_Score User_Score  \\\n",
       "0         41.36     28.96      3.77         8.45          76.0          8   \n",
       "1         29.08      3.58      6.81         0.77           NaN        NaN   \n",
       "2         15.68     12.76      3.79         3.29          82.0        8.3   \n",
       "3         15.61     10.93      3.28         2.95          80.0          8   \n",
       "4         11.27      8.89     10.22         1.00           NaN        NaN   \n",
       "...         ...       ...       ...          ...           ...        ...   \n",
       "16710      0.00      0.00      0.01         0.00           NaN        NaN   \n",
       "16711      0.00      0.01      0.00         0.00           NaN        NaN   \n",
       "16712      0.00      0.00      0.01         0.00           NaN        NaN   \n",
       "16713      0.01      0.00      0.00         0.00           NaN        NaN   \n",
       "16714      0.00      0.00      0.01         0.00           NaN        NaN   \n",
       "\n",
       "      Rating  \n",
       "0          E  \n",
       "1        NaN  \n",
       "2          E  \n",
       "3          E  \n",
       "4        NaN  \n",
       "...      ...  \n",
       "16710    NaN  \n",
       "16711    NaN  \n",
       "16712    NaN  \n",
       "16713    NaN  \n",
       "16714    NaN  \n",
       "\n",
       "[16715 rows x 11 columns]"
      ]
     },
     "execution_count": 1,
     "metadata": {},
     "output_type": "execute_result"
    }
   ],
   "source": [
    "import pandas as pd\n",
    "import matplotlib.pyplot as plt\n",
    "import seaborn as sns\n",
    "import numpy as np\n",
    "from scipy import stats as st\n",
    "df = pd.read_csv('/datasets/games.csv')\n",
    "df"
   ]
  },
  {
   "cell_type": "markdown",
   "metadata": {},
   "source": [
    "Данные, с которыми предстоит работать представлены одним датасетом. В нем собрана информация о названии игры, платформе, которой эта игра предназначена, год релиза, ее жанр, продажи по регионам (Сев. Америка, Европа, Япония, другие), оценка критиков, оценка пользователей, возрастная категория согласно рейтингу ESRB. Всего 16715 наблюдений."
   ]
  },
  {
   "cell_type": "markdown",
   "metadata": {},
   "source": [
    "### Предобработка данных. <a id=\"\"></a>"
   ]
  },
  {
   "cell_type": "markdown",
   "metadata": {},
   "source": [
    "Первое, что бросается в глаза - наименование столбцов в непривычном формате. Исправим это."
   ]
  },
  {
   "cell_type": "code",
   "execution_count": 2,
   "metadata": {},
   "outputs": [],
   "source": [
    "df.columns = df.columns.str.lower()"
   ]
  },
  {
   "cell_type": "markdown",
   "metadata": {},
   "source": [
    "Теперь методом info() выведем информацию о данных и их типах."
   ]
  },
  {
   "cell_type": "code",
   "execution_count": 3,
   "metadata": {},
   "outputs": [
    {
     "name": "stdout",
     "output_type": "stream",
     "text": [
      "<class 'pandas.core.frame.DataFrame'>\n",
      "RangeIndex: 16715 entries, 0 to 16714\n",
      "Data columns (total 11 columns):\n",
      "name               16713 non-null object\n",
      "platform           16715 non-null object\n",
      "year_of_release    16446 non-null float64\n",
      "genre              16713 non-null object\n",
      "na_sales           16715 non-null float64\n",
      "eu_sales           16715 non-null float64\n",
      "jp_sales           16715 non-null float64\n",
      "other_sales        16715 non-null float64\n",
      "critic_score       8137 non-null float64\n",
      "user_score         10014 non-null object\n",
      "rating             9949 non-null object\n",
      "dtypes: float64(6), object(5)\n",
      "memory usage: 1.4+ MB\n"
     ]
    }
   ],
   "source": [
    "df.info()"
   ]
  },
  {
   "cell_type": "markdown",
   "metadata": {},
   "source": [
    "Итак, видим, что есть пропуски в данных. Также видим, что столбец с датой релиза не в том формате."
   ]
  },
  {
   "cell_type": "markdown",
   "metadata": {},
   "source": [
    "#### Замена типа данных. <a id=\"int\"></a>"
   ]
  },
  {
   "cell_type": "markdown",
   "metadata": {},
   "source": [
    "Тип данных столбца \"year_of_release\"  float - формата, но это нам не мешает проводить с этим столбцом некие манипуляции, поэтому в данном случае можно оставить его без изменений."
   ]
  },
  {
   "cell_type": "markdown",
   "metadata": {},
   "source": [
    "Переведем данные столбца \"genre\" к нижнему регистру. Столбцы с названиями игр и консолей трогать не будем - все таки название - это имя собственное."
   ]
  },
  {
   "cell_type": "code",
   "execution_count": 4,
   "metadata": {},
   "outputs": [],
   "source": [
    "df['genre'] = df['genre'].str.lower()"
   ]
  },
  {
   "cell_type": "markdown",
   "metadata": {},
   "source": [
    "#### Обработка пропущенных значений<a id=\"null\"></a>"
   ]
  },
  {
   "cell_type": "markdown",
   "metadata": {},
   "source": [
    "Перед заполнением данных на месте пропущенных значений, посмотрим, где они пропущенны."
   ]
  },
  {
   "cell_type": "code",
   "execution_count": 5,
   "metadata": {},
   "outputs": [
    {
     "data": {
      "text/plain": [
       "name                  2\n",
       "platform              0\n",
       "year_of_release     269\n",
       "genre                 2\n",
       "na_sales              0\n",
       "eu_sales              0\n",
       "jp_sales              0\n",
       "other_sales           0\n",
       "critic_score       8578\n",
       "user_score         6701\n",
       "rating             6766\n",
       "dtype: int64"
      ]
     },
     "execution_count": 5,
     "metadata": {},
     "output_type": "execute_result"
    }
   ],
   "source": [
    "df.isna().sum()"
   ]
  },
  {
   "cell_type": "markdown",
   "metadata": {},
   "source": [
    "Итак, видим пропущенные значения в столбце с названием игры - 2 из почти 17 тыс. наблюдений - не так уж и страшно. Пропуски в данных по дате релиза игры - тоже не так страшно, во-первых, из-за малого кол-ва пропусков (меньше 2% от всего объема данных), во-вторых, не думается мне, что год выпуска игры влияет на ее успешность. Есть конечно общая тенденция на рост популярности игр, ввиду их доступности и доступности игровых приставок, а также ввиду увеличения их количества. \\\n",
    "Предполагаю, что закономерности, определяющие успешность игр заключаются жанре игры (тут, благо, тоже всего 2 пропуска), платформе, для которой эта игра предназначена (0 пропусков), а также оценках критиков и пользователей. Т.е. те столбцы, где больше всего пропущенных данных."
   ]
  },
  {
   "cell_type": "markdown",
   "metadata": {},
   "source": [
    "Избавимся от тех двух строчек, где у нас были пропуски в названии и жанре. Есть предположение, что это одни и те же строки. Проверим это."
   ]
  },
  {
   "cell_type": "code",
   "execution_count": 6,
   "metadata": {},
   "outputs": [
    {
     "data": {
      "text/html": [
       "<div>\n",
       "<style scoped>\n",
       "    .dataframe tbody tr th:only-of-type {\n",
       "        vertical-align: middle;\n",
       "    }\n",
       "\n",
       "    .dataframe tbody tr th {\n",
       "        vertical-align: top;\n",
       "    }\n",
       "\n",
       "    .dataframe thead th {\n",
       "        text-align: right;\n",
       "    }\n",
       "</style>\n",
       "<table border=\"1\" class=\"dataframe\">\n",
       "  <thead>\n",
       "    <tr style=\"text-align: right;\">\n",
       "      <th></th>\n",
       "      <th>name</th>\n",
       "      <th>platform</th>\n",
       "      <th>year_of_release</th>\n",
       "      <th>genre</th>\n",
       "      <th>na_sales</th>\n",
       "      <th>eu_sales</th>\n",
       "      <th>jp_sales</th>\n",
       "      <th>other_sales</th>\n",
       "      <th>critic_score</th>\n",
       "      <th>user_score</th>\n",
       "      <th>rating</th>\n",
       "    </tr>\n",
       "  </thead>\n",
       "  <tbody>\n",
       "    <tr>\n",
       "      <td>659</td>\n",
       "      <td>NaN</td>\n",
       "      <td>GEN</td>\n",
       "      <td>1993.0</td>\n",
       "      <td>NaN</td>\n",
       "      <td>1.78</td>\n",
       "      <td>0.53</td>\n",
       "      <td>0.00</td>\n",
       "      <td>0.08</td>\n",
       "      <td>NaN</td>\n",
       "      <td>NaN</td>\n",
       "      <td>NaN</td>\n",
       "    </tr>\n",
       "    <tr>\n",
       "      <td>14244</td>\n",
       "      <td>NaN</td>\n",
       "      <td>GEN</td>\n",
       "      <td>1993.0</td>\n",
       "      <td>NaN</td>\n",
       "      <td>0.00</td>\n",
       "      <td>0.00</td>\n",
       "      <td>0.03</td>\n",
       "      <td>0.00</td>\n",
       "      <td>NaN</td>\n",
       "      <td>NaN</td>\n",
       "      <td>NaN</td>\n",
       "    </tr>\n",
       "  </tbody>\n",
       "</table>\n",
       "</div>"
      ],
      "text/plain": [
       "      name platform  year_of_release genre  na_sales  eu_sales  jp_sales  \\\n",
       "659    NaN      GEN           1993.0   NaN      1.78      0.53      0.00   \n",
       "14244  NaN      GEN           1993.0   NaN      0.00      0.00      0.03   \n",
       "\n",
       "       other_sales  critic_score user_score rating  \n",
       "659           0.08           NaN        NaN    NaN  \n",
       "14244         0.00           NaN        NaN    NaN  "
      ]
     },
     "execution_count": 6,
     "metadata": {},
     "output_type": "execute_result"
    }
   ],
   "source": [
    "df[(df['name'].isnull()) & (df['genre'].isnull())]"
   ]
  },
  {
   "cell_type": "markdown",
   "metadata": {},
   "source": [
    "Предположение оказалось верным. Дропнем эти 2 строки!"
   ]
  },
  {
   "cell_type": "code",
   "execution_count": 7,
   "metadata": {},
   "outputs": [],
   "source": [
    "df.dropna(subset=['name', 'genre'], inplace=True)"
   ]
  },
  {
   "cell_type": "code",
   "execution_count": 8,
   "metadata": {},
   "outputs": [
    {
     "data": {
      "text/plain": [
       "name                  0\n",
       "platform              0\n",
       "year_of_release     269\n",
       "genre                 0\n",
       "na_sales              0\n",
       "eu_sales              0\n",
       "jp_sales              0\n",
       "other_sales           0\n",
       "critic_score       8576\n",
       "user_score         6699\n",
       "rating             6764\n",
       "dtype: int64"
      ]
     },
     "execution_count": 8,
     "metadata": {},
     "output_type": "execute_result"
    }
   ],
   "source": [
    "df.isna().sum()"
   ]
  },
  {
   "cell_type": "markdown",
   "metadata": {},
   "source": [
    "Можно было бы заполнить пропуски в столбце \"critic_score\" и \"user_score\" медианой или средним значением, но в таком случае придется пожертвовать дисперсией, поэтому оставим пропуски."
   ]
  },
  {
   "cell_type": "markdown",
   "metadata": {},
   "source": [
    "Построим сводник по оценкам пользователей. Но для начала исправим формат данных по этому столбцу."
   ]
  },
  {
   "cell_type": "code",
   "execution_count": 9,
   "metadata": {},
   "outputs": [
    {
     "data": {
      "text/plain": [
       "tbd    2424\n",
       "7.8     324\n",
       "8       290\n",
       "8.2     282\n",
       "8.3     254\n",
       "       ... \n",
       "1.5       2\n",
       "0.7       2\n",
       "1.9       2\n",
       "0         1\n",
       "9.7       1\n",
       "Name: user_score, Length: 96, dtype: int64"
      ]
     },
     "execution_count": 9,
     "metadata": {},
     "output_type": "execute_result"
    }
   ],
   "source": [
    "df['user_score'].value_counts()"
   ]
  },
  {
   "cell_type": "markdown",
   "metadata": {},
   "source": [
    "Видим, что присутствует некоторое значение \"tbd\" - To Be Determined, что означает \"будет определено\". Видимо, на момент выгрузки данных, информация по оценкам пользователей по ряду игр не была определена, то есть неизвестна. Доля \"неопределенок\" почти 0,15 - это значительная часть. Удалять мы эти данные не будем. \\\n",
    "Можно на месте \"tbd\" проставить нулевые значения."
   ]
  },
  {
   "cell_type": "code",
   "execution_count": 10,
   "metadata": {},
   "outputs": [],
   "source": [
    "df['user_score'] = df['user_score'].replace('tbd', 0)"
   ]
  },
  {
   "cell_type": "markdown",
   "metadata": {},
   "source": [
    "Теперь можно заменить тип данных столбца 'user_score'"
   ]
  },
  {
   "cell_type": "code",
   "execution_count": 11,
   "metadata": {},
   "outputs": [],
   "source": [
    "df['user_score'] = pd.to_numeric(df['user_score'], downcast ='signed')"
   ]
  },
  {
   "cell_type": "markdown",
   "metadata": {},
   "source": [
    "Посчитаем суммарные продажи во всех регионах и запишем их в отдельный столбец"
   ]
  },
  {
   "cell_type": "code",
   "execution_count": 12,
   "metadata": {},
   "outputs": [],
   "source": [
    "df['total_sales'] = df['na_sales'] + df['eu_sales'] + df['jp_sales'] + df['other_sales']"
   ]
  },
  {
   "cell_type": "code",
   "execution_count": 13,
   "metadata": {},
   "outputs": [
    {
     "data": {
      "text/html": [
       "<div>\n",
       "<style scoped>\n",
       "    .dataframe tbody tr th:only-of-type {\n",
       "        vertical-align: middle;\n",
       "    }\n",
       "\n",
       "    .dataframe tbody tr th {\n",
       "        vertical-align: top;\n",
       "    }\n",
       "\n",
       "    .dataframe thead th {\n",
       "        text-align: right;\n",
       "    }\n",
       "</style>\n",
       "<table border=\"1\" class=\"dataframe\">\n",
       "  <thead>\n",
       "    <tr style=\"text-align: right;\">\n",
       "      <th></th>\n",
       "      <th>name</th>\n",
       "      <th>platform</th>\n",
       "      <th>year_of_release</th>\n",
       "      <th>genre</th>\n",
       "      <th>na_sales</th>\n",
       "      <th>eu_sales</th>\n",
       "      <th>jp_sales</th>\n",
       "      <th>other_sales</th>\n",
       "      <th>critic_score</th>\n",
       "      <th>user_score</th>\n",
       "      <th>rating</th>\n",
       "      <th>total_sales</th>\n",
       "    </tr>\n",
       "  </thead>\n",
       "  <tbody>\n",
       "    <tr>\n",
       "      <td>0</td>\n",
       "      <td>Wii Sports</td>\n",
       "      <td>Wii</td>\n",
       "      <td>2006.0</td>\n",
       "      <td>sports</td>\n",
       "      <td>41.36</td>\n",
       "      <td>28.96</td>\n",
       "      <td>3.77</td>\n",
       "      <td>8.45</td>\n",
       "      <td>76.0</td>\n",
       "      <td>8.0</td>\n",
       "      <td>E</td>\n",
       "      <td>82.54</td>\n",
       "    </tr>\n",
       "    <tr>\n",
       "      <td>1</td>\n",
       "      <td>Super Mario Bros.</td>\n",
       "      <td>NES</td>\n",
       "      <td>1985.0</td>\n",
       "      <td>platform</td>\n",
       "      <td>29.08</td>\n",
       "      <td>3.58</td>\n",
       "      <td>6.81</td>\n",
       "      <td>0.77</td>\n",
       "      <td>NaN</td>\n",
       "      <td>NaN</td>\n",
       "      <td>NaN</td>\n",
       "      <td>40.24</td>\n",
       "    </tr>\n",
       "    <tr>\n",
       "      <td>2</td>\n",
       "      <td>Mario Kart Wii</td>\n",
       "      <td>Wii</td>\n",
       "      <td>2008.0</td>\n",
       "      <td>racing</td>\n",
       "      <td>15.68</td>\n",
       "      <td>12.76</td>\n",
       "      <td>3.79</td>\n",
       "      <td>3.29</td>\n",
       "      <td>82.0</td>\n",
       "      <td>8.3</td>\n",
       "      <td>E</td>\n",
       "      <td>35.52</td>\n",
       "    </tr>\n",
       "    <tr>\n",
       "      <td>3</td>\n",
       "      <td>Wii Sports Resort</td>\n",
       "      <td>Wii</td>\n",
       "      <td>2009.0</td>\n",
       "      <td>sports</td>\n",
       "      <td>15.61</td>\n",
       "      <td>10.93</td>\n",
       "      <td>3.28</td>\n",
       "      <td>2.95</td>\n",
       "      <td>80.0</td>\n",
       "      <td>8.0</td>\n",
       "      <td>E</td>\n",
       "      <td>32.77</td>\n",
       "    </tr>\n",
       "    <tr>\n",
       "      <td>4</td>\n",
       "      <td>Pokemon Red/Pokemon Blue</td>\n",
       "      <td>GB</td>\n",
       "      <td>1996.0</td>\n",
       "      <td>role-playing</td>\n",
       "      <td>11.27</td>\n",
       "      <td>8.89</td>\n",
       "      <td>10.22</td>\n",
       "      <td>1.00</td>\n",
       "      <td>NaN</td>\n",
       "      <td>NaN</td>\n",
       "      <td>NaN</td>\n",
       "      <td>31.38</td>\n",
       "    </tr>\n",
       "    <tr>\n",
       "      <td>...</td>\n",
       "      <td>...</td>\n",
       "      <td>...</td>\n",
       "      <td>...</td>\n",
       "      <td>...</td>\n",
       "      <td>...</td>\n",
       "      <td>...</td>\n",
       "      <td>...</td>\n",
       "      <td>...</td>\n",
       "      <td>...</td>\n",
       "      <td>...</td>\n",
       "      <td>...</td>\n",
       "      <td>...</td>\n",
       "    </tr>\n",
       "    <tr>\n",
       "      <td>16710</td>\n",
       "      <td>Samurai Warriors: Sanada Maru</td>\n",
       "      <td>PS3</td>\n",
       "      <td>2016.0</td>\n",
       "      <td>action</td>\n",
       "      <td>0.00</td>\n",
       "      <td>0.00</td>\n",
       "      <td>0.01</td>\n",
       "      <td>0.00</td>\n",
       "      <td>NaN</td>\n",
       "      <td>NaN</td>\n",
       "      <td>NaN</td>\n",
       "      <td>0.01</td>\n",
       "    </tr>\n",
       "    <tr>\n",
       "      <td>16711</td>\n",
       "      <td>LMA Manager 2007</td>\n",
       "      <td>X360</td>\n",
       "      <td>2006.0</td>\n",
       "      <td>sports</td>\n",
       "      <td>0.00</td>\n",
       "      <td>0.01</td>\n",
       "      <td>0.00</td>\n",
       "      <td>0.00</td>\n",
       "      <td>NaN</td>\n",
       "      <td>NaN</td>\n",
       "      <td>NaN</td>\n",
       "      <td>0.01</td>\n",
       "    </tr>\n",
       "    <tr>\n",
       "      <td>16712</td>\n",
       "      <td>Haitaka no Psychedelica</td>\n",
       "      <td>PSV</td>\n",
       "      <td>2016.0</td>\n",
       "      <td>adventure</td>\n",
       "      <td>0.00</td>\n",
       "      <td>0.00</td>\n",
       "      <td>0.01</td>\n",
       "      <td>0.00</td>\n",
       "      <td>NaN</td>\n",
       "      <td>NaN</td>\n",
       "      <td>NaN</td>\n",
       "      <td>0.01</td>\n",
       "    </tr>\n",
       "    <tr>\n",
       "      <td>16713</td>\n",
       "      <td>Spirits &amp; Spells</td>\n",
       "      <td>GBA</td>\n",
       "      <td>2003.0</td>\n",
       "      <td>platform</td>\n",
       "      <td>0.01</td>\n",
       "      <td>0.00</td>\n",
       "      <td>0.00</td>\n",
       "      <td>0.00</td>\n",
       "      <td>NaN</td>\n",
       "      <td>NaN</td>\n",
       "      <td>NaN</td>\n",
       "      <td>0.01</td>\n",
       "    </tr>\n",
       "    <tr>\n",
       "      <td>16714</td>\n",
       "      <td>Winning Post 8 2016</td>\n",
       "      <td>PSV</td>\n",
       "      <td>2016.0</td>\n",
       "      <td>simulation</td>\n",
       "      <td>0.00</td>\n",
       "      <td>0.00</td>\n",
       "      <td>0.01</td>\n",
       "      <td>0.00</td>\n",
       "      <td>NaN</td>\n",
       "      <td>NaN</td>\n",
       "      <td>NaN</td>\n",
       "      <td>0.01</td>\n",
       "    </tr>\n",
       "  </tbody>\n",
       "</table>\n",
       "<p>16713 rows × 12 columns</p>\n",
       "</div>"
      ],
      "text/plain": [
       "                                name platform  year_of_release         genre  \\\n",
       "0                         Wii Sports      Wii           2006.0        sports   \n",
       "1                  Super Mario Bros.      NES           1985.0      platform   \n",
       "2                     Mario Kart Wii      Wii           2008.0        racing   \n",
       "3                  Wii Sports Resort      Wii           2009.0        sports   \n",
       "4           Pokemon Red/Pokemon Blue       GB           1996.0  role-playing   \n",
       "...                              ...      ...              ...           ...   \n",
       "16710  Samurai Warriors: Sanada Maru      PS3           2016.0        action   \n",
       "16711               LMA Manager 2007     X360           2006.0        sports   \n",
       "16712        Haitaka no Psychedelica      PSV           2016.0     adventure   \n",
       "16713               Spirits & Spells      GBA           2003.0      platform   \n",
       "16714            Winning Post 8 2016      PSV           2016.0    simulation   \n",
       "\n",
       "       na_sales  eu_sales  jp_sales  other_sales  critic_score  user_score  \\\n",
       "0         41.36     28.96      3.77         8.45          76.0         8.0   \n",
       "1         29.08      3.58      6.81         0.77           NaN         NaN   \n",
       "2         15.68     12.76      3.79         3.29          82.0         8.3   \n",
       "3         15.61     10.93      3.28         2.95          80.0         8.0   \n",
       "4         11.27      8.89     10.22         1.00           NaN         NaN   \n",
       "...         ...       ...       ...          ...           ...         ...   \n",
       "16710      0.00      0.00      0.01         0.00           NaN         NaN   \n",
       "16711      0.00      0.01      0.00         0.00           NaN         NaN   \n",
       "16712      0.00      0.00      0.01         0.00           NaN         NaN   \n",
       "16713      0.01      0.00      0.00         0.00           NaN         NaN   \n",
       "16714      0.00      0.00      0.01         0.00           NaN         NaN   \n",
       "\n",
       "      rating  total_sales  \n",
       "0          E        82.54  \n",
       "1        NaN        40.24  \n",
       "2          E        35.52  \n",
       "3          E        32.77  \n",
       "4        NaN        31.38  \n",
       "...      ...          ...  \n",
       "16710    NaN         0.01  \n",
       "16711    NaN         0.01  \n",
       "16712    NaN         0.01  \n",
       "16713    NaN         0.01  \n",
       "16714    NaN         0.01  \n",
       "\n",
       "[16713 rows x 12 columns]"
      ]
     },
     "execution_count": 13,
     "metadata": {},
     "output_type": "execute_result"
    }
   ],
   "source": [
    "df"
   ]
  },
  {
   "cell_type": "code",
   "execution_count": 14,
   "metadata": {},
   "outputs": [
    {
     "name": "stdout",
     "output_type": "stream",
     "text": [
      "<class 'pandas.core.frame.DataFrame'>\n",
      "Int64Index: 16713 entries, 0 to 16714\n",
      "Data columns (total 12 columns):\n",
      "name               16713 non-null object\n",
      "platform           16713 non-null object\n",
      "year_of_release    16444 non-null float64\n",
      "genre              16713 non-null object\n",
      "na_sales           16713 non-null float64\n",
      "eu_sales           16713 non-null float64\n",
      "jp_sales           16713 non-null float64\n",
      "other_sales        16713 non-null float64\n",
      "critic_score       8137 non-null float64\n",
      "user_score         10014 non-null float64\n",
      "rating             9949 non-null object\n",
      "total_sales        16713 non-null float64\n",
      "dtypes: float64(8), object(4)\n",
      "memory usage: 1.7+ MB\n"
     ]
    }
   ],
   "source": [
    "df.info()"
   ]
  },
  {
   "cell_type": "markdown",
   "metadata": {},
   "source": [
    "#### Проверка на наличие дупликатов. <a id=\"duplicates\"></a>"
   ]
  },
  {
   "cell_type": "markdown",
   "metadata": {},
   "source": [
    "Проверим на всякий случай датасет на наличие дубликатов."
   ]
  },
  {
   "cell_type": "code",
   "execution_count": 15,
   "metadata": {},
   "outputs": [
    {
     "data": {
      "text/plain": [
       "0"
      ]
     },
     "execution_count": 15,
     "metadata": {},
     "output_type": "execute_result"
    }
   ],
   "source": [
    "df.duplicated().sum()"
   ]
  },
  {
   "cell_type": "markdown",
   "metadata": {},
   "source": [
    "Полностью повторяющихся значений нет. Можем приступать к анализу данных!"
   ]
  },
  {
   "cell_type": "markdown",
   "metadata": {},
   "source": [
    "### Исследовательский анализ данных. <a id=\"analysis\"></a>"
   ]
  },
  {
   "cell_type": "markdown",
   "metadata": {},
   "source": [
    "#### Анализ игр по году выпуска.<a id=\"year\"></a>"
   ]
  },
  {
   "cell_type": "markdown",
   "metadata": {},
   "source": [
    "Посмотрим, сколько игр выпускалось в разные годы. Для этого опять построим сводник."
   ]
  },
  {
   "cell_type": "code",
   "execution_count": 16,
   "metadata": {},
   "outputs": [
    {
     "data": {
      "text/plain": [
       "year_of_release\n",
       "1980.0       9\n",
       "1981.0      46\n",
       "1982.0      36\n",
       "1983.0      17\n",
       "1984.0      14\n",
       "1985.0      14\n",
       "1986.0      21\n",
       "1987.0      16\n",
       "1988.0      15\n",
       "1989.0      17\n",
       "1990.0      16\n",
       "1991.0      41\n",
       "1992.0      43\n",
       "1993.0      60\n",
       "1994.0     121\n",
       "1995.0     219\n",
       "1996.0     263\n",
       "1997.0     289\n",
       "1998.0     379\n",
       "1999.0     338\n",
       "2000.0     350\n",
       "2001.0     482\n",
       "2002.0     829\n",
       "2003.0     775\n",
       "2004.0     762\n",
       "2005.0     939\n",
       "2006.0    1006\n",
       "2007.0    1197\n",
       "2008.0    1427\n",
       "2009.0    1426\n",
       "2010.0    1255\n",
       "2011.0    1136\n",
       "2012.0     653\n",
       "2013.0     544\n",
       "2014.0     581\n",
       "2015.0     606\n",
       "2016.0     502\n",
       "Name: name, dtype: int64"
      ]
     },
     "execution_count": 16,
     "metadata": {},
     "output_type": "execute_result"
    }
   ],
   "source": [
    "df.groupby('year_of_release')['name'].count()"
   ]
  },
  {
   "cell_type": "markdown",
   "metadata": {},
   "source": [
    "Теперь разобьем наш интервал времени на десятилетия, чтобы определить период активного выпуска игр и платформ."
   ]
  },
  {
   "cell_type": "code",
   "execution_count": 17,
   "metadata": {},
   "outputs": [
    {
     "data": {
      "text/plain": [
       "year_of_release\n",
       "(1979.999, 1990.0]      221\n",
       "(1990.0, 2000.0]       2103\n",
       "(2000.0, 2010.0]      10098\n",
       "(2010.0, 2020.0]       4022\n",
       "Name: name, dtype: int64"
      ]
     },
     "execution_count": 17,
     "metadata": {},
     "output_type": "execute_result"
    }
   ],
   "source": [
    "df.groupby(pd.cut(df['year_of_release'], bins=[1980, 1990, 2000, 2010, 2020], include_lowest=True))['name'].count()"
   ]
  },
  {
   "cell_type": "markdown",
   "metadata": {},
   "source": [
    "Видно, что в период с 1980 по 1990 игр выпускалось мало (доля выпускаемых в этот временной интервал составляет 0,013 от общего кол-ва игр, выпущенных в рассматриваемый в данном датасете период. Можем спокойно рассматривать в дальнейшем анализе игры выпущенные с 1991 г. Нельзя также не отметить период с 2000 по 2010 гг, в который было выпущено более 60% игр от всего кол-ва игр. Далее наблюдается спад."
   ]
  },
  {
   "cell_type": "markdown",
   "metadata": {},
   "source": [
    "#### Анализ игр по платформам.<a id=\"platform\"></a>"
   ]
  },
  {
   "cell_type": "markdown",
   "metadata": {},
   "source": [
    "Посмотрим, как менялись продажи по платформам, посмотрим на жизненный период платформ. Для этого создадим сводную таблицу."
   ]
  },
  {
   "cell_type": "code",
   "execution_count": 18,
   "metadata": {},
   "outputs": [
    {
     "data": {
      "text/html": [
       "<div>\n",
       "<style scoped>\n",
       "    .dataframe tbody tr th:only-of-type {\n",
       "        vertical-align: middle;\n",
       "    }\n",
       "\n",
       "    .dataframe tbody tr th {\n",
       "        vertical-align: top;\n",
       "    }\n",
       "\n",
       "    .dataframe thead th {\n",
       "        text-align: right;\n",
       "    }\n",
       "</style>\n",
       "<table border=\"1\" class=\"dataframe\">\n",
       "  <thead>\n",
       "    <tr style=\"text-align: right;\">\n",
       "      <th>platform</th>\n",
       "      <th>2600</th>\n",
       "      <th>3DO</th>\n",
       "      <th>3DS</th>\n",
       "      <th>DC</th>\n",
       "      <th>DS</th>\n",
       "      <th>GB</th>\n",
       "      <th>GBA</th>\n",
       "      <th>GC</th>\n",
       "      <th>GEN</th>\n",
       "      <th>GG</th>\n",
       "      <th>...</th>\n",
       "      <th>SAT</th>\n",
       "      <th>SCD</th>\n",
       "      <th>SNES</th>\n",
       "      <th>TG16</th>\n",
       "      <th>WS</th>\n",
       "      <th>Wii</th>\n",
       "      <th>WiiU</th>\n",
       "      <th>X360</th>\n",
       "      <th>XB</th>\n",
       "      <th>XOne</th>\n",
       "    </tr>\n",
       "    <tr>\n",
       "      <th>year_of_release</th>\n",
       "      <th></th>\n",
       "      <th></th>\n",
       "      <th></th>\n",
       "      <th></th>\n",
       "      <th></th>\n",
       "      <th></th>\n",
       "      <th></th>\n",
       "      <th></th>\n",
       "      <th></th>\n",
       "      <th></th>\n",
       "      <th></th>\n",
       "      <th></th>\n",
       "      <th></th>\n",
       "      <th></th>\n",
       "      <th></th>\n",
       "      <th></th>\n",
       "      <th></th>\n",
       "      <th></th>\n",
       "      <th></th>\n",
       "      <th></th>\n",
       "      <th></th>\n",
       "    </tr>\n",
       "  </thead>\n",
       "  <tbody>\n",
       "    <tr>\n",
       "      <td>1980.0</td>\n",
       "      <td>11.38</td>\n",
       "      <td>NaN</td>\n",
       "      <td>NaN</td>\n",
       "      <td>NaN</td>\n",
       "      <td>NaN</td>\n",
       "      <td>NaN</td>\n",
       "      <td>NaN</td>\n",
       "      <td>NaN</td>\n",
       "      <td>NaN</td>\n",
       "      <td>NaN</td>\n",
       "      <td>...</td>\n",
       "      <td>NaN</td>\n",
       "      <td>NaN</td>\n",
       "      <td>NaN</td>\n",
       "      <td>NaN</td>\n",
       "      <td>NaN</td>\n",
       "      <td>NaN</td>\n",
       "      <td>NaN</td>\n",
       "      <td>NaN</td>\n",
       "      <td>NaN</td>\n",
       "      <td>NaN</td>\n",
       "    </tr>\n",
       "    <tr>\n",
       "      <td>1981.0</td>\n",
       "      <td>35.68</td>\n",
       "      <td>NaN</td>\n",
       "      <td>NaN</td>\n",
       "      <td>NaN</td>\n",
       "      <td>NaN</td>\n",
       "      <td>NaN</td>\n",
       "      <td>NaN</td>\n",
       "      <td>NaN</td>\n",
       "      <td>NaN</td>\n",
       "      <td>NaN</td>\n",
       "      <td>...</td>\n",
       "      <td>NaN</td>\n",
       "      <td>NaN</td>\n",
       "      <td>NaN</td>\n",
       "      <td>NaN</td>\n",
       "      <td>NaN</td>\n",
       "      <td>NaN</td>\n",
       "      <td>NaN</td>\n",
       "      <td>NaN</td>\n",
       "      <td>NaN</td>\n",
       "      <td>NaN</td>\n",
       "    </tr>\n",
       "    <tr>\n",
       "      <td>1982.0</td>\n",
       "      <td>28.88</td>\n",
       "      <td>NaN</td>\n",
       "      <td>NaN</td>\n",
       "      <td>NaN</td>\n",
       "      <td>NaN</td>\n",
       "      <td>NaN</td>\n",
       "      <td>NaN</td>\n",
       "      <td>NaN</td>\n",
       "      <td>NaN</td>\n",
       "      <td>NaN</td>\n",
       "      <td>...</td>\n",
       "      <td>NaN</td>\n",
       "      <td>NaN</td>\n",
       "      <td>NaN</td>\n",
       "      <td>NaN</td>\n",
       "      <td>NaN</td>\n",
       "      <td>NaN</td>\n",
       "      <td>NaN</td>\n",
       "      <td>NaN</td>\n",
       "      <td>NaN</td>\n",
       "      <td>NaN</td>\n",
       "    </tr>\n",
       "    <tr>\n",
       "      <td>1983.0</td>\n",
       "      <td>5.84</td>\n",
       "      <td>NaN</td>\n",
       "      <td>NaN</td>\n",
       "      <td>NaN</td>\n",
       "      <td>NaN</td>\n",
       "      <td>NaN</td>\n",
       "      <td>NaN</td>\n",
       "      <td>NaN</td>\n",
       "      <td>NaN</td>\n",
       "      <td>NaN</td>\n",
       "      <td>...</td>\n",
       "      <td>NaN</td>\n",
       "      <td>NaN</td>\n",
       "      <td>NaN</td>\n",
       "      <td>NaN</td>\n",
       "      <td>NaN</td>\n",
       "      <td>NaN</td>\n",
       "      <td>NaN</td>\n",
       "      <td>NaN</td>\n",
       "      <td>NaN</td>\n",
       "      <td>NaN</td>\n",
       "    </tr>\n",
       "    <tr>\n",
       "      <td>1984.0</td>\n",
       "      <td>0.27</td>\n",
       "      <td>NaN</td>\n",
       "      <td>NaN</td>\n",
       "      <td>NaN</td>\n",
       "      <td>NaN</td>\n",
       "      <td>NaN</td>\n",
       "      <td>NaN</td>\n",
       "      <td>NaN</td>\n",
       "      <td>NaN</td>\n",
       "      <td>NaN</td>\n",
       "      <td>...</td>\n",
       "      <td>NaN</td>\n",
       "      <td>NaN</td>\n",
       "      <td>NaN</td>\n",
       "      <td>NaN</td>\n",
       "      <td>NaN</td>\n",
       "      <td>NaN</td>\n",
       "      <td>NaN</td>\n",
       "      <td>NaN</td>\n",
       "      <td>NaN</td>\n",
       "      <td>NaN</td>\n",
       "    </tr>\n",
       "    <tr>\n",
       "      <td>1985.0</td>\n",
       "      <td>0.45</td>\n",
       "      <td>NaN</td>\n",
       "      <td>NaN</td>\n",
       "      <td>NaN</td>\n",
       "      <td>0.02</td>\n",
       "      <td>NaN</td>\n",
       "      <td>NaN</td>\n",
       "      <td>NaN</td>\n",
       "      <td>NaN</td>\n",
       "      <td>NaN</td>\n",
       "      <td>...</td>\n",
       "      <td>NaN</td>\n",
       "      <td>NaN</td>\n",
       "      <td>NaN</td>\n",
       "      <td>NaN</td>\n",
       "      <td>NaN</td>\n",
       "      <td>NaN</td>\n",
       "      <td>NaN</td>\n",
       "      <td>NaN</td>\n",
       "      <td>NaN</td>\n",
       "      <td>NaN</td>\n",
       "    </tr>\n",
       "    <tr>\n",
       "      <td>1986.0</td>\n",
       "      <td>0.67</td>\n",
       "      <td>NaN</td>\n",
       "      <td>NaN</td>\n",
       "      <td>NaN</td>\n",
       "      <td>NaN</td>\n",
       "      <td>NaN</td>\n",
       "      <td>NaN</td>\n",
       "      <td>NaN</td>\n",
       "      <td>NaN</td>\n",
       "      <td>NaN</td>\n",
       "      <td>...</td>\n",
       "      <td>NaN</td>\n",
       "      <td>NaN</td>\n",
       "      <td>NaN</td>\n",
       "      <td>NaN</td>\n",
       "      <td>NaN</td>\n",
       "      <td>NaN</td>\n",
       "      <td>NaN</td>\n",
       "      <td>NaN</td>\n",
       "      <td>NaN</td>\n",
       "      <td>NaN</td>\n",
       "    </tr>\n",
       "    <tr>\n",
       "      <td>1987.0</td>\n",
       "      <td>1.94</td>\n",
       "      <td>NaN</td>\n",
       "      <td>NaN</td>\n",
       "      <td>NaN</td>\n",
       "      <td>NaN</td>\n",
       "      <td>NaN</td>\n",
       "      <td>NaN</td>\n",
       "      <td>NaN</td>\n",
       "      <td>NaN</td>\n",
       "      <td>NaN</td>\n",
       "      <td>...</td>\n",
       "      <td>NaN</td>\n",
       "      <td>NaN</td>\n",
       "      <td>NaN</td>\n",
       "      <td>NaN</td>\n",
       "      <td>NaN</td>\n",
       "      <td>NaN</td>\n",
       "      <td>NaN</td>\n",
       "      <td>NaN</td>\n",
       "      <td>NaN</td>\n",
       "      <td>NaN</td>\n",
       "    </tr>\n",
       "    <tr>\n",
       "      <td>1988.0</td>\n",
       "      <td>0.74</td>\n",
       "      <td>NaN</td>\n",
       "      <td>NaN</td>\n",
       "      <td>NaN</td>\n",
       "      <td>NaN</td>\n",
       "      <td>1.43</td>\n",
       "      <td>NaN</td>\n",
       "      <td>NaN</td>\n",
       "      <td>NaN</td>\n",
       "      <td>NaN</td>\n",
       "      <td>...</td>\n",
       "      <td>NaN</td>\n",
       "      <td>NaN</td>\n",
       "      <td>NaN</td>\n",
       "      <td>NaN</td>\n",
       "      <td>NaN</td>\n",
       "      <td>NaN</td>\n",
       "      <td>NaN</td>\n",
       "      <td>NaN</td>\n",
       "      <td>NaN</td>\n",
       "      <td>NaN</td>\n",
       "    </tr>\n",
       "    <tr>\n",
       "      <td>1989.0</td>\n",
       "      <td>0.63</td>\n",
       "      <td>NaN</td>\n",
       "      <td>NaN</td>\n",
       "      <td>NaN</td>\n",
       "      <td>NaN</td>\n",
       "      <td>64.97</td>\n",
       "      <td>NaN</td>\n",
       "      <td>NaN</td>\n",
       "      <td>NaN</td>\n",
       "      <td>NaN</td>\n",
       "      <td>...</td>\n",
       "      <td>NaN</td>\n",
       "      <td>NaN</td>\n",
       "      <td>NaN</td>\n",
       "      <td>NaN</td>\n",
       "      <td>NaN</td>\n",
       "      <td>NaN</td>\n",
       "      <td>NaN</td>\n",
       "      <td>NaN</td>\n",
       "      <td>NaN</td>\n",
       "      <td>NaN</td>\n",
       "    </tr>\n",
       "    <tr>\n",
       "      <td>1990.0</td>\n",
       "      <td>NaN</td>\n",
       "      <td>NaN</td>\n",
       "      <td>NaN</td>\n",
       "      <td>NaN</td>\n",
       "      <td>NaN</td>\n",
       "      <td>4.89</td>\n",
       "      <td>NaN</td>\n",
       "      <td>NaN</td>\n",
       "      <td>2.60</td>\n",
       "      <td>NaN</td>\n",
       "      <td>...</td>\n",
       "      <td>NaN</td>\n",
       "      <td>NaN</td>\n",
       "      <td>26.15</td>\n",
       "      <td>NaN</td>\n",
       "      <td>NaN</td>\n",
       "      <td>NaN</td>\n",
       "      <td>NaN</td>\n",
       "      <td>NaN</td>\n",
       "      <td>NaN</td>\n",
       "      <td>NaN</td>\n",
       "    </tr>\n",
       "    <tr>\n",
       "      <td>1991.0</td>\n",
       "      <td>NaN</td>\n",
       "      <td>NaN</td>\n",
       "      <td>NaN</td>\n",
       "      <td>NaN</td>\n",
       "      <td>NaN</td>\n",
       "      <td>5.57</td>\n",
       "      <td>NaN</td>\n",
       "      <td>NaN</td>\n",
       "      <td>4.33</td>\n",
       "      <td>NaN</td>\n",
       "      <td>...</td>\n",
       "      <td>NaN</td>\n",
       "      <td>NaN</td>\n",
       "      <td>16.22</td>\n",
       "      <td>NaN</td>\n",
       "      <td>NaN</td>\n",
       "      <td>NaN</td>\n",
       "      <td>NaN</td>\n",
       "      <td>NaN</td>\n",
       "      <td>NaN</td>\n",
       "      <td>NaN</td>\n",
       "    </tr>\n",
       "    <tr>\n",
       "      <td>1992.0</td>\n",
       "      <td>NaN</td>\n",
       "      <td>NaN</td>\n",
       "      <td>NaN</td>\n",
       "      <td>NaN</td>\n",
       "      <td>NaN</td>\n",
       "      <td>25.49</td>\n",
       "      <td>NaN</td>\n",
       "      <td>NaN</td>\n",
       "      <td>12.64</td>\n",
       "      <td>0.04</td>\n",
       "      <td>...</td>\n",
       "      <td>NaN</td>\n",
       "      <td>NaN</td>\n",
       "      <td>32.98</td>\n",
       "      <td>NaN</td>\n",
       "      <td>NaN</td>\n",
       "      <td>NaN</td>\n",
       "      <td>NaN</td>\n",
       "      <td>NaN</td>\n",
       "      <td>NaN</td>\n",
       "      <td>NaN</td>\n",
       "    </tr>\n",
       "    <tr>\n",
       "      <td>1993.0</td>\n",
       "      <td>NaN</td>\n",
       "      <td>NaN</td>\n",
       "      <td>NaN</td>\n",
       "      <td>NaN</td>\n",
       "      <td>NaN</td>\n",
       "      <td>NaN</td>\n",
       "      <td>NaN</td>\n",
       "      <td>NaN</td>\n",
       "      <td>0.65</td>\n",
       "      <td>NaN</td>\n",
       "      <td>...</td>\n",
       "      <td>NaN</td>\n",
       "      <td>1.50</td>\n",
       "      <td>40.02</td>\n",
       "      <td>NaN</td>\n",
       "      <td>NaN</td>\n",
       "      <td>NaN</td>\n",
       "      <td>NaN</td>\n",
       "      <td>NaN</td>\n",
       "      <td>NaN</td>\n",
       "      <td>NaN</td>\n",
       "    </tr>\n",
       "    <tr>\n",
       "      <td>1994.0</td>\n",
       "      <td>NaN</td>\n",
       "      <td>0.02</td>\n",
       "      <td>NaN</td>\n",
       "      <td>NaN</td>\n",
       "      <td>NaN</td>\n",
       "      <td>12.18</td>\n",
       "      <td>NaN</td>\n",
       "      <td>NaN</td>\n",
       "      <td>8.13</td>\n",
       "      <td>NaN</td>\n",
       "      <td>...</td>\n",
       "      <td>3.65</td>\n",
       "      <td>0.36</td>\n",
       "      <td>35.08</td>\n",
       "      <td>NaN</td>\n",
       "      <td>NaN</td>\n",
       "      <td>NaN</td>\n",
       "      <td>NaN</td>\n",
       "      <td>NaN</td>\n",
       "      <td>NaN</td>\n",
       "      <td>NaN</td>\n",
       "    </tr>\n",
       "    <tr>\n",
       "      <td>1995.0</td>\n",
       "      <td>NaN</td>\n",
       "      <td>0.08</td>\n",
       "      <td>NaN</td>\n",
       "      <td>NaN</td>\n",
       "      <td>NaN</td>\n",
       "      <td>3.60</td>\n",
       "      <td>NaN</td>\n",
       "      <td>NaN</td>\n",
       "      <td>NaN</td>\n",
       "      <td>NaN</td>\n",
       "      <td>...</td>\n",
       "      <td>11.57</td>\n",
       "      <td>NaN</td>\n",
       "      <td>32.20</td>\n",
       "      <td>0.16</td>\n",
       "      <td>NaN</td>\n",
       "      <td>NaN</td>\n",
       "      <td>NaN</td>\n",
       "      <td>NaN</td>\n",
       "      <td>NaN</td>\n",
       "      <td>NaN</td>\n",
       "    </tr>\n",
       "    <tr>\n",
       "      <td>1996.0</td>\n",
       "      <td>NaN</td>\n",
       "      <td>NaN</td>\n",
       "      <td>NaN</td>\n",
       "      <td>NaN</td>\n",
       "      <td>NaN</td>\n",
       "      <td>36.03</td>\n",
       "      <td>NaN</td>\n",
       "      <td>NaN</td>\n",
       "      <td>NaN</td>\n",
       "      <td>NaN</td>\n",
       "      <td>...</td>\n",
       "      <td>7.69</td>\n",
       "      <td>NaN</td>\n",
       "      <td>15.92</td>\n",
       "      <td>NaN</td>\n",
       "      <td>NaN</td>\n",
       "      <td>NaN</td>\n",
       "      <td>NaN</td>\n",
       "      <td>NaN</td>\n",
       "      <td>NaN</td>\n",
       "      <td>NaN</td>\n",
       "    </tr>\n",
       "    <tr>\n",
       "      <td>1997.0</td>\n",
       "      <td>NaN</td>\n",
       "      <td>NaN</td>\n",
       "      <td>NaN</td>\n",
       "      <td>NaN</td>\n",
       "      <td>NaN</td>\n",
       "      <td>6.37</td>\n",
       "      <td>NaN</td>\n",
       "      <td>NaN</td>\n",
       "      <td>NaN</td>\n",
       "      <td>NaN</td>\n",
       "      <td>...</td>\n",
       "      <td>6.77</td>\n",
       "      <td>NaN</td>\n",
       "      <td>0.99</td>\n",
       "      <td>NaN</td>\n",
       "      <td>NaN</td>\n",
       "      <td>NaN</td>\n",
       "      <td>NaN</td>\n",
       "      <td>NaN</td>\n",
       "      <td>NaN</td>\n",
       "      <td>NaN</td>\n",
       "    </tr>\n",
       "    <tr>\n",
       "      <td>1998.0</td>\n",
       "      <td>NaN</td>\n",
       "      <td>NaN</td>\n",
       "      <td>NaN</td>\n",
       "      <td>3.38</td>\n",
       "      <td>NaN</td>\n",
       "      <td>26.90</td>\n",
       "      <td>NaN</td>\n",
       "      <td>NaN</td>\n",
       "      <td>NaN</td>\n",
       "      <td>NaN</td>\n",
       "      <td>...</td>\n",
       "      <td>3.82</td>\n",
       "      <td>NaN</td>\n",
       "      <td>0.22</td>\n",
       "      <td>NaN</td>\n",
       "      <td>NaN</td>\n",
       "      <td>NaN</td>\n",
       "      <td>NaN</td>\n",
       "      <td>NaN</td>\n",
       "      <td>NaN</td>\n",
       "      <td>NaN</td>\n",
       "    </tr>\n",
       "    <tr>\n",
       "      <td>1999.0</td>\n",
       "      <td>NaN</td>\n",
       "      <td>NaN</td>\n",
       "      <td>NaN</td>\n",
       "      <td>5.16</td>\n",
       "      <td>NaN</td>\n",
       "      <td>38.00</td>\n",
       "      <td>NaN</td>\n",
       "      <td>NaN</td>\n",
       "      <td>NaN</td>\n",
       "      <td>NaN</td>\n",
       "      <td>...</td>\n",
       "      <td>0.09</td>\n",
       "      <td>NaN</td>\n",
       "      <td>0.26</td>\n",
       "      <td>NaN</td>\n",
       "      <td>0.46</td>\n",
       "      <td>NaN</td>\n",
       "      <td>NaN</td>\n",
       "      <td>NaN</td>\n",
       "      <td>NaN</td>\n",
       "      <td>NaN</td>\n",
       "    </tr>\n",
       "    <tr>\n",
       "      <td>2000.0</td>\n",
       "      <td>NaN</td>\n",
       "      <td>NaN</td>\n",
       "      <td>NaN</td>\n",
       "      <td>5.99</td>\n",
       "      <td>NaN</td>\n",
       "      <td>19.76</td>\n",
       "      <td>0.07</td>\n",
       "      <td>NaN</td>\n",
       "      <td>NaN</td>\n",
       "      <td>NaN</td>\n",
       "      <td>...</td>\n",
       "      <td>NaN</td>\n",
       "      <td>NaN</td>\n",
       "      <td>NaN</td>\n",
       "      <td>NaN</td>\n",
       "      <td>0.68</td>\n",
       "      <td>NaN</td>\n",
       "      <td>NaN</td>\n",
       "      <td>NaN</td>\n",
       "      <td>0.99</td>\n",
       "      <td>NaN</td>\n",
       "    </tr>\n",
       "    <tr>\n",
       "      <td>2001.0</td>\n",
       "      <td>NaN</td>\n",
       "      <td>NaN</td>\n",
       "      <td>NaN</td>\n",
       "      <td>1.07</td>\n",
       "      <td>NaN</td>\n",
       "      <td>9.24</td>\n",
       "      <td>61.53</td>\n",
       "      <td>26.34</td>\n",
       "      <td>NaN</td>\n",
       "      <td>NaN</td>\n",
       "      <td>...</td>\n",
       "      <td>NaN</td>\n",
       "      <td>NaN</td>\n",
       "      <td>NaN</td>\n",
       "      <td>NaN</td>\n",
       "      <td>0.28</td>\n",
       "      <td>NaN</td>\n",
       "      <td>NaN</td>\n",
       "      <td>NaN</td>\n",
       "      <td>22.26</td>\n",
       "      <td>NaN</td>\n",
       "    </tr>\n",
       "    <tr>\n",
       "      <td>2002.0</td>\n",
       "      <td>NaN</td>\n",
       "      <td>NaN</td>\n",
       "      <td>NaN</td>\n",
       "      <td>0.29</td>\n",
       "      <td>NaN</td>\n",
       "      <td>NaN</td>\n",
       "      <td>74.16</td>\n",
       "      <td>51.81</td>\n",
       "      <td>NaN</td>\n",
       "      <td>NaN</td>\n",
       "      <td>...</td>\n",
       "      <td>NaN</td>\n",
       "      <td>NaN</td>\n",
       "      <td>NaN</td>\n",
       "      <td>NaN</td>\n",
       "      <td>NaN</td>\n",
       "      <td>NaN</td>\n",
       "      <td>NaN</td>\n",
       "      <td>NaN</td>\n",
       "      <td>48.01</td>\n",
       "      <td>NaN</td>\n",
       "    </tr>\n",
       "    <tr>\n",
       "      <td>2003.0</td>\n",
       "      <td>NaN</td>\n",
       "      <td>NaN</td>\n",
       "      <td>NaN</td>\n",
       "      <td>NaN</td>\n",
       "      <td>NaN</td>\n",
       "      <td>NaN</td>\n",
       "      <td>56.67</td>\n",
       "      <td>50.61</td>\n",
       "      <td>NaN</td>\n",
       "      <td>NaN</td>\n",
       "      <td>...</td>\n",
       "      <td>NaN</td>\n",
       "      <td>NaN</td>\n",
       "      <td>NaN</td>\n",
       "      <td>NaN</td>\n",
       "      <td>NaN</td>\n",
       "      <td>NaN</td>\n",
       "      <td>NaN</td>\n",
       "      <td>NaN</td>\n",
       "      <td>55.04</td>\n",
       "      <td>NaN</td>\n",
       "    </tr>\n",
       "    <tr>\n",
       "      <td>2004.0</td>\n",
       "      <td>NaN</td>\n",
       "      <td>NaN</td>\n",
       "      <td>NaN</td>\n",
       "      <td>NaN</td>\n",
       "      <td>17.27</td>\n",
       "      <td>NaN</td>\n",
       "      <td>77.91</td>\n",
       "      <td>28.82</td>\n",
       "      <td>NaN</td>\n",
       "      <td>NaN</td>\n",
       "      <td>...</td>\n",
       "      <td>NaN</td>\n",
       "      <td>NaN</td>\n",
       "      <td>NaN</td>\n",
       "      <td>NaN</td>\n",
       "      <td>NaN</td>\n",
       "      <td>NaN</td>\n",
       "      <td>NaN</td>\n",
       "      <td>NaN</td>\n",
       "      <td>65.42</td>\n",
       "      <td>NaN</td>\n",
       "    </tr>\n",
       "    <tr>\n",
       "      <td>2005.0</td>\n",
       "      <td>NaN</td>\n",
       "      <td>NaN</td>\n",
       "      <td>NaN</td>\n",
       "      <td>NaN</td>\n",
       "      <td>130.14</td>\n",
       "      <td>NaN</td>\n",
       "      <td>33.86</td>\n",
       "      <td>27.62</td>\n",
       "      <td>NaN</td>\n",
       "      <td>NaN</td>\n",
       "      <td>...</td>\n",
       "      <td>NaN</td>\n",
       "      <td>NaN</td>\n",
       "      <td>NaN</td>\n",
       "      <td>NaN</td>\n",
       "      <td>NaN</td>\n",
       "      <td>NaN</td>\n",
       "      <td>NaN</td>\n",
       "      <td>8.25</td>\n",
       "      <td>49.08</td>\n",
       "      <td>NaN</td>\n",
       "    </tr>\n",
       "    <tr>\n",
       "      <td>2006.0</td>\n",
       "      <td>NaN</td>\n",
       "      <td>NaN</td>\n",
       "      <td>NaN</td>\n",
       "      <td>NaN</td>\n",
       "      <td>119.81</td>\n",
       "      <td>NaN</td>\n",
       "      <td>5.28</td>\n",
       "      <td>11.26</td>\n",
       "      <td>NaN</td>\n",
       "      <td>NaN</td>\n",
       "      <td>...</td>\n",
       "      <td>NaN</td>\n",
       "      <td>NaN</td>\n",
       "      <td>NaN</td>\n",
       "      <td>NaN</td>\n",
       "      <td>NaN</td>\n",
       "      <td>137.15</td>\n",
       "      <td>NaN</td>\n",
       "      <td>51.62</td>\n",
       "      <td>10.04</td>\n",
       "      <td>NaN</td>\n",
       "    </tr>\n",
       "    <tr>\n",
       "      <td>2007.0</td>\n",
       "      <td>NaN</td>\n",
       "      <td>NaN</td>\n",
       "      <td>NaN</td>\n",
       "      <td>0.02</td>\n",
       "      <td>146.94</td>\n",
       "      <td>NaN</td>\n",
       "      <td>3.40</td>\n",
       "      <td>0.27</td>\n",
       "      <td>NaN</td>\n",
       "      <td>NaN</td>\n",
       "      <td>...</td>\n",
       "      <td>NaN</td>\n",
       "      <td>NaN</td>\n",
       "      <td>NaN</td>\n",
       "      <td>NaN</td>\n",
       "      <td>NaN</td>\n",
       "      <td>152.77</td>\n",
       "      <td>NaN</td>\n",
       "      <td>95.41</td>\n",
       "      <td>0.55</td>\n",
       "      <td>NaN</td>\n",
       "    </tr>\n",
       "    <tr>\n",
       "      <td>2008.0</td>\n",
       "      <td>NaN</td>\n",
       "      <td>NaN</td>\n",
       "      <td>NaN</td>\n",
       "      <td>0.04</td>\n",
       "      <td>145.31</td>\n",
       "      <td>NaN</td>\n",
       "      <td>NaN</td>\n",
       "      <td>NaN</td>\n",
       "      <td>NaN</td>\n",
       "      <td>NaN</td>\n",
       "      <td>...</td>\n",
       "      <td>NaN</td>\n",
       "      <td>NaN</td>\n",
       "      <td>NaN</td>\n",
       "      <td>NaN</td>\n",
       "      <td>NaN</td>\n",
       "      <td>171.32</td>\n",
       "      <td>NaN</td>\n",
       "      <td>135.26</td>\n",
       "      <td>0.18</td>\n",
       "      <td>NaN</td>\n",
       "    </tr>\n",
       "    <tr>\n",
       "      <td>2009.0</td>\n",
       "      <td>NaN</td>\n",
       "      <td>NaN</td>\n",
       "      <td>NaN</td>\n",
       "      <td>NaN</td>\n",
       "      <td>119.54</td>\n",
       "      <td>NaN</td>\n",
       "      <td>NaN</td>\n",
       "      <td>NaN</td>\n",
       "      <td>NaN</td>\n",
       "      <td>NaN</td>\n",
       "      <td>...</td>\n",
       "      <td>NaN</td>\n",
       "      <td>NaN</td>\n",
       "      <td>NaN</td>\n",
       "      <td>NaN</td>\n",
       "      <td>NaN</td>\n",
       "      <td>206.97</td>\n",
       "      <td>NaN</td>\n",
       "      <td>120.29</td>\n",
       "      <td>NaN</td>\n",
       "      <td>NaN</td>\n",
       "    </tr>\n",
       "    <tr>\n",
       "      <td>2010.0</td>\n",
       "      <td>NaN</td>\n",
       "      <td>NaN</td>\n",
       "      <td>NaN</td>\n",
       "      <td>NaN</td>\n",
       "      <td>85.02</td>\n",
       "      <td>NaN</td>\n",
       "      <td>NaN</td>\n",
       "      <td>NaN</td>\n",
       "      <td>NaN</td>\n",
       "      <td>NaN</td>\n",
       "      <td>...</td>\n",
       "      <td>NaN</td>\n",
       "      <td>NaN</td>\n",
       "      <td>NaN</td>\n",
       "      <td>NaN</td>\n",
       "      <td>NaN</td>\n",
       "      <td>127.95</td>\n",
       "      <td>NaN</td>\n",
       "      <td>170.03</td>\n",
       "      <td>NaN</td>\n",
       "      <td>NaN</td>\n",
       "    </tr>\n",
       "    <tr>\n",
       "      <td>2011.0</td>\n",
       "      <td>NaN</td>\n",
       "      <td>NaN</td>\n",
       "      <td>63.20</td>\n",
       "      <td>NaN</td>\n",
       "      <td>26.18</td>\n",
       "      <td>NaN</td>\n",
       "      <td>NaN</td>\n",
       "      <td>NaN</td>\n",
       "      <td>NaN</td>\n",
       "      <td>NaN</td>\n",
       "      <td>...</td>\n",
       "      <td>NaN</td>\n",
       "      <td>NaN</td>\n",
       "      <td>NaN</td>\n",
       "      <td>NaN</td>\n",
       "      <td>NaN</td>\n",
       "      <td>59.65</td>\n",
       "      <td>NaN</td>\n",
       "      <td>143.84</td>\n",
       "      <td>NaN</td>\n",
       "      <td>NaN</td>\n",
       "    </tr>\n",
       "    <tr>\n",
       "      <td>2012.0</td>\n",
       "      <td>NaN</td>\n",
       "      <td>NaN</td>\n",
       "      <td>51.36</td>\n",
       "      <td>NaN</td>\n",
       "      <td>11.01</td>\n",
       "      <td>NaN</td>\n",
       "      <td>NaN</td>\n",
       "      <td>NaN</td>\n",
       "      <td>NaN</td>\n",
       "      <td>NaN</td>\n",
       "      <td>...</td>\n",
       "      <td>NaN</td>\n",
       "      <td>NaN</td>\n",
       "      <td>NaN</td>\n",
       "      <td>NaN</td>\n",
       "      <td>NaN</td>\n",
       "      <td>21.71</td>\n",
       "      <td>17.56</td>\n",
       "      <td>99.74</td>\n",
       "      <td>NaN</td>\n",
       "      <td>NaN</td>\n",
       "    </tr>\n",
       "    <tr>\n",
       "      <td>2013.0</td>\n",
       "      <td>NaN</td>\n",
       "      <td>NaN</td>\n",
       "      <td>56.57</td>\n",
       "      <td>NaN</td>\n",
       "      <td>1.54</td>\n",
       "      <td>NaN</td>\n",
       "      <td>NaN</td>\n",
       "      <td>NaN</td>\n",
       "      <td>NaN</td>\n",
       "      <td>NaN</td>\n",
       "      <td>...</td>\n",
       "      <td>NaN</td>\n",
       "      <td>NaN</td>\n",
       "      <td>NaN</td>\n",
       "      <td>NaN</td>\n",
       "      <td>NaN</td>\n",
       "      <td>8.59</td>\n",
       "      <td>21.65</td>\n",
       "      <td>88.58</td>\n",
       "      <td>NaN</td>\n",
       "      <td>18.96</td>\n",
       "    </tr>\n",
       "    <tr>\n",
       "      <td>2014.0</td>\n",
       "      <td>NaN</td>\n",
       "      <td>NaN</td>\n",
       "      <td>43.76</td>\n",
       "      <td>NaN</td>\n",
       "      <td>NaN</td>\n",
       "      <td>NaN</td>\n",
       "      <td>NaN</td>\n",
       "      <td>NaN</td>\n",
       "      <td>NaN</td>\n",
       "      <td>NaN</td>\n",
       "      <td>...</td>\n",
       "      <td>NaN</td>\n",
       "      <td>NaN</td>\n",
       "      <td>NaN</td>\n",
       "      <td>NaN</td>\n",
       "      <td>NaN</td>\n",
       "      <td>3.75</td>\n",
       "      <td>22.03</td>\n",
       "      <td>34.74</td>\n",
       "      <td>NaN</td>\n",
       "      <td>54.07</td>\n",
       "    </tr>\n",
       "    <tr>\n",
       "      <td>2015.0</td>\n",
       "      <td>NaN</td>\n",
       "      <td>NaN</td>\n",
       "      <td>27.78</td>\n",
       "      <td>NaN</td>\n",
       "      <td>NaN</td>\n",
       "      <td>NaN</td>\n",
       "      <td>NaN</td>\n",
       "      <td>NaN</td>\n",
       "      <td>NaN</td>\n",
       "      <td>NaN</td>\n",
       "      <td>...</td>\n",
       "      <td>NaN</td>\n",
       "      <td>NaN</td>\n",
       "      <td>NaN</td>\n",
       "      <td>NaN</td>\n",
       "      <td>NaN</td>\n",
       "      <td>1.14</td>\n",
       "      <td>16.35</td>\n",
       "      <td>11.96</td>\n",
       "      <td>NaN</td>\n",
       "      <td>60.14</td>\n",
       "    </tr>\n",
       "    <tr>\n",
       "      <td>2016.0</td>\n",
       "      <td>NaN</td>\n",
       "      <td>NaN</td>\n",
       "      <td>15.14</td>\n",
       "      <td>NaN</td>\n",
       "      <td>NaN</td>\n",
       "      <td>NaN</td>\n",
       "      <td>NaN</td>\n",
       "      <td>NaN</td>\n",
       "      <td>NaN</td>\n",
       "      <td>NaN</td>\n",
       "      <td>...</td>\n",
       "      <td>NaN</td>\n",
       "      <td>NaN</td>\n",
       "      <td>NaN</td>\n",
       "      <td>NaN</td>\n",
       "      <td>NaN</td>\n",
       "      <td>0.18</td>\n",
       "      <td>4.60</td>\n",
       "      <td>1.52</td>\n",
       "      <td>NaN</td>\n",
       "      <td>26.15</td>\n",
       "    </tr>\n",
       "  </tbody>\n",
       "</table>\n",
       "<p>37 rows × 31 columns</p>\n",
       "</div>"
      ],
      "text/plain": [
       "platform          2600   3DO    3DS    DC      DS     GB    GBA     GC    GEN  \\\n",
       "year_of_release                                                                 \n",
       "1980.0           11.38   NaN    NaN   NaN     NaN    NaN    NaN    NaN    NaN   \n",
       "1981.0           35.68   NaN    NaN   NaN     NaN    NaN    NaN    NaN    NaN   \n",
       "1982.0           28.88   NaN    NaN   NaN     NaN    NaN    NaN    NaN    NaN   \n",
       "1983.0            5.84   NaN    NaN   NaN     NaN    NaN    NaN    NaN    NaN   \n",
       "1984.0            0.27   NaN    NaN   NaN     NaN    NaN    NaN    NaN    NaN   \n",
       "1985.0            0.45   NaN    NaN   NaN    0.02    NaN    NaN    NaN    NaN   \n",
       "1986.0            0.67   NaN    NaN   NaN     NaN    NaN    NaN    NaN    NaN   \n",
       "1987.0            1.94   NaN    NaN   NaN     NaN    NaN    NaN    NaN    NaN   \n",
       "1988.0            0.74   NaN    NaN   NaN     NaN   1.43    NaN    NaN    NaN   \n",
       "1989.0            0.63   NaN    NaN   NaN     NaN  64.97    NaN    NaN    NaN   \n",
       "1990.0             NaN   NaN    NaN   NaN     NaN   4.89    NaN    NaN   2.60   \n",
       "1991.0             NaN   NaN    NaN   NaN     NaN   5.57    NaN    NaN   4.33   \n",
       "1992.0             NaN   NaN    NaN   NaN     NaN  25.49    NaN    NaN  12.64   \n",
       "1993.0             NaN   NaN    NaN   NaN     NaN    NaN    NaN    NaN   0.65   \n",
       "1994.0             NaN  0.02    NaN   NaN     NaN  12.18    NaN    NaN   8.13   \n",
       "1995.0             NaN  0.08    NaN   NaN     NaN   3.60    NaN    NaN    NaN   \n",
       "1996.0             NaN   NaN    NaN   NaN     NaN  36.03    NaN    NaN    NaN   \n",
       "1997.0             NaN   NaN    NaN   NaN     NaN   6.37    NaN    NaN    NaN   \n",
       "1998.0             NaN   NaN    NaN  3.38     NaN  26.90    NaN    NaN    NaN   \n",
       "1999.0             NaN   NaN    NaN  5.16     NaN  38.00    NaN    NaN    NaN   \n",
       "2000.0             NaN   NaN    NaN  5.99     NaN  19.76   0.07    NaN    NaN   \n",
       "2001.0             NaN   NaN    NaN  1.07     NaN   9.24  61.53  26.34    NaN   \n",
       "2002.0             NaN   NaN    NaN  0.29     NaN    NaN  74.16  51.81    NaN   \n",
       "2003.0             NaN   NaN    NaN   NaN     NaN    NaN  56.67  50.61    NaN   \n",
       "2004.0             NaN   NaN    NaN   NaN   17.27    NaN  77.91  28.82    NaN   \n",
       "2005.0             NaN   NaN    NaN   NaN  130.14    NaN  33.86  27.62    NaN   \n",
       "2006.0             NaN   NaN    NaN   NaN  119.81    NaN   5.28  11.26    NaN   \n",
       "2007.0             NaN   NaN    NaN  0.02  146.94    NaN   3.40   0.27    NaN   \n",
       "2008.0             NaN   NaN    NaN  0.04  145.31    NaN    NaN    NaN    NaN   \n",
       "2009.0             NaN   NaN    NaN   NaN  119.54    NaN    NaN    NaN    NaN   \n",
       "2010.0             NaN   NaN    NaN   NaN   85.02    NaN    NaN    NaN    NaN   \n",
       "2011.0             NaN   NaN  63.20   NaN   26.18    NaN    NaN    NaN    NaN   \n",
       "2012.0             NaN   NaN  51.36   NaN   11.01    NaN    NaN    NaN    NaN   \n",
       "2013.0             NaN   NaN  56.57   NaN    1.54    NaN    NaN    NaN    NaN   \n",
       "2014.0             NaN   NaN  43.76   NaN     NaN    NaN    NaN    NaN    NaN   \n",
       "2015.0             NaN   NaN  27.78   NaN     NaN    NaN    NaN    NaN    NaN   \n",
       "2016.0             NaN   NaN  15.14   NaN     NaN    NaN    NaN    NaN    NaN   \n",
       "\n",
       "platform           GG  ...    SAT   SCD   SNES  TG16    WS     Wii   WiiU  \\\n",
       "year_of_release        ...                                                  \n",
       "1980.0            NaN  ...    NaN   NaN    NaN   NaN   NaN     NaN    NaN   \n",
       "1981.0            NaN  ...    NaN   NaN    NaN   NaN   NaN     NaN    NaN   \n",
       "1982.0            NaN  ...    NaN   NaN    NaN   NaN   NaN     NaN    NaN   \n",
       "1983.0            NaN  ...    NaN   NaN    NaN   NaN   NaN     NaN    NaN   \n",
       "1984.0            NaN  ...    NaN   NaN    NaN   NaN   NaN     NaN    NaN   \n",
       "1985.0            NaN  ...    NaN   NaN    NaN   NaN   NaN     NaN    NaN   \n",
       "1986.0            NaN  ...    NaN   NaN    NaN   NaN   NaN     NaN    NaN   \n",
       "1987.0            NaN  ...    NaN   NaN    NaN   NaN   NaN     NaN    NaN   \n",
       "1988.0            NaN  ...    NaN   NaN    NaN   NaN   NaN     NaN    NaN   \n",
       "1989.0            NaN  ...    NaN   NaN    NaN   NaN   NaN     NaN    NaN   \n",
       "1990.0            NaN  ...    NaN   NaN  26.15   NaN   NaN     NaN    NaN   \n",
       "1991.0            NaN  ...    NaN   NaN  16.22   NaN   NaN     NaN    NaN   \n",
       "1992.0           0.04  ...    NaN   NaN  32.98   NaN   NaN     NaN    NaN   \n",
       "1993.0            NaN  ...    NaN  1.50  40.02   NaN   NaN     NaN    NaN   \n",
       "1994.0            NaN  ...   3.65  0.36  35.08   NaN   NaN     NaN    NaN   \n",
       "1995.0            NaN  ...  11.57   NaN  32.20  0.16   NaN     NaN    NaN   \n",
       "1996.0            NaN  ...   7.69   NaN  15.92   NaN   NaN     NaN    NaN   \n",
       "1997.0            NaN  ...   6.77   NaN   0.99   NaN   NaN     NaN    NaN   \n",
       "1998.0            NaN  ...   3.82   NaN   0.22   NaN   NaN     NaN    NaN   \n",
       "1999.0            NaN  ...   0.09   NaN   0.26   NaN  0.46     NaN    NaN   \n",
       "2000.0            NaN  ...    NaN   NaN    NaN   NaN  0.68     NaN    NaN   \n",
       "2001.0            NaN  ...    NaN   NaN    NaN   NaN  0.28     NaN    NaN   \n",
       "2002.0            NaN  ...    NaN   NaN    NaN   NaN   NaN     NaN    NaN   \n",
       "2003.0            NaN  ...    NaN   NaN    NaN   NaN   NaN     NaN    NaN   \n",
       "2004.0            NaN  ...    NaN   NaN    NaN   NaN   NaN     NaN    NaN   \n",
       "2005.0            NaN  ...    NaN   NaN    NaN   NaN   NaN     NaN    NaN   \n",
       "2006.0            NaN  ...    NaN   NaN    NaN   NaN   NaN  137.15    NaN   \n",
       "2007.0            NaN  ...    NaN   NaN    NaN   NaN   NaN  152.77    NaN   \n",
       "2008.0            NaN  ...    NaN   NaN    NaN   NaN   NaN  171.32    NaN   \n",
       "2009.0            NaN  ...    NaN   NaN    NaN   NaN   NaN  206.97    NaN   \n",
       "2010.0            NaN  ...    NaN   NaN    NaN   NaN   NaN  127.95    NaN   \n",
       "2011.0            NaN  ...    NaN   NaN    NaN   NaN   NaN   59.65    NaN   \n",
       "2012.0            NaN  ...    NaN   NaN    NaN   NaN   NaN   21.71  17.56   \n",
       "2013.0            NaN  ...    NaN   NaN    NaN   NaN   NaN    8.59  21.65   \n",
       "2014.0            NaN  ...    NaN   NaN    NaN   NaN   NaN    3.75  22.03   \n",
       "2015.0            NaN  ...    NaN   NaN    NaN   NaN   NaN    1.14  16.35   \n",
       "2016.0            NaN  ...    NaN   NaN    NaN   NaN   NaN    0.18   4.60   \n",
       "\n",
       "platform           X360     XB   XOne  \n",
       "year_of_release                        \n",
       "1980.0              NaN    NaN    NaN  \n",
       "1981.0              NaN    NaN    NaN  \n",
       "1982.0              NaN    NaN    NaN  \n",
       "1983.0              NaN    NaN    NaN  \n",
       "1984.0              NaN    NaN    NaN  \n",
       "1985.0              NaN    NaN    NaN  \n",
       "1986.0              NaN    NaN    NaN  \n",
       "1987.0              NaN    NaN    NaN  \n",
       "1988.0              NaN    NaN    NaN  \n",
       "1989.0              NaN    NaN    NaN  \n",
       "1990.0              NaN    NaN    NaN  \n",
       "1991.0              NaN    NaN    NaN  \n",
       "1992.0              NaN    NaN    NaN  \n",
       "1993.0              NaN    NaN    NaN  \n",
       "1994.0              NaN    NaN    NaN  \n",
       "1995.0              NaN    NaN    NaN  \n",
       "1996.0              NaN    NaN    NaN  \n",
       "1997.0              NaN    NaN    NaN  \n",
       "1998.0              NaN    NaN    NaN  \n",
       "1999.0              NaN    NaN    NaN  \n",
       "2000.0              NaN   0.99    NaN  \n",
       "2001.0              NaN  22.26    NaN  \n",
       "2002.0              NaN  48.01    NaN  \n",
       "2003.0              NaN  55.04    NaN  \n",
       "2004.0              NaN  65.42    NaN  \n",
       "2005.0             8.25  49.08    NaN  \n",
       "2006.0            51.62  10.04    NaN  \n",
       "2007.0            95.41   0.55    NaN  \n",
       "2008.0           135.26   0.18    NaN  \n",
       "2009.0           120.29    NaN    NaN  \n",
       "2010.0           170.03    NaN    NaN  \n",
       "2011.0           143.84    NaN    NaN  \n",
       "2012.0            99.74    NaN    NaN  \n",
       "2013.0            88.58    NaN  18.96  \n",
       "2014.0            34.74    NaN  54.07  \n",
       "2015.0            11.96    NaN  60.14  \n",
       "2016.0             1.52    NaN  26.15  \n",
       "\n",
       "[37 rows x 31 columns]"
      ]
     },
     "execution_count": 18,
     "metadata": {},
     "output_type": "execute_result"
    }
   ],
   "source": [
    "data = pd.pivot_table(df, index='year_of_release', \\\n",
    "                       values='total_sales', columns='platform', aggfunc='sum')\n",
    "data"
   ]
  },
  {
   "cell_type": "markdown",
   "metadata": {},
   "source": [
    "Теперь посчитаем как долго жила каждая платформа."
   ]
  },
  {
   "cell_type": "code",
   "execution_count": 19,
   "metadata": {},
   "outputs": [],
   "source": [
    "datasets = data.columns.tolist()\n",
    "set = {}\n",
    "for dataset in datasets:\n",
    "    set[dataset] = len(data) - data[dataset].isnull().sum()"
   ]
  },
  {
   "cell_type": "code",
   "execution_count": 20,
   "metadata": {},
   "outputs": [
    {
     "data": {
      "text/plain": [
       "{'2600': 10,\n",
       " '3DO': 2,\n",
       " '3DS': 6,\n",
       " 'DC': 7,\n",
       " 'DS': 11,\n",
       " 'GB': 13,\n",
       " 'GBA': 8,\n",
       " 'GC': 7,\n",
       " 'GEN': 5,\n",
       " 'GG': 1,\n",
       " 'N64': 7,\n",
       " 'NES': 12,\n",
       " 'NG': 4,\n",
       " 'PC': 26,\n",
       " 'PCFX': 1,\n",
       " 'PS': 10,\n",
       " 'PS2': 12,\n",
       " 'PS3': 11,\n",
       " 'PS4': 4,\n",
       " 'PSP': 12,\n",
       " 'PSV': 6,\n",
       " 'SAT': 6,\n",
       " 'SCD': 2,\n",
       " 'SNES': 10,\n",
       " 'TG16': 1,\n",
       " 'WS': 3,\n",
       " 'Wii': 11,\n",
       " 'WiiU': 5,\n",
       " 'X360': 12,\n",
       " 'XB': 9,\n",
       " 'XOne': 4}"
      ]
     },
     "execution_count": 20,
     "metadata": {},
     "output_type": "execute_result"
    }
   ],
   "source": [
    "set"
   ]
  },
  {
   "cell_type": "markdown",
   "metadata": {},
   "source": [
    "Получаем список, где в качестве ключа выступает название платформы, в качестве значения - срок ее жизни (в годах). \\\n",
    "Построим сводную таблицу по суммарным продажам платформ и отсортируем ее для выявления лидеров продаж."
   ]
  },
  {
   "cell_type": "code",
   "execution_count": 21,
   "metadata": {},
   "outputs": [
    {
     "data": {
      "text/html": [
       "<div>\n",
       "<style scoped>\n",
       "    .dataframe tbody tr th:only-of-type {\n",
       "        vertical-align: middle;\n",
       "    }\n",
       "\n",
       "    .dataframe tbody tr th {\n",
       "        vertical-align: top;\n",
       "    }\n",
       "\n",
       "    .dataframe thead th {\n",
       "        text-align: right;\n",
       "    }\n",
       "</style>\n",
       "<table border=\"1\" class=\"dataframe\">\n",
       "  <thead>\n",
       "    <tr style=\"text-align: right;\">\n",
       "      <th></th>\n",
       "      <th>total_sales</th>\n",
       "    </tr>\n",
       "    <tr>\n",
       "      <th>platform</th>\n",
       "      <th></th>\n",
       "    </tr>\n",
       "  </thead>\n",
       "  <tbody>\n",
       "    <tr>\n",
       "      <td>PS2</td>\n",
       "      <td>1255.77</td>\n",
       "    </tr>\n",
       "    <tr>\n",
       "      <td>X360</td>\n",
       "      <td>971.42</td>\n",
       "    </tr>\n",
       "    <tr>\n",
       "      <td>PS3</td>\n",
       "      <td>939.65</td>\n",
       "    </tr>\n",
       "    <tr>\n",
       "      <td>Wii</td>\n",
       "      <td>907.51</td>\n",
       "    </tr>\n",
       "    <tr>\n",
       "      <td>DS</td>\n",
       "      <td>806.12</td>\n",
       "    </tr>\n",
       "    <tr>\n",
       "      <td>PS</td>\n",
       "      <td>730.86</td>\n",
       "    </tr>\n",
       "    <tr>\n",
       "      <td>GBA</td>\n",
       "      <td>317.85</td>\n",
       "    </tr>\n",
       "    <tr>\n",
       "      <td>PS4</td>\n",
       "      <td>314.14</td>\n",
       "    </tr>\n",
       "    <tr>\n",
       "      <td>PSP</td>\n",
       "      <td>294.05</td>\n",
       "    </tr>\n",
       "    <tr>\n",
       "      <td>PC</td>\n",
       "      <td>259.52</td>\n",
       "    </tr>\n",
       "  </tbody>\n",
       "</table>\n",
       "</div>"
      ],
      "text/plain": [
       "          total_sales\n",
       "platform             \n",
       "PS2           1255.77\n",
       "X360           971.42\n",
       "PS3            939.65\n",
       "Wii            907.51\n",
       "DS             806.12\n",
       "PS             730.86\n",
       "GBA            317.85\n",
       "PS4            314.14\n",
       "PSP            294.05\n",
       "PC             259.52"
      ]
     },
     "execution_count": 21,
     "metadata": {},
     "output_type": "execute_result"
    }
   ],
   "source": [
    "df.pivot_table(index='platform', values='total_sales', aggfunc='sum') \\\n",
    "              .sort_values(by='total_sales', ascending=False).head(10)"
   ]
  },
  {
   "cell_type": "markdown",
   "metadata": {},
   "source": [
    "Явно выделяются первые 6 платформ - разница между 6 и 7 позициями больше почти в два раза. Поэтому рассмотрим первые 6 платформ. Посмотрим на их период жизни."
   ]
  },
  {
   "cell_type": "code",
   "execution_count": 22,
   "metadata": {},
   "outputs": [
    {
     "name": "stdout",
     "output_type": "stream",
     "text": [
      "Срок жизни PS2: 12 лет \n",
      "Срок жизни X360: 12 лет \n",
      "Срок жизни PS3: 11 лет \n",
      "Срок жизни Wii: 11 лет \n",
      "Срок жизни DS: 11 лет \n",
      "Срок жизни PS: 10 лет \n",
      " \r\n"
     ]
    }
   ],
   "source": [
    "print('Срок жизни PS2:', set['PS2'], 'лет \\n \\r' \n",
    "     'Срок жизни X360:', set['X360'], 'лет \\n \\r' \n",
    "     'Срок жизни PS3:', set['PS3'], 'лет \\n \\r'\n",
    "     'Срок жизни Wii:', set['Wii'], 'лет \\n \\r'\n",
    "     'Срок жизни DS:', set['DS'], 'лет \\n \\r'\n",
    "     'Срок жизни PS:', set['PS'], 'лет \\n \\r')"
   ]
  },
  {
   "cell_type": "markdown",
   "metadata": {},
   "source": [
    "Как видим, наиболее успешные в продажах платформы существуют на рынке около 10 лет. \\\n",
    "Посмотрим на платформы, которые находятся в конце этого списка."
   ]
  },
  {
   "cell_type": "code",
   "execution_count": 23,
   "metadata": {},
   "outputs": [
    {
     "data": {
      "text/html": [
       "<div>\n",
       "<style scoped>\n",
       "    .dataframe tbody tr th:only-of-type {\n",
       "        vertical-align: middle;\n",
       "    }\n",
       "\n",
       "    .dataframe tbody tr th {\n",
       "        vertical-align: top;\n",
       "    }\n",
       "\n",
       "    .dataframe thead th {\n",
       "        text-align: right;\n",
       "    }\n",
       "</style>\n",
       "<table border=\"1\" class=\"dataframe\">\n",
       "  <thead>\n",
       "    <tr style=\"text-align: right;\">\n",
       "      <th></th>\n",
       "      <th>total_sales</th>\n",
       "    </tr>\n",
       "    <tr>\n",
       "      <th>platform</th>\n",
       "      <th></th>\n",
       "    </tr>\n",
       "  </thead>\n",
       "  <tbody>\n",
       "    <tr>\n",
       "      <td>PCFX</td>\n",
       "      <td>0.03</td>\n",
       "    </tr>\n",
       "    <tr>\n",
       "      <td>GG</td>\n",
       "      <td>0.04</td>\n",
       "    </tr>\n",
       "    <tr>\n",
       "      <td>3DO</td>\n",
       "      <td>0.10</td>\n",
       "    </tr>\n",
       "    <tr>\n",
       "      <td>TG16</td>\n",
       "      <td>0.16</td>\n",
       "    </tr>\n",
       "    <tr>\n",
       "      <td>WS</td>\n",
       "      <td>1.42</td>\n",
       "    </tr>\n",
       "    <tr>\n",
       "      <td>NG</td>\n",
       "      <td>1.44</td>\n",
       "    </tr>\n",
       "    <tr>\n",
       "      <td>SCD</td>\n",
       "      <td>1.86</td>\n",
       "    </tr>\n",
       "    <tr>\n",
       "      <td>DC</td>\n",
       "      <td>15.95</td>\n",
       "    </tr>\n",
       "    <tr>\n",
       "      <td>GEN</td>\n",
       "      <td>28.35</td>\n",
       "    </tr>\n",
       "    <tr>\n",
       "      <td>SAT</td>\n",
       "      <td>33.59</td>\n",
       "    </tr>\n",
       "  </tbody>\n",
       "</table>\n",
       "</div>"
      ],
      "text/plain": [
       "          total_sales\n",
       "platform             \n",
       "PCFX             0.03\n",
       "GG               0.04\n",
       "3DO              0.10\n",
       "TG16             0.16\n",
       "WS               1.42\n",
       "NG               1.44\n",
       "SCD              1.86\n",
       "DC              15.95\n",
       "GEN             28.35\n",
       "SAT             33.59"
      ]
     },
     "execution_count": 23,
     "metadata": {},
     "output_type": "execute_result"
    }
   ],
   "source": [
    "df.pivot_table(index='platform', values='total_sales', aggfunc='sum') \\\n",
    "              .sort_values(by='total_sales', ascending=True).head(10)"
   ]
  },
  {
   "cell_type": "markdown",
   "metadata": {},
   "source": [
    "Посмотрим на период жизни 4 антитоповых платформ."
   ]
  },
  {
   "cell_type": "code",
   "execution_count": 24,
   "metadata": {},
   "outputs": [
    {
     "name": "stdout",
     "output_type": "stream",
     "text": [
      "Срок жизни PCFX: 1 год \n",
      "Срок жизни GG: 1 год \n",
      "Срок жизни 3DO: 2 года \n",
      "Срок жизни TG16: 1 год \n",
      " \r\n"
     ]
    }
   ],
   "source": [
    "print('Срок жизни PCFX:', set['PCFX'], 'год \\n \\r' \n",
    "     'Срок жизни GG:', set['GG'], 'год \\n \\r' \n",
    "     'Срок жизни 3DO:', set['3DO'], 'года \\n \\r'\n",
    "     'Срок жизни TG16:', set['TG16'], 'год \\n \\r'\n",
    "     )"
   ]
  },
  {
   "cell_type": "markdown",
   "metadata": {},
   "source": [
    "Как видим, срок жизни неуспешных платформ составляет менее трех лет."
   ]
  },
  {
   "cell_type": "markdown",
   "metadata": {},
   "source": [
    "Построим распределение по годам для топовых 6 платформ."
   ]
  },
  {
   "cell_type": "code",
   "execution_count": 25,
   "metadata": {},
   "outputs": [
    {
     "data": {
      "image/png": "[encoded data removed]",
      "text/plain": [
       "<Figure size 1008x216 with 1 Axes>"
      ]
     },
     "metadata": {
      "needs_background": "light"
     },
     "output_type": "display_data"
    },
    {
     "data": {
      "image/png": "[encoded data removed]",
      "text/plain": [
       "<Figure size 1008x216 with 1 Axes>"
      ]
     },
     "metadata": {
      "needs_background": "light"
     },
     "output_type": "display_data"
    },
    {
     "data": {
      "image/png": "[encoded data removed]",
      "text/plain": [
       "<Figure size 1008x216 with 1 Axes>"
      ]
     },
     "metadata": {
      "needs_background": "light"
     },
     "output_type": "display_data"
    },
    {
     "data": {
      "image/png": "[encoded data removed]",
      "text/plain": [
       "<Figure size 1008x216 with 1 Axes>"
      ]
     },
     "metadata": {
      "needs_background": "light"
     },
     "output_type": "display_data"
    },
    {
     "data": {
      "image/png": "[encoded data removed]",
      "text/plain": [
       "<Figure size 1008x216 with 1 Axes>"
      ]
     },
     "metadata": {
      "needs_background": "light"
     },
     "output_type": "display_data"
    },
    {
     "data": {
      "image/png": "[encoded data removed]",
      "text/plain": [
       "<Figure size 1008x216 with 1 Axes>"
      ]
     },
     "metadata": {
      "needs_background": "light"
     },
     "output_type": "display_data"
    }
   ],
   "source": [
    "top = ['PS2', 'X360', 'PS3', 'Wii', 'DS', 'PS']\n",
    "for platform in top:\n",
    "    df_top = df.query('platform == @platform')\n",
    "    df_top['year_of_release'].plot(kind='hist', histtype='step', \\\n",
    "                                   range=(1990, 2016), figsize =(14, 3), linewidth = 3,\n",
    "    bins=25, grid=True, colormap = 'jet')\n",
    "    plt.title(\"Распределение игр для платформы по годам\")\n",
    "    plt.xlabel(\"Год\")\n",
    "    plt.ylabel(\"Частота в выборке\")\n",
    "    plt.legend([platform])\n",
    "    plt.show()"
   ]
  },
  {
   "cell_type": "markdown",
   "metadata": {},
   "source": [
    "Ранее нами уже было отмечено, что имеет смысл рассматривать продажи игр (а также платформы для них) начиная с 1991 г. Построенные распределения продаж топовых игр как раз приходятся на этот период (PS вышла 1995г), через 5 лет в 2000г выходит PS2 (в это время продажи 1-ой модели идут на спад). Примерно в одно и тоже время (2005-2006гг) выходят 4 приставки: X360, PS3, Wii, DS. В это время уже нет PS, PS2 на пике продаж. X360, PS3, Wii и DS уже набирают обороты и достигают своего пика - 2010-2011 гг (DS чуть раньше остальных - в 2008 г), тогда как PS2 уже выходит из игры.\\\n",
    "Опираясь на наблюдаемую картину, можем предположить, что в нашем наборе данных есть некая платформа, чей возраст менее 10 лет, вышедшая примерно в период 2009-2011 гг, которая придет на смену X360, PS3, Wii и наберет обороты в 2017-2018 гг. **Актуальным периодом** будем считать период начиная с 2012 г."
   ]
  },
  {
   "cell_type": "markdown",
   "metadata": {},
   "source": [
    "#### Анализ продаж платформ за актуальный период.<a id=\"act\"></a>"
   ]
  },
  {
   "cell_type": "markdown",
   "metadata": {},
   "source": [
    "Посмотрим, какие платформы лидируют по продажам, растут или падают. Удастся ли нам найти потенциального кандидата на лидера продаж в 2017 г.\\\n",
    "Повторим прошлую манипуляцию. Как уже было отмечено ранее, продажа приставок PS3, X360, Wii, DS после 2010-2011 гг пошли на убыль. Поэтому исключим их из нашего датасета."
   ]
  },
  {
   "cell_type": "code",
   "execution_count": 26,
   "metadata": {},
   "outputs": [],
   "source": [
    "data = df.query('year_of_release >= 2012 and platform != \"PS3\" and platform != \"X360\" \\\n",
    "                and platform != \"Wii\" and platform != \"DS\"')"
   ]
  },
  {
   "cell_type": "code",
   "execution_count": 27,
   "metadata": {},
   "outputs": [
    {
     "data": {
      "text/html": [
       "<div>\n",
       "<style scoped>\n",
       "    .dataframe tbody tr th:only-of-type {\n",
       "        vertical-align: middle;\n",
       "    }\n",
       "\n",
       "    .dataframe tbody tr th {\n",
       "        vertical-align: top;\n",
       "    }\n",
       "\n",
       "    .dataframe thead th {\n",
       "        text-align: right;\n",
       "    }\n",
       "</style>\n",
       "<table border=\"1\" class=\"dataframe\">\n",
       "  <thead>\n",
       "    <tr style=\"text-align: right;\">\n",
       "      <th></th>\n",
       "      <th>total_sales</th>\n",
       "    </tr>\n",
       "    <tr>\n",
       "      <th>platform</th>\n",
       "      <th></th>\n",
       "    </tr>\n",
       "  </thead>\n",
       "  <tbody>\n",
       "    <tr>\n",
       "      <td>PS4</td>\n",
       "      <td>314.14</td>\n",
       "    </tr>\n",
       "    <tr>\n",
       "      <td>3DS</td>\n",
       "      <td>194.61</td>\n",
       "    </tr>\n",
       "    <tr>\n",
       "      <td>XOne</td>\n",
       "      <td>159.32</td>\n",
       "    </tr>\n",
       "    <tr>\n",
       "      <td>WiiU</td>\n",
       "      <td>82.19</td>\n",
       "    </tr>\n",
       "    <tr>\n",
       "      <td>PC</td>\n",
       "      <td>62.65</td>\n",
       "    </tr>\n",
       "    <tr>\n",
       "      <td>PSV</td>\n",
       "      <td>49.18</td>\n",
       "    </tr>\n",
       "    <tr>\n",
       "      <td>PSP</td>\n",
       "      <td>11.19</td>\n",
       "    </tr>\n",
       "  </tbody>\n",
       "</table>\n",
       "</div>"
      ],
      "text/plain": [
       "          total_sales\n",
       "platform             \n",
       "PS4            314.14\n",
       "3DS            194.61\n",
       "XOne           159.32\n",
       "WiiU            82.19\n",
       "PC              62.65\n",
       "PSV             49.18\n",
       "PSP             11.19"
      ]
     },
     "execution_count": 27,
     "metadata": {},
     "output_type": "execute_result"
    }
   ],
   "source": [
    "sort_data = data.pivot_table(index='platform', values='total_sales', aggfunc='sum') \\\n",
    "              .sort_values(by='total_sales', ascending=False)\n",
    "sort_data"
   ]
  },
  {
   "cell_type": "markdown",
   "metadata": {},
   "source": [
    "Построим гистограммы и для данного датасета. "
   ]
  },
  {
   "cell_type": "code",
   "execution_count": 28,
   "metadata": {
    "scrolled": false
   },
   "outputs": [
    {
     "data": {
      "image/png": "[encoded data removed]",
      "text/plain": [
       "<Figure size 1008x216 with 1 Axes>"
      ]
     },
     "metadata": {
      "needs_background": "light"
     },
     "output_type": "display_data"
    },
    {
     "data": {
      "image/png": "[encoded data removed]",
      "text/plain": [
       "<Figure size 1008x216 with 1 Axes>"
      ]
     },
     "metadata": {
      "needs_background": "light"
     },
     "output_type": "display_data"
    },
    {
     "data": {
      "image/png": "[encoded data removed]",
      "text/plain": [
       "<Figure size 1008x216 with 1 Axes>"
      ]
     },
     "metadata": {
      "needs_background": "light"
     },
     "output_type": "display_data"
    },
    {
     "data": {
      "image/png": "[encoded data removed]",
      "text/plain": [
       "<Figure size 1008x216 with 1 Axes>"
      ]
     },
     "metadata": {
      "needs_background": "light"
     },
     "output_type": "display_data"
    },
    {
     "data": {
      "image/png": "[encoded data removed]",
      "text/plain": [
       "<Figure size 1008x216 with 1 Axes>"
      ]
     },
     "metadata": {
      "needs_background": "light"
     },
     "output_type": "display_data"
    },
    {
     "data": {
      "image/png": "[encoded data removed]",
      "text/plain": [
       "<Figure size 1008x216 with 1 Axes>"
      ]
     },
     "metadata": {
      "needs_background": "light"
     },
     "output_type": "display_data"
    },
    {
     "data": {
      "image/png": "[encoded data removed]",
      "text/plain": [
       "<Figure size 1008x216 with 1 Axes>"
      ]
     },
     "metadata": {
      "needs_background": "light"
     },
     "output_type": "display_data"
    }
   ],
   "source": [
    "data_top = ['PS4', '3DS', 'XOne', 'WiiU', 'PC', 'PSV', 'PSP']\n",
    "for platform in data_top:\n",
    "    data_top = data.query('platform == @platform')\n",
    "    data_top['year_of_release'].plot(kind='hist', histtype='step', \\\n",
    "                                   range=(2005, 2016), figsize =(14, 3), linewidth = 3,\n",
    "    bins=10, grid=True, colormap = 'jet')\n",
    "    plt.title(\"Распределение игр для платформы по годам\")\n",
    "    plt.xlabel(\"Год\")\n",
    "    plt.ylabel(\"Частота в выборке\")\n",
    "    plt.legend([platform])\n",
    "    plt.show()"
   ]
  },
  {
   "cell_type": "markdown",
   "metadata": {},
   "source": [
    "Видим, что потенциально лидерами продаж будут игры для приставок PS4, 3DS, XOne, PSV (причем, показатели продаж в 2016 г выше у PS4, нежели у XOne и PSV), возможно PC, в целом, показатели продаж компьютерных игр имеют странное поведение. Не отрицаю популярность на 2017 и приставки WiiU. Все таки у PS4 и XOne более уверенные позиции. Приставка PSP явно не будет пользоваться популярностью после 2016 г. Разработчикам игр стоит обратить на это внимание."
   ]
  },
  {
   "cell_type": "markdown",
   "metadata": {},
   "source": [
    "#### Анализ глобальных продаж игр.<a id=\"glob\"></a>"
   ]
  },
  {
   "cell_type": "markdown",
   "metadata": {},
   "source": [
    "Построим график «ящик с усами» по глобальным продажам игр в разбивке по платформам за актуальный период."
   ]
  },
  {
   "cell_type": "code",
   "execution_count": 29,
   "metadata": {},
   "outputs": [
    {
     "data": {
      "image/png": "[encoded data removed]",
      "text/plain": [
       "<Figure size 1008x720 with 1 Axes>"
      ]
     },
     "metadata": {
      "needs_background": "light"
     },
     "output_type": "display_data"
    }
   ],
   "source": [
    "import warnings\n",
    "warnings.filterwarnings('ignore')\n",
    "data.boxplot(column='total_sales', by='platform', figsize=(14, 10))\n",
    "plt.title('Диаграмма размаха продаж по платформам')\n",
    "plt.ylabel('Суммарные продажи, млн')\n",
    "plt.ylim(0,2.5)\n",
    "plt.xlabel('Платформы')\n",
    "plt.show()"
   ]
  },
  {
   "cell_type": "markdown",
   "metadata": {},
   "source": [
    "Если посмотреть на диаграммы размаха продаж платформ за актуальный период, можно заметить общую для всех платформ тенденцию - длинный \"вверхний ус\". Это значит, что наши данные скошены, значит большое количество продаж больше медианной суммы. Также не обошлось и без выбросов в данных. Причем, самые \"жирные\" хвосты выбросов имеют PC, PSP, PSV, PS4 и 3DS."
   ]
  },
  {
   "cell_type": "markdown",
   "metadata": {},
   "source": [
    "#### Анализ влияния оценок пользователей/критиков на продажи популярной платформы. <a id=\"score\"></a>"
   ]
  },
  {
   "cell_type": "markdown",
   "metadata": {},
   "source": [
    "Посмотрим, как влияют на продажи внутри одной популярной платформы отзывы пользователей и критиков. Возьмем, к примеру, PS4."
   ]
  },
  {
   "cell_type": "code",
   "execution_count": 30,
   "metadata": {},
   "outputs": [],
   "source": [
    "data_PS4 = data.query('platform == \"PS4\"')"
   ]
  },
  {
   "cell_type": "code",
   "execution_count": 31,
   "metadata": {},
   "outputs": [],
   "source": [
    "data_PS4.dropna(subset=['critic_score', 'user_score'], inplace=True)"
   ]
  },
  {
   "cell_type": "code",
   "execution_count": 33,
   "metadata": {},
   "outputs": [
    {
     "data": {
      "image/png": "[encoded data removed]",
      "text/plain": [
       "<Figure size 432x288 with 1 Axes>"
      ]
     },
     "metadata": {
      "needs_background": "light"
     },
     "output_type": "display_data"
    }
   ],
   "source": [
    "data_PS4.pivot_table(index='critic_score', values='total_sales').reset_index() \\\n",
    "    .plot(x='critic_score', y='total_sales', kind='scatter')\n",
    "plt.title('Диаграмма расеяния зависимости продаж от оценок критиков')\n",
    "plt.ylabel('Суммарные продажи PS4, млн копий')\n",
    "plt.xlabel('Оценка критиков')\n",
    "plt.show()"
   ]
  },
  {
   "cell_type": "markdown",
   "metadata": {},
   "source": [
    "В целом, с ростом оценки критиков, наблюдаем рост продажи игр для данной платформы. Однако, нельзя это наблюдение назвать однозначным \\\n",
    "Найдем корреляцию этих двух величин для ясности."
   ]
  },
  {
   "cell_type": "code",
   "execution_count": 34,
   "metadata": {},
   "outputs": [
    {
     "data": {
      "text/plain": [
       "0.40600211593500984"
      ]
     },
     "execution_count": 34,
     "metadata": {},
     "output_type": "execute_result"
    }
   ],
   "source": [
    "data_PS4['critic_score'].corr(data_PS4['total_sales'])"
   ]
  },
  {
   "cell_type": "markdown",
   "metadata": {},
   "source": [
    "Итак, видим, что коэффициент Пирсона примерно 0.4, а значит, связь между суммарными продажами и оценкой критиков слабая. Однозначно рассуждать о влиянии одной величины на другую не стоит.\\\n",
    "Посмотрим на влияние оценок покупателей."
   ]
  },
  {
   "cell_type": "code",
   "execution_count": 35,
   "metadata": {},
   "outputs": [
    {
     "data": {
      "image/png": "[encoded data removed]",
      "text/plain": [
       "<Figure size 432x288 with 1 Axes>"
      ]
     },
     "metadata": {
      "needs_background": "light"
     },
     "output_type": "display_data"
    }
   ],
   "source": [
    "data_PS4.pivot_table(index='user_score', values='total_sales').reset_index() \\\n",
    "    .plot(x='user_score', y='total_sales', kind='scatter')\n",
    "plt.title('Диаграмма расеяния зависимости продаж от оценок покупателей')\n",
    "plt.ylabel('Суммарные продажи PS4, млн копий')\n",
    "plt.xlabel('Оценка покупателей')\n",
    "plt.show()"
   ]
  },
  {
   "cell_type": "markdown",
   "metadata": {},
   "source": [
    "В данном случае, картина еще менее одназначна. Много разбросанных значений, например, максимальные значения по суммарным продажам с оценкой пользователя 4-5 из 10. И наоборот, есть игры для данной платформы с высокими показателями от потребителя и низким суммарным значением продаж.\\\n",
    "Найдем коэффициент Пирсона для этого случая."
   ]
  },
  {
   "cell_type": "code",
   "execution_count": 36,
   "metadata": {},
   "outputs": [
    {
     "data": {
      "text/plain": [
       "-0.01114558522006412"
      ]
     },
     "execution_count": 36,
     "metadata": {},
     "output_type": "execute_result"
    }
   ],
   "source": [
    "data_PS4['user_score'].corr(data_PS4['total_sales'])"
   ]
  },
  {
   "cell_type": "markdown",
   "metadata": {},
   "source": [
    "Как и предполаголось - связи между оценкой пользователей и продажами нет, о чем нам говорит коэф. Пирсона, близкий к нулю.\\\n",
    "Посмотрим на пару других платформ. "
   ]
  },
  {
   "cell_type": "code",
   "execution_count": 37,
   "metadata": {},
   "outputs": [],
   "source": [
    "data_3DS = data.query('platform == \"3DS\"')\n",
    "data_3DS.dropna(subset=['critic_score', 'user_score'], inplace=True)"
   ]
  },
  {
   "cell_type": "code",
   "execution_count": 38,
   "metadata": {},
   "outputs": [
    {
     "data": {
      "image/png": "[encoded data removed]",
      "text/plain": [
       "<Figure size 432x288 with 1 Axes>"
      ]
     },
     "metadata": {
      "needs_background": "light"
     },
     "output_type": "display_data"
    }
   ],
   "source": [
    "data_3DS.pivot_table(index='critic_score', values='total_sales').reset_index() \\\n",
    "    .plot(x='critic_score', y='total_sales', kind='scatter')\n",
    "plt.title('Диаграмма расеяния зависимости продаж от оценок критиков')\n",
    "plt.ylabel('Суммарные продажи 3DS, млн копий')\n",
    "plt.xlabel('Оценка критиков')\n",
    "plt.show()"
   ]
  },
  {
   "cell_type": "code",
   "execution_count": 39,
   "metadata": {},
   "outputs": [
    {
     "data": {
      "text/plain": [
       "0.3208028695360785"
      ]
     },
     "execution_count": 39,
     "metadata": {},
     "output_type": "execute_result"
    }
   ],
   "source": [
    "data_3DS['critic_score'].corr(data_3DS['total_sales'])"
   ]
  },
  {
   "cell_type": "markdown",
   "metadata": {},
   "source": [
    "Аналогичный результат - оценки критиков не имеют особого влияния на продажи игр для платформы 3DS.\\\n",
    "Рассмотрим второй фактор - оценку пользователей."
   ]
  },
  {
   "cell_type": "code",
   "execution_count": 40,
   "metadata": {},
   "outputs": [
    {
     "data": {
      "image/png": "[encoded data removed]",
      "text/plain": [
       "<Figure size 432x288 with 1 Axes>"
      ]
     },
     "metadata": {
      "needs_background": "light"
     },
     "output_type": "display_data"
    }
   ],
   "source": [
    "data_3DS.pivot_table(index='user_score', values='total_sales').reset_index() \\\n",
    "    .plot(x='user_score', y='total_sales', kind='scatter')\n",
    "plt.title('Диаграмма расеяния зависимости продаж от оценок покупателей')\n",
    "plt.ylabel('Суммарные продажи 3DS, млн копий')\n",
    "plt.xlabel('Оценка покупателей')\n",
    "plt.show()"
   ]
  },
  {
   "cell_type": "code",
   "execution_count": 41,
   "metadata": {},
   "outputs": [
    {
     "data": {
      "text/plain": [
       "0.20827238077969662"
      ]
     },
     "execution_count": 41,
     "metadata": {},
     "output_type": "execute_result"
    }
   ],
   "source": [
    "data_3DS['user_score'].corr(data_3DS['total_sales'])"
   ]
  },
  {
   "cell_type": "markdown",
   "metadata": {},
   "source": [
    "Снова похожая картина - влияние оценки пользователей на продажи незначительно, если вообще есть.\\\n",
    "Рассмотрим еще пример. На этот раз возьмем приставку из середины нашего рейтинга самых продаваемых платформ за актуальный период - WiiU."
   ]
  },
  {
   "cell_type": "code",
   "execution_count": 42,
   "metadata": {},
   "outputs": [],
   "source": [
    "data_WiiU = data.query('platform == \"WiiU\"')\n",
    "data_WiiU.dropna(subset=['critic_score', 'user_score'], inplace=True)"
   ]
  },
  {
   "cell_type": "code",
   "execution_count": 43,
   "metadata": {},
   "outputs": [
    {
     "data": {
      "image/png": "[encoded data removed]",
      "text/plain": [
       "<Figure size 432x288 with 1 Axes>"
      ]
     },
     "metadata": {
      "needs_background": "light"
     },
     "output_type": "display_data"
    }
   ],
   "source": [
    "data_WiiU.pivot_table(index='critic_score', values='total_sales').reset_index() \\\n",
    "    .plot(x='critic_score', y='total_sales', kind='scatter')\n",
    "plt.title('Диаграмма расеяния зависимости продаж от оценок критиков')\n",
    "plt.ylabel('Суммарные продажи WiiU, млн копий')\n",
    "plt.xlabel('Оценка критиков')\n",
    "plt.show()"
   ]
  },
  {
   "cell_type": "code",
   "execution_count": 44,
   "metadata": {},
   "outputs": [
    {
     "data": {
      "text/plain": [
       "0.34837976012017485"
      ]
     },
     "execution_count": 44,
     "metadata": {},
     "output_type": "execute_result"
    }
   ],
   "source": [
    "data_WiiU['critic_score'].corr(data_WiiU['total_sales'])"
   ]
  },
  {
   "cell_type": "code",
   "execution_count": 45,
   "metadata": {},
   "outputs": [
    {
     "data": {
      "image/png": "[encoded data removed]",
      "text/plain": [
       "<Figure size 432x288 with 1 Axes>"
      ]
     },
     "metadata": {
      "needs_background": "light"
     },
     "output_type": "display_data"
    }
   ],
   "source": [
    "data_WiiU.pivot_table(index='user_score', values='total_sales').reset_index() \\\n",
    "    .plot(x='user_score', y='total_sales', kind='scatter')\n",
    "plt.title('Диаграмма расеяния зависимости продаж от оценок покупателей')\n",
    "plt.ylabel('Суммарные продажи WiiU, млн копий')\n",
    "plt.xlabel('Оценка покупателей')\n",
    "plt.show()"
   ]
  },
  {
   "cell_type": "code",
   "execution_count": 46,
   "metadata": {},
   "outputs": [
    {
     "data": {
      "text/plain": [
       "0.36667608026328113"
      ]
     },
     "execution_count": 46,
     "metadata": {},
     "output_type": "execute_result"
    }
   ],
   "source": [
    "data_WiiU['user_score'].corr(data_WiiU['total_sales'])"
   ]
  },
  {
   "cell_type": "markdown",
   "metadata": {},
   "source": [
    "Итак, во всех случаях (по трем приставкам и по 2-ум параметрам для каждой - оценке покупателей и оценке критиков) мы видим, что оценка не особо влияет на продажу игр для той или иной платформы."
   ]
  },
  {
   "cell_type": "markdown",
   "metadata": {},
   "source": [
    "#### Распределение игр по жанрам. <a id=\"genre\"></a>"
   ]
  },
  {
   "cell_type": "markdown",
   "metadata": {},
   "source": [
    "Построим сводную таблицу, котая покажет нам как распределены игры по жанрам в актуальный период времени."
   ]
  },
  {
   "cell_type": "code",
   "execution_count": 47,
   "metadata": {},
   "outputs": [
    {
     "data": {
      "text/plain": [
       "genre\n",
       "action          723\n",
       "role-playing    291\n",
       "adventure       239\n",
       "sports          152\n",
       "misc            139\n",
       "shooter         136\n",
       "racing           72\n",
       "platform         64\n",
       "strategy         60\n",
       "fighting         60\n",
       "simulation       58\n",
       "puzzle           22\n",
       "Name: name, dtype: int64"
      ]
     },
     "execution_count": 47,
     "metadata": {},
     "output_type": "execute_result"
    }
   ],
   "source": [
    "data.groupby('genre')['name'].count().sort_values(axis=0, ascending=False)"
   ]
  },
  {
   "cell_type": "markdown",
   "metadata": {},
   "source": [
    "Для сравнения, выведем такую же сводную таблицу, но за оставшийся период, представленный в датасете изначально."
   ]
  },
  {
   "cell_type": "code",
   "execution_count": 48,
   "metadata": {},
   "outputs": [
    {
     "data": {
      "text/plain": [
       "genre\n",
       "sports          1548\n",
       "action          1540\n",
       "misc             939\n",
       "racing           905\n",
       "role-playing     810\n",
       "shooter          796\n",
       "platform         696\n",
       "adventure        590\n",
       "fighting         585\n",
       "simulation       517\n",
       "strategy         439\n",
       "puzzle           376\n",
       "Name: name, dtype: int64"
      ]
     },
     "execution_count": 48,
     "metadata": {},
     "output_type": "execute_result"
    }
   ],
   "source": [
    "df.query('year_of_release < 2009').groupby('genre')['name'].count() \\\n",
    "    .sort_values(axis=0, ascending=False)"
   ]
  },
  {
   "cell_type": "markdown",
   "metadata": {},
   "source": [
    "Итак, видим, что до 2009 г. больше всего игр было в следующих жанрах (топ-5): sports, action, misc, racing, role-playing. В 2009 г и далее рейтинг популярных жанров выглядит следующим образом: action, adventure, role-playing, sports, misc. Любопытно, что спортивные игры так уступили, а в актуальном периоде появился приключенческий жанр."
   ]
  },
  {
   "cell_type": "markdown",
   "metadata": {},
   "source": [
    "Теперь построим сводник по продажам жанров. Посмотрим, какой жанр продается лучше всего."
   ]
  },
  {
   "cell_type": "code",
   "execution_count": 49,
   "metadata": {},
   "outputs": [
    {
     "data": {
      "text/html": [
       "<div>\n",
       "<style scoped>\n",
       "    .dataframe tbody tr th:only-of-type {\n",
       "        vertical-align: middle;\n",
       "    }\n",
       "\n",
       "    .dataframe tbody tr th {\n",
       "        vertical-align: top;\n",
       "    }\n",
       "\n",
       "    .dataframe thead th {\n",
       "        text-align: right;\n",
       "    }\n",
       "</style>\n",
       "<table border=\"1\" class=\"dataframe\">\n",
       "  <thead>\n",
       "    <tr style=\"text-align: right;\">\n",
       "      <th></th>\n",
       "      <th>total_sales</th>\n",
       "    </tr>\n",
       "    <tr>\n",
       "      <th>genre</th>\n",
       "      <th></th>\n",
       "    </tr>\n",
       "  </thead>\n",
       "  <tbody>\n",
       "    <tr>\n",
       "      <td>action</td>\n",
       "      <td>231.20</td>\n",
       "    </tr>\n",
       "    <tr>\n",
       "      <td>shooter</td>\n",
       "      <td>171.64</td>\n",
       "    </tr>\n",
       "    <tr>\n",
       "      <td>role-playing</td>\n",
       "      <td>150.24</td>\n",
       "    </tr>\n",
       "    <tr>\n",
       "      <td>sports</td>\n",
       "      <td>97.62</td>\n",
       "    </tr>\n",
       "    <tr>\n",
       "      <td>platform</td>\n",
       "      <td>51.66</td>\n",
       "    </tr>\n",
       "    <tr>\n",
       "      <td>misc</td>\n",
       "      <td>42.99</td>\n",
       "    </tr>\n",
       "    <tr>\n",
       "      <td>racing</td>\n",
       "      <td>33.52</td>\n",
       "    </tr>\n",
       "    <tr>\n",
       "      <td>simulation</td>\n",
       "      <td>31.38</td>\n",
       "    </tr>\n",
       "    <tr>\n",
       "      <td>fighting</td>\n",
       "      <td>28.52</td>\n",
       "    </tr>\n",
       "    <tr>\n",
       "      <td>adventure</td>\n",
       "      <td>19.82</td>\n",
       "    </tr>\n",
       "    <tr>\n",
       "      <td>strategy</td>\n",
       "      <td>10.60</td>\n",
       "    </tr>\n",
       "    <tr>\n",
       "      <td>puzzle</td>\n",
       "      <td>4.09</td>\n",
       "    </tr>\n",
       "  </tbody>\n",
       "</table>\n",
       "</div>"
      ],
      "text/plain": [
       "              total_sales\n",
       "genre                    \n",
       "action             231.20\n",
       "shooter            171.64\n",
       "role-playing       150.24\n",
       "sports              97.62\n",
       "platform            51.66\n",
       "misc                42.99\n",
       "racing              33.52\n",
       "simulation          31.38\n",
       "fighting            28.52\n",
       "adventure           19.82\n",
       "strategy            10.60\n",
       "puzzle               4.09"
      ]
     },
     "execution_count": 49,
     "metadata": {},
     "output_type": "execute_result"
    }
   ],
   "source": [
    "data.pivot_table(index='genre', values='total_sales', aggfunc='sum') \\\n",
    "        .sort_values(by='total_sales', ascending=False)"
   ]
  },
  {
   "cell_type": "markdown",
   "metadata": {},
   "source": [
    "Пятерка лидеров продаж по жанрам выглядит следующим образом: action, role-playing, shooter, sports, platform. Жанр action и продается лучше других, и популярнее остальных, так сказать, безусловный лидер. Примечательно, что игр жанра shooter меньше почти в два раза, чем игр жанра adventure (см. первый рейтинг), однако продажи у жанра shooter в разы выше.\\\n",
    "Значения продаж топ-3 и нижних 3 рейтинга различаются на порядок.\\\n",
    "Может, жанр action продается так хорошо за счет своего кол-ва или же за счет топовых игр? Проверим этот момент."
   ]
  },
  {
   "cell_type": "code",
   "execution_count": 50,
   "metadata": {},
   "outputs": [
    {
     "data": {
      "text/html": [
       "<div>\n",
       "<style scoped>\n",
       "    .dataframe tbody tr th:only-of-type {\n",
       "        vertical-align: middle;\n",
       "    }\n",
       "\n",
       "    .dataframe tbody tr th {\n",
       "        vertical-align: top;\n",
       "    }\n",
       "\n",
       "    .dataframe thead th {\n",
       "        text-align: right;\n",
       "    }\n",
       "</style>\n",
       "<table border=\"1\" class=\"dataframe\">\n",
       "  <thead>\n",
       "    <tr style=\"text-align: right;\">\n",
       "      <th></th>\n",
       "      <th>total_sales</th>\n",
       "    </tr>\n",
       "    <tr>\n",
       "      <th>genre</th>\n",
       "      <th></th>\n",
       "    </tr>\n",
       "  </thead>\n",
       "  <tbody>\n",
       "    <tr>\n",
       "      <td>shooter</td>\n",
       "      <td>0.465</td>\n",
       "    </tr>\n",
       "    <tr>\n",
       "      <td>platform</td>\n",
       "      <td>0.225</td>\n",
       "    </tr>\n",
       "    <tr>\n",
       "      <td>sports</td>\n",
       "      <td>0.200</td>\n",
       "    </tr>\n",
       "    <tr>\n",
       "      <td>role-playing</td>\n",
       "      <td>0.120</td>\n",
       "    </tr>\n",
       "    <tr>\n",
       "      <td>fighting</td>\n",
       "      <td>0.120</td>\n",
       "    </tr>\n",
       "    <tr>\n",
       "      <td>simulation</td>\n",
       "      <td>0.110</td>\n",
       "    </tr>\n",
       "    <tr>\n",
       "      <td>racing</td>\n",
       "      <td>0.110</td>\n",
       "    </tr>\n",
       "    <tr>\n",
       "      <td>misc</td>\n",
       "      <td>0.100</td>\n",
       "    </tr>\n",
       "    <tr>\n",
       "      <td>action</td>\n",
       "      <td>0.090</td>\n",
       "    </tr>\n",
       "    <tr>\n",
       "      <td>strategy</td>\n",
       "      <td>0.065</td>\n",
       "    </tr>\n",
       "    <tr>\n",
       "      <td>puzzle</td>\n",
       "      <td>0.055</td>\n",
       "    </tr>\n",
       "    <tr>\n",
       "      <td>adventure</td>\n",
       "      <td>0.030</td>\n",
       "    </tr>\n",
       "  </tbody>\n",
       "</table>\n",
       "</div>"
      ],
      "text/plain": [
       "              total_sales\n",
       "genre                    \n",
       "shooter             0.465\n",
       "platform            0.225\n",
       "sports              0.200\n",
       "role-playing        0.120\n",
       "fighting            0.120\n",
       "simulation          0.110\n",
       "racing              0.110\n",
       "misc                0.100\n",
       "action              0.090\n",
       "strategy            0.065\n",
       "puzzle              0.055\n",
       "adventure           0.030"
      ]
     },
     "execution_count": 50,
     "metadata": {},
     "output_type": "execute_result"
    }
   ],
   "source": [
    "data.pivot_table(index='genre', values='total_sales', aggfunc='median') \\\n",
    "        .sort_values(by='total_sales', ascending=False)"
   ]
  },
  {
   "cell_type": "markdown",
   "metadata": {},
   "source": [
    "Действительно, action далеко не на первом месте по медианному значению. Лидер в данном случае шутеры.\\\n",
    "Посмотрим на кол-во игр каждого жанра.\n"
   ]
  },
  {
   "cell_type": "code",
   "execution_count": 51,
   "metadata": {},
   "outputs": [
    {
     "data": {
      "text/html": [
       "<div>\n",
       "<style scoped>\n",
       "    .dataframe tbody tr th:only-of-type {\n",
       "        vertical-align: middle;\n",
       "    }\n",
       "\n",
       "    .dataframe tbody tr th {\n",
       "        vertical-align: top;\n",
       "    }\n",
       "\n",
       "    .dataframe thead th {\n",
       "        text-align: right;\n",
       "    }\n",
       "</style>\n",
       "<table border=\"1\" class=\"dataframe\">\n",
       "  <thead>\n",
       "    <tr style=\"text-align: right;\">\n",
       "      <th></th>\n",
       "      <th>total_sales</th>\n",
       "    </tr>\n",
       "    <tr>\n",
       "      <th>genre</th>\n",
       "      <th></th>\n",
       "    </tr>\n",
       "  </thead>\n",
       "  <tbody>\n",
       "    <tr>\n",
       "      <td>action</td>\n",
       "      <td>723</td>\n",
       "    </tr>\n",
       "    <tr>\n",
       "      <td>role-playing</td>\n",
       "      <td>291</td>\n",
       "    </tr>\n",
       "    <tr>\n",
       "      <td>adventure</td>\n",
       "      <td>239</td>\n",
       "    </tr>\n",
       "    <tr>\n",
       "      <td>sports</td>\n",
       "      <td>152</td>\n",
       "    </tr>\n",
       "    <tr>\n",
       "      <td>misc</td>\n",
       "      <td>139</td>\n",
       "    </tr>\n",
       "    <tr>\n",
       "      <td>shooter</td>\n",
       "      <td>136</td>\n",
       "    </tr>\n",
       "    <tr>\n",
       "      <td>racing</td>\n",
       "      <td>72</td>\n",
       "    </tr>\n",
       "    <tr>\n",
       "      <td>platform</td>\n",
       "      <td>64</td>\n",
       "    </tr>\n",
       "    <tr>\n",
       "      <td>fighting</td>\n",
       "      <td>60</td>\n",
       "    </tr>\n",
       "    <tr>\n",
       "      <td>strategy</td>\n",
       "      <td>60</td>\n",
       "    </tr>\n",
       "    <tr>\n",
       "      <td>simulation</td>\n",
       "      <td>58</td>\n",
       "    </tr>\n",
       "    <tr>\n",
       "      <td>puzzle</td>\n",
       "      <td>22</td>\n",
       "    </tr>\n",
       "  </tbody>\n",
       "</table>\n",
       "</div>"
      ],
      "text/plain": [
       "              total_sales\n",
       "genre                    \n",
       "action                723\n",
       "role-playing          291\n",
       "adventure             239\n",
       "sports                152\n",
       "misc                  139\n",
       "shooter               136\n",
       "racing                 72\n",
       "platform               64\n",
       "fighting               60\n",
       "strategy               60\n",
       "simulation             58\n",
       "puzzle                 22"
      ]
     },
     "execution_count": 51,
     "metadata": {},
     "output_type": "execute_result"
    }
   ],
   "source": [
    "data.pivot_table(index='genre', values='total_sales', aggfunc='count') \\\n",
    "        .sort_values(by='total_sales', ascending=False)"
   ]
  },
  {
   "cell_type": "markdown",
   "metadata": {},
   "source": [
    "Видим, что shooter меньше. Но в пересчете на единицу игры продаж у них больше. То есть это более интересный жанр для покупателей. Скорее всего высокие показатели продаж жанра action обусловлены большим кол-вом игр, в т.ч. бестселлеров."
   ]
  },
  {
   "cell_type": "markdown",
   "metadata": {},
   "source": [
    "### Портрет регионов.<a id=\"reg\"></a>"
   ]
  },
  {
   "cell_type": "markdown",
   "metadata": {},
   "source": [
    "Рассмотрим теперь показатели продаж по регионам и посмотрим есть ли различия, если есть, то насколько они сильны."
   ]
  },
  {
   "cell_type": "markdown",
   "metadata": {},
   "source": [
    "#### Портрет регионов - популярные платформы.<a id=\"reg_platform\"></a>"
   ]
  },
  {
   "cell_type": "code",
   "execution_count": 52,
   "metadata": {},
   "outputs": [
    {
     "name": "stdout",
     "output_type": "stream",
     "text": [
      "  platform na_sales                  \n",
      "              count     sum      mean\n",
      "2      PS4      392  108.74  0.277398\n",
      "6     XOne      247   93.12  0.377004\n",
      "0      3DS      396   55.31  0.139672\n",
      "5     WiiU      147   38.10  0.259184\n",
      "1       PC      250   19.12  0.076480\n",
      "  platform eu_sales                  \n",
      "              count     sum      mean\n",
      "2      PS4      392  141.09  0.359923\n",
      "6     XOne      247   51.59  0.208866\n",
      "0      3DS      396   42.64  0.107677\n",
      "1       PC      250   37.76  0.151040\n",
      "5     WiiU      147   25.13  0.170952\n",
      "  platform jp_sales                 \n",
      "              count    sum      mean\n",
      "0      3DS      396  87.79  0.221692\n",
      "4      PSV      411  21.04  0.051192\n",
      "2      PS4      392  15.96  0.040714\n",
      "5     WiiU      147  13.01  0.088503\n",
      "3      PSP      173  10.47  0.060520\n"
     ]
    }
   ],
   "source": [
    "metric_set = ['na_sales', 'eu_sales', 'jp_sales']\n",
    "for element in metric_set:\n",
    "    result = data.groupby('platform').agg({element:['count', 'sum', 'mean']}).reset_index()\\\n",
    "    .sort_values(by=(element, 'sum'), ascending=False).head()\n",
    "    print(result)"
   ]
  },
  {
   "cell_type": "markdown",
   "metadata": {},
   "source": [
    "Итак, разложили по регионам продажи платформ и выделили из них топ-5. В таблице представлены суммы продаж по соответствующим платформам, а так же доля продаж от общей суммы продаж платформ в данном регионе.\\\n",
    "Что же видим: одна из платформ - PS4, которая, как предполагается, будет на волне продаж в 2017, в Европе и Северной Америке находится на 1-месте и доля ее продаж составляет около трети от всех продаж в каждом регионе. В Японии (интересно, кстати, почему в отличие от остальных регионов, тут рассматривается одна страна, а не регион Азия в целом) PS4 находится лишь на 3-м месте, а доля продаж незначительна (0.04).\\\n",
    "Вторая приставка, которая, предположительно, будет в топе продаж - XOne - вообще не попала в топ-продаваемых платформ в Японии, в Северной Америке данная платформа находится на втором месте рейтинга, доля продаж составляет чуть меньше 0.4, что как мне кажется, является достаточно хорошим показателем. В Европе XOne занимает также 2-е место рейтинга с долей продаж 0.2.\\\n",
    "Более уверенно себя чувствует платформа 3DS - она имеется в рейтинге всех регионов. В Америке она на 3-ем месте с долей продаж 0.14. В Европе она также на 3-м месте, доля - 0.11. В Японии 3DS лидер рейтинга продаж с долей 0.22.\\\n",
    "Неожиданно, но PSV имеется среди топ-5 продаваемых приставок только в рейтинге Японии с долей продаж 0.05. Думаю, что не надо рассчитывать на взлет продаж этой приставки в 2017г.\\\n",
    "Компьютерные игры (PC) есть в топе в Америке (5-е место, доля 0.07) и Европе (4-е место, доля 0,15), в Японии - нет, поскольку на рынке игр в Японии все таки больше делается упор на приставки, а не на компьютерные игры - так уж повелось. Не самая уверенна позиция.\\\n",
    "И, наконец, WiiU - приставка с неоднозначным показателем продаж с 2009 по 2016. Почти стабильно на 4-м месте нашего рейтинга продаж по регионам (только в Европе на 5-ом). Доля в Северной Америке составляет 0.26, в Европе - 0.17, Японии - 0.09. \\\n",
    "Примечательно также то, что в рейтинге Японии среди самых продаваемых приставок фигурирует PSP, которая не входит в число претендентов на популярность в 2017!\\\n",
    "Из первоначального пула перспективных приставок PS4, XOne, 3DS, PCV, PC и WiiU, где первые 2 приставки - явные лидеры, последние 2 - сомнительные, после рассмотрения сводников продаж по регионам, я бы оставила в этом перечне PS4, XOne, 3DS и WiiU."
   ]
  },
  {
   "cell_type": "markdown",
   "metadata": {},
   "source": [
    "####  Портрет регионов - популярные жанры.<a id=\"reg_genre\"></a>"
   ]
  },
  {
   "cell_type": "markdown",
   "metadata": {},
   "source": [
    "Посмотрим теперь как распределены жанры по регионам."
   ]
  },
  {
   "cell_type": "code",
   "execution_count": 53,
   "metadata": {},
   "outputs": [
    {
     "name": "stdout",
     "output_type": "stream",
     "text": [
      "           genre na_sales                 \n",
      "                    count    sum      mean\n",
      "0         action      723  85.45  0.118188\n",
      "8        shooter      136  77.76  0.571765\n",
      "7   role-playing      291  46.92  0.161237\n",
      "10        sports      152  38.79  0.255197\n",
      "4       platform       64  20.82  0.325312\n",
      "           genre eu_sales                 \n",
      "                    count    sum      mean\n",
      "0         action      723  83.20  0.115076\n",
      "8        shooter      136  67.62  0.497206\n",
      "10        sports      152  41.32  0.271842\n",
      "7   role-playing      291  38.48  0.132234\n",
      "4       platform       64  17.81  0.278281\n",
      "          genre jp_sales                 \n",
      "                   count    sum      mean\n",
      "7  role-playing      291  53.87  0.185120\n",
      "0        action      723  37.68  0.052116\n",
      "3          misc      139  10.94  0.078705\n",
      "9    simulation       58   9.67  0.166724\n",
      "4      platform       64   8.55  0.133594\n"
     ]
    }
   ],
   "source": [
    "for element in metric_set:\n",
    "    result = data.groupby('genre').agg({element:['count', 'sum', 'mean']}).reset_index()\\\n",
    "    .sort_values(by=(element, 'sum'), ascending=False).head()\n",
    "    print(result)"
   ]
  },
  {
   "cell_type": "markdown",
   "metadata": {},
   "source": [
    "В Северной Америке и Европе очень похожий рейтинг продаж: первые две строки занимают такие жанры как action и shooter (доли продаж очень близки по значению), 3-е и 4-е места в Америке (и наоборот, в Европе) занимают role-playing и sports. И  последние места вновь повторяются.\\\n",
    "Что касается Японии, региона, отдаленного от первых 2-ух (в чем, как я полагаю, и кроется такое отличие), то здесь такой жанр как shooter не пользуется популярностью, самый же популярный - role-playing (с наибольшей долей продаж), предположительно это связано с тем, что большинство японцев одиноки, т.к. большинство из них (кому по карману такие развлечения) проводят основную часть времени на работе и в дороге на работу (отсюда, кстати, непопулярность компьютерных игр, ведь удобнее в дороге играть на приставке). Также в рейтинге Японии, в отличие от предыдущих регионов, есть жанры misc и simulation (предполагаю наличие этого жанра по той же причине, что и role-playing) - они занимают средние позиции рейтинга. Также как и в Европе platform на последнем месте. Наличие жанра action (пусть и не на первом месте) подтверждает тот факт, что action является самым популярным жанром вреди остальных."
   ]
  },
  {
   "cell_type": "markdown",
   "metadata": {},
   "source": [
    "#### Портрет регионов - влияние рейтингов.<a id=\"reg_rating\"></a>"
   ]
  },
  {
   "cell_type": "markdown",
   "metadata": {},
   "source": [
    "Посмотрим, какие вообще значения в столбце рейтинга у нас есть."
   ]
  },
  {
   "cell_type": "code",
   "execution_count": 54,
   "metadata": {},
   "outputs": [
    {
     "data": {
      "text/plain": [
       "array([nan, 'M', 'E', 'T', 'E10+'], dtype=object)"
      ]
     },
     "execution_count": 54,
     "metadata": {},
     "output_type": "execute_result"
    }
   ],
   "source": [
    "data['rating'].unique()"
   ]
  },
  {
   "cell_type": "markdown",
   "metadata": {},
   "source": [
    "Заменим nan на N/I - no information"
   ]
  },
  {
   "cell_type": "code",
   "execution_count": 55,
   "metadata": {},
   "outputs": [],
   "source": [
    "data['rating'] = data['rating'].fillna('N/I')"
   ]
  },
  {
   "cell_type": "markdown",
   "metadata": {},
   "source": [
    "Посмотрим, влияет ли рейтинг ESRB на продажи."
   ]
  },
  {
   "cell_type": "code",
   "execution_count": 56,
   "metadata": {},
   "outputs": [
    {
     "name": "stdout",
     "output_type": "stream",
     "text": [
      "  rating na_sales                  \n",
      "            count     sum      mean\n",
      "2      M      293  106.53  0.363584\n",
      "3    N/I      998   73.03  0.073176\n",
      "0      E      249   65.95  0.264859\n",
      "1   E10+      206   40.02  0.194272\n",
      "4      T      270   39.97  0.148037\n",
      "  rating eu_sales                  \n",
      "            count     sum      mean\n",
      "2      M      293  103.98  0.354881\n",
      "0      E      249   70.34  0.282490\n",
      "3    N/I      998   68.71  0.068848\n",
      "4      T      270   36.35  0.134630\n",
      "1   E10+      206   30.61  0.148592\n",
      "  rating jp_sales                 \n",
      "            count    sum      mean\n",
      "3    N/I      998  91.87  0.092054\n",
      "0      E      249  24.33  0.097711\n",
      "4      T      270  15.63  0.057889\n",
      "2      M      293   9.15  0.031229\n",
      "1   E10+      206   7.63  0.037039\n"
     ]
    }
   ],
   "source": [
    "for element in metric_set:\n",
    "    result = data.groupby('rating').agg({element:['count', 'sum', 'mean']}).reset_index()\\\n",
    "    .sort_values(by=(element, 'sum'), ascending=False).head()\n",
    "    print(result)"
   ]
  },
  {
   "cell_type": "markdown",
   "metadata": {},
   "source": [
    "Наблюдаем следующую картину: очень схожее распределение продаж по рейтингу в Европе и Америке.\\\n",
    "Если в Европе и Америке предпочитают игры жанра для взрослых (М), то японцы - игры, с неопределенным рейтингом жанра. Скорее всего, это связано с тем, что ESRB работает на территории Северной Америки, поэтому у игр, популярных в Японии, нет рейтинга в данной организации."
   ]
  },
  {
   "cell_type": "markdown",
   "metadata": {},
   "source": [
    "Итак, в этой части работы мы рассмотрели как в регионах распределены продажи игр в зависимости от типа приставки, жанра игры и ее рейтинга. Это, во-первых, помогло нам отсечь приставки, которые на первый взгляд показались перспективными, а, во-вторых, информация по предпочитаниям потребителей в области жанра игры и ее рейтинга ESRB позволит оптимизировать продажи."
   ]
  },
  {
   "cell_type": "markdown",
   "metadata": {},
   "source": [
    "### Проверка гипотез.<a id=\"hipo\"></a>"
   ]
  },
  {
   "cell_type": "markdown",
   "metadata": {},
   "source": [
    "Проверим 2 гипотезы:\n",
    "1. Средние пользовательские рейтинги платформ Xbox One и PC одинаковые;\n",
    "2. Средние пользовательские рейтинги жанров Action и Sports разные."
   ]
  },
  {
   "cell_type": "markdown",
   "metadata": {},
   "source": [
    "#### Проверка гипотезы №1.<a id=\"hipo1\"></a>"
   ]
  },
  {
   "cell_type": "markdown",
   "metadata": {},
   "source": [
    "Н0 в первом случае будет звучать так: \"Средние пользовательские рейтинги платформ Xbox One и PC одинаковые\"\\\n",
    "Н1: \"Средние пользовательские рейтинги платформ Xbox One и PC различаются\"\\\n",
    "Сформируем 2 выборки: для XOne и PC, а затем сравним их дисперсии."
   ]
  },
  {
   "cell_type": "code",
   "execution_count": 57,
   "metadata": {},
   "outputs": [],
   "source": [
    "data_XOne = data.query('platform == \"XOne\"')\n",
    "data_XOne.dropna(subset=['user_score'], inplace=True)"
   ]
  },
  {
   "cell_type": "code",
   "execution_count": 58,
   "metadata": {},
   "outputs": [],
   "source": [
    "data_PC = data.query('platform == \"PC\"')\n",
    "data_PC.dropna(subset=['user_score'], inplace=True)"
   ]
  },
  {
   "cell_type": "markdown",
   "metadata": {},
   "source": [
    "Используем тест Левена, для для сравнения дисперсий двух выборок и определить параметр equal_var"
   ]
  },
  {
   "cell_type": "code",
   "execution_count": 59,
   "metadata": {},
   "outputs": [
    {
     "data": {
      "text/plain": [
       "0.6530507393464522"
      ]
     },
     "execution_count": 59,
     "metadata": {},
     "output_type": "execute_result"
    }
   ],
   "source": [
    "from scipy.stats import levene\n",
    "stat, p = levene(data_PC['user_score'], data_XOne['user_score'])\n",
    "p"
   ]
  },
  {
   "cell_type": "markdown",
   "metadata": {},
   "source": [
    "Подобное значение параметра p означает, что дисперсии двух выборок примерно одинаковы, поэтому параметр equal_var = True."
   ]
  },
  {
   "cell_type": "code",
   "execution_count": 60,
   "metadata": {},
   "outputs": [
    {
     "name": "stdout",
     "output_type": "stream",
     "text": [
      "p-значение:  0.5187355060176102\n"
     ]
    }
   ],
   "source": [
    "alpha = 0.05\n",
    "results = st.ttest_ind(data_XOne['user_score'], data_PC['user_score'], equal_var = True)\n",
    "print('p-значение: ', results.pvalue)"
   ]
  },
  {
   "cell_type": "code",
   "execution_count": 61,
   "metadata": {},
   "outputs": [
    {
     "name": "stdout",
     "output_type": "stream",
     "text": [
      "Не получилось отвергнуть нулевую гипотезу\n"
     ]
    }
   ],
   "source": [
    "if results.pvalue < alpha:\n",
    "    print(\"Отвергаем нулевую гипотезу\")\n",
    "else:\n",
    "    print(\"Не получилось отвергнуть нулевую гипотезу\")"
   ]
  },
  {
   "cell_type": "markdown",
   "metadata": {},
   "source": [
    "Итак, выходит, что средние пользовательские рейтинги платформ Xbox One и PC близки по значению."
   ]
  },
  {
   "cell_type": "markdown",
   "metadata": {},
   "source": [
    "#### Проверка гипотезы №2. <a id=\"hipo2\"></a>"
   ]
  },
  {
   "cell_type": "markdown",
   "metadata": {},
   "source": [
    "Итак, за Н0 примем утверждение \"Средние пользовательские рейтинги жанров Action и Sports одинаковы\", соответственно, Н1 будет звучать так: \"Средние пользовательские рейтинги жанров Action и Sports разные\".\\\n",
    "Проверим получится ли отвергнуть нулевую гипотезу в этот раз. Но сначала сформируем выборки."
   ]
  },
  {
   "cell_type": "code",
   "execution_count": 62,
   "metadata": {},
   "outputs": [],
   "source": [
    "data_action = data.query('genre == \"action\"')\n",
    "data_action.dropna(subset=['user_score'], inplace=True)"
   ]
  },
  {
   "cell_type": "code",
   "execution_count": 63,
   "metadata": {},
   "outputs": [],
   "source": [
    "data_sports = data.query('genre == \"sports\"')\n",
    "data_sports.dropna(subset=['user_score'], inplace=True)"
   ]
  },
  {
   "cell_type": "markdown",
   "metadata": {},
   "source": [
    "Проведем тест Левена."
   ]
  },
  {
   "cell_type": "code",
   "execution_count": 64,
   "metadata": {},
   "outputs": [
    {
     "data": {
      "text/plain": [
       "0.9296715888841285"
      ]
     },
     "execution_count": 64,
     "metadata": {},
     "output_type": "execute_result"
    }
   ],
   "source": [
    "stat, p = levene(data_action['user_score'], data_sports['user_score'])\n",
    "p"
   ]
  },
  {
   "cell_type": "markdown",
   "metadata": {},
   "source": [
    "При таком значении p, equal_var = True."
   ]
  },
  {
   "cell_type": "code",
   "execution_count": 65,
   "metadata": {},
   "outputs": [
    {
     "name": "stdout",
     "output_type": "stream",
     "text": [
      "p-значение:  1.7808504576773484e-05\n",
      "Отвергаем нулевую гипотезу\n"
     ]
    }
   ],
   "source": [
    "alpha = 0.05\n",
    "results = st.ttest_ind(data_action['user_score'], data_sports['user_score'], equal_var = True)\n",
    "print('p-значение: ', results.pvalue)\n",
    "if results.pvalue < alpha:\n",
    "    print(\"Отвергаем нулевую гипотезу\")\n",
    "else:\n",
    "    print(\"Не получилось отвергнуть нулевую гипотезу\")"
   ]
  },
  {
   "cell_type": "markdown",
   "metadata": {},
   "source": [
    "Итак, в этот раз мы отвергаем Н0, а значит - средние пользовательские рейтинги жанров Action и Sports отличаюся."
   ]
  },
  {
   "cell_type": "markdown",
   "metadata": {},
   "source": [
    "### Выводы.<a id=\"conc\"></a>"
   ]
  },
  {
   "cell_type": "markdown",
   "metadata": {},
   "source": [
    "В данной работе рассмотрен большой объем данных по играм, выпущенным с 1980 г по 2016 г, включая информацию о названии, платформы, жанра, продажи в различных регионах, оценке критиков и пользователей и присвоенному рейтингу.\\\n",
    "Проанализирован период жизни платфоры, которая успешно продавалась на рынке - этот срок составляет  примерно 10 лет. Т.е., чтобы иметь хорошие показатели продаж и быть в топе рейтинга по продажам, платформа должна существовать чуть более 10 лет.\\\n",
    "На основе полученного результата удалось выявить актуальный период, рассмотрение которого поможет определить потенциально успешные платформы в 2017 г. **Актуальным периодом стал временной промежуток с 2012 г по текущий (т.е. 2016 г по исходным условиям).**\\\n",
    "Далее были выявлены потенциальные лидеры продаж 2017 года: PS4, XOne, 3DS, PCV, PC и WiiU, где первые 2 - явные лидеры.\\\n",
    "Для выявления признаков, способствующих увеличению продаж были проанализированы влияние оценки критиков, оценки пользователей на продажи внутри одной платформы. Во всех случаях (рассмотрены три платформы) было выявлено, что ни одна из оценок значимо не влияет на продажи (коэффициент Пирсона варьировался от -0,01 до 0,4).\\\n",
    "Были также выявлены жанры, которые лучше всего продаются, это: action, role-playing, shooter, sports. Мировые продажи игр жанра action за актуальный период составили 279.69 млн копий. Однако рассматривая медианные значения продаж видим, что на пером месте shooter, на втором - platform, на третьем - sports.\\\n",
    "После анализа глобальных продаж игр, мы углубились и составили региональные (Северная Америка. Европа, Япония) представления о популярных играх и платформах.\\\n",
    "Для увеличения продаж в Европе и Америке нужно сделать акцент в рекламе и продвижении игр в жанре action, shooter, sports/role_playing для платформ PS4, XOne, 3DS, PC и WiiU с рейтингом для взрослых (М), универсальном (Е). Также нужно интерпретировать жанр, по которму данные рейтинга изначельно отсутствовали, ведь эти игры также пользуются популярностью. \\\n",
    "Ведь для успешных продаж в Японии стоит продвигать игры в жанрах role_playing, action, misc для платформ 3DS, WiiU, PSP(!) предпочтительно с рейтингом Е/Т, а также - интерпретировать жанр, по которму данные рейтинга изначельно отсутствовали, ведь игры с данным рейтингом занимают первое место в данном регионе.\\\n",
    "Также проверили 2 нулевые гипотезы, одну из которых удалось отвергнуть. А значит, средние пользовательские рейтинги жанров Action и Sports не равны по значению, а средние пользовательские рейтинги платформ Xbox One и PC близки по значению."
   ]
  }
 ],
 "metadata": {
  "kernelspec": {
   "display_name": "Python 3",
   "language": "python",
   "name": "python3"
  },
  "language_info": {
   "codemirror_mode": {
    "name": "ipython",
    "version": 3
   },
   "file_extension": ".py",
   "mimetype": "text/x-python",
   "name": "python",
   "nbconvert_exporter": "python",
   "pygments_lexer": "ipython3",
   "version": "3.7.10"
  },
  "toc": {
   "base_numbering": 1,
   "nav_menu": {
    "height": "250px",
    "width": "346px"
   },
   "number_sections": true,
   "sideBar": true,
   "skip_h1_title": true,
   "title_cell": "Table of Contents",
   "title_sidebar": "Contents",
   "toc_cell": false,
   "toc_position": {
    "height": "calc(100% - 180px)",
    "left": "10px",
    "top": "150px",
    "width": "287px"
   },
   "toc_section_display": true,
   "toc_window_display": false
  }
 },
 "nbformat": 4,
 "nbformat_minor": 2
}
